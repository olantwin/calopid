{
 "cells": [
  {
   "cell_type": "code",
   "execution_count": null,
   "id": "0",
   "metadata": {},
   "outputs": [],
   "source": [
    "import ROOT"
   ]
  },
  {
   "cell_type": "code",
   "execution_count": null,
   "id": "1",
   "metadata": {},
   "outputs": [],
   "source": [
    "from tqdm import tqdm"
   ]
  },
  {
   "cell_type": "code",
   "execution_count": null,
   "id": "2",
   "metadata": {},
   "outputs": [],
   "source": [
    "import hist\n",
    "import matplotlib.pyplot as plt\n",
    "import scienceplots\n",
    "\n",
    "plt.style.use([\"science\", \"notebook\"])\n",
    "plt.rcParams[\"font.size\"] = 14\n",
    "plt.rcParams[\"axes.formatter.limits\"] = -5, 4\n",
    "plt.rcParams[\"figure.figsize\"] = 6, 4\n",
    "colors = plt.rcParams[\"axes.prop_cycle\"].by_key()[\"color\"]"
   ]
  },
  {
   "cell_type": "code",
   "execution_count": null,
   "id": "3",
   "metadata": {},
   "outputs": [],
   "source": [
    "h_xy = (\n",
    "    hist.Hist.new.Regular(50, -22, 26, name=r\"x\")\n",
    "    .Regular(50, -21, +28, name=r\"y\")\n",
    "    .Double()\n",
    ")"
   ]
  },
  {
   "cell_type": "code",
   "execution_count": null,
   "id": "4",
   "metadata": {},
   "outputs": [],
   "source": [
    "h_zx = (\n",
    "    hist.Hist.new.Regular(50, -200, -80, name=r\"z\")\n",
    "    .Regular(50, -22, +26, name=r\"x\")\n",
    "    .Double()\n",
    ")"
   ]
  },
  {
   "cell_type": "code",
   "execution_count": null,
   "id": "5",
   "metadata": {},
   "outputs": [],
   "source": [
    "import numpy as np"
   ]
  },
  {
   "cell_type": "code",
   "execution_count": null,
   "id": "6",
   "metadata": {},
   "outputs": [],
   "source": [
    "import pandas as pd"
   ]
  },
  {
   "cell_type": "code",
   "execution_count": null,
   "id": "7",
   "metadata": {},
   "outputs": [],
   "source": [
    "n_files = 1000"
   ]
  },
  {
   "cell_type": "code",
   "execution_count": null,
   "id": "8",
   "metadata": {},
   "outputs": [],
   "source": [
    "tree = ROOT.TChain(\"cbmsim\")\n",
    "for infile in [\n",
    "    f\"root://eospublic.cern.ch//eos/experiment/sndlhc/users/olantwin/advsnd/2024/07/nu12/CCDIS/{i + 1}/sndLHC.Genie-TGeant4_dig.root\"\n",
    "    for i in range(n_files)\n",
    "]:\n",
    "    tree.AddFile(infile)"
   ]
  },
  {
   "cell_type": "code",
   "execution_count": null,
   "id": "9",
   "metadata": {},
   "outputs": [],
   "source": [
    "ntuple = []"
   ]
  },
  {
   "cell_type": "code",
   "execution_count": null,
   "id": "10",
   "metadata": {},
   "outputs": [],
   "source": [
    "for event in tqdm(tree, \"Event loop: \", total=n_files * 100):\n",
    "    start_z = None\n",
    "    nu_energy = None\n",
    "    target_stations = {}\n",
    "    mufilter_stations = {}\n",
    "    for hit in event.Digi_AdvTargetHits:\n",
    "        detID = hit.GetDetectorID()\n",
    "        station = hit.GetStation()\n",
    "        if station not in target_stations:\n",
    "            target_stations[station] = [\n",
    "                detID,\n",
    "            ]\n",
    "        else:\n",
    "            target_stations[station].append(detID)\n",
    "\n",
    "    for hit in event.Digi_AdvMuFilterHits:\n",
    "        detID = hit.GetDetectorID()\n",
    "        station = hit.GetStation()\n",
    "        if station not in mufilter_stations:\n",
    "            mufilter_stations[station] = [\n",
    "                detID,\n",
    "            ]\n",
    "        else:\n",
    "            mufilter_stations[station].append(detID)\n",
    "    for track_id, track in enumerate(event.MCTrack):\n",
    "        match track.GetMotherId():\n",
    "            case -1:  # neutrino can't be part of shower\n",
    "                nu_energy = track.GetEnergy()\n",
    "            case 0:  # shower initiating electron\n",
    "                start_z = track.GetStartZ()\n",
    "                h_xy.fill(track.GetStartX(), track.GetStartY())\n",
    "                h_zx.fill(track.GetStartZ(), track.GetStartX())\n",
    "    energy_dep_mufilter = 0\n",
    "    for point in event.AdvMuFilterPoint:\n",
    "        energy_dep_mufilter += point.GetEnergyLoss()\n",
    "        # print(point.GetEnergyLoss())\n",
    "    energy_dep_target = 0\n",
    "    for point in event.AdvTargetPoint:\n",
    "        energy_dep_target += point.GetEnergyLoss()\n",
    "    target_strip_dict = {\n",
    "        f\"target_n_hits_station_{i}\": len(target_stations[i])\n",
    "        if i in target_stations\n",
    "        else 0\n",
    "        for i in range(100)\n",
    "    }\n",
    "    mufilter_strip_dict = {\n",
    "        f\"mufilter_n_hits_station_{i}\": len(mufilter_stations[i])\n",
    "        if i in mufilter_stations\n",
    "        else 0\n",
    "        for i in range(20)\n",
    "    }\n",
    "    ntuple.append(\n",
    "        dict(\n",
    "            {\n",
    "                \"start_z\": start_z,\n",
    "                \"nu_energy\": nu_energy,\n",
    "                \"energy_dep_target\": energy_dep_target,\n",
    "                \"energy_dep_mufilter\": energy_dep_mufilter,\n",
    "                \"target_n_hits\": len(event.Digi_AdvTargetHits),\n",
    "                \"target_n_stations\": len(target_stations),\n",
    "                \"mufilter_n_hits\": len(event.Digi_AdvMuFilterHits),\n",
    "                \"mufilter_n_stations\": len(mufilter_stations),\n",
    "            },\n",
    "            **target_strip_dict,\n",
    "            **mufilter_strip_dict,\n",
    "        )\n",
    "    )"
   ]
  },
  {
   "cell_type": "code",
   "execution_count": null,
   "id": "11",
   "metadata": {},
   "outputs": [],
   "source": [
    "df = pd.DataFrame(ntuple)"
   ]
  },
  {
   "cell_type": "code",
   "execution_count": null,
   "id": "12",
   "metadata": {},
   "outputs": [],
   "source": [
    "df"
   ]
  },
  {
   "cell_type": "code",
   "execution_count": null,
   "id": "13",
   "metadata": {},
   "outputs": [],
   "source": [
    "df.to_csv(\"features.csv\")"
   ]
  },
  {
   "cell_type": "code",
   "execution_count": null,
   "id": "14",
   "metadata": {},
   "outputs": [],
   "source": [
    "h_xy.plot()\n",
    "plt.xlabel(r\"$x\\;[\\mathrm{cm}]$\")\n",
    "plt.ylabel(r\"$y\\;[\\mathrm{cm}]$\")\n",
    "ax = plt.gca()\n",
    "plt.text(\n",
    "    0.8,\n",
    "    1.02,\n",
    "    \"AdvSND\",\n",
    "    fontweight=\"bold\",\n",
    "    fontfamily=\"sans-serif\",\n",
    "    fontsize=16,\n",
    "    transform=ax.transAxes,\n",
    "    usetex=False,\n",
    ")\n",
    "plt.text(\n",
    "    0.0,\n",
    "    1.02,\n",
    "    \"preliminary\",\n",
    "    fontfamily=\"sans-serif\",\n",
    "    fontsize=16,\n",
    "    transform=ax.transAxes,\n",
    "    usetex=False,\n",
    ")\n",
    "plt.savefig(\"plots/h_xy.pdf\")\n",
    "plt.savefig(\"plots/h_xy.png\")"
   ]
  },
  {
   "cell_type": "code",
   "execution_count": null,
   "id": "15",
   "metadata": {},
   "outputs": [],
   "source": [
    "h_zx.plot()\n",
    "plt.xlabel(r\"$z\\;[\\mathrm{cm}]$\")\n",
    "plt.ylabel(r\"$x\\;[\\mathrm{cm}]$\")\n",
    "ax = plt.gca()\n",
    "plt.text(\n",
    "    0.8,\n",
    "    1.02,\n",
    "    \"AdvSND\",\n",
    "    fontweight=\"bold\",\n",
    "    fontfamily=\"sans-serif\",\n",
    "    fontsize=16,\n",
    "    transform=ax.transAxes,\n",
    "    usetex=False,\n",
    ")\n",
    "plt.text(\n",
    "    0.0,\n",
    "    1.02,\n",
    "    \"preliminary\",\n",
    "    fontfamily=\"sans-serif\",\n",
    "    fontsize=16,\n",
    "    transform=ax.transAxes,\n",
    "    usetex=False,\n",
    ")\n",
    "plt.savefig(\"plots/h_zx.pdf\")\n",
    "plt.savefig(\"plots/h_zx.png\")"
   ]
  },
  {
   "cell_type": "code",
   "execution_count": null,
   "id": "16",
   "metadata": {},
   "outputs": [],
   "source": []
  }
 ],
 "metadata": {
  "kernelspec": {
   "display_name": "Python 3 (ipykernel)",
   "language": "python",
   "name": "python3"
  },
  "language_info": {
   "codemirror_mode": {
    "name": "ipython",
    "version": 3
   },
   "file_extension": ".py",
   "mimetype": "text/x-python",
   "name": "python",
   "nbconvert_exporter": "python",
   "pygments_lexer": "ipython3",
   "version": "3.12.4"
  }
 },
 "nbformat": 4,
 "nbformat_minor": 5
}
