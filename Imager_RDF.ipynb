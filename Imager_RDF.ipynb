{
 "cells": [
  {
   "cell_type": "code",
   "execution_count": null,
   "id": "0",
   "metadata": {},
   "outputs": [],
   "source": [
    "import ROOT"
   ]
  },
  {
   "cell_type": "code",
   "execution_count": null,
   "id": "1",
   "metadata": {},
   "outputs": [],
   "source": [
    "ROOT.EnableImplicitMT()"
   ]
  },
  {
   "cell_type": "code",
   "execution_count": null,
   "id": "2",
   "metadata": {},
   "outputs": [],
   "source": [
    "import pandas as pd"
   ]
  },
  {
   "cell_type": "code",
   "execution_count": null,
   "id": "3",
   "metadata": {},
   "outputs": [],
   "source": [
    "import numpy as np"
   ]
  },
  {
   "cell_type": "code",
   "execution_count": null,
   "id": "4",
   "metadata": {},
   "outputs": [],
   "source": [
    "from tqdm import tqdm"
   ]
  },
  {
   "cell_type": "code",
   "execution_count": null,
   "id": "5",
   "metadata": {},
   "outputs": [],
   "source": [
    "n_files = 10\n",
    "n_events_per_file = 100\n",
    "n_event = n_files * n_events_per_file"
   ]
  },
  {
   "cell_type": "code",
   "execution_count": null,
   "id": "6",
   "metadata": {},
   "outputs": [],
   "source": [
    "df = ROOT.ROOT.RDataFrame(\n",
    "    \"cbmsim\",\n",
    "    [\n",
    "        f\"root://eospublic.cern.ch//eos/experiment/sndlhc/users/olantwin/advsnd/2024/07/nu12/CCDIS/{i + 1}/sndLHC.Genie-TGeant4_dig.root\"\n",
    "        for i in range(n_files)\n",
    "    ],\n",
    ")"
   ]
  },
  {
   "cell_type": "code",
   "execution_count": null,
   "id": "7",
   "metadata": {},
   "outputs": [],
   "source": [
    "df = df.Filter(\"Digi_AdvMuFilterHits.GetEntries() || Digi_AdvTargetHits.GetEntries()\")"
   ]
  },
  {
   "cell_type": "code",
   "execution_count": null,
   "id": "8",
   "metadata": {},
   "outputs": [],
   "source": [
    "ROOT.gInterpreter.ProcessLine('#include \"ShipMCTrack.h\"')\n",
    "ROOT.gInterpreter.ProcessLine('#include \"AdvTargetHit.h\"')\n",
    "ROOT.gInterpreter.ProcessLine('#include \"AdvMuFilterHit.h\"')"
   ]
  },
  {
   "cell_type": "code",
   "execution_count": null,
   "id": "9",
   "metadata": {},
   "outputs": [],
   "source": [
    "ROOT.gInterpreter.Declare(\"\"\"\n",
    "int station_from_id(int id) {\n",
    "    return id >>17;\n",
    "}\n",
    "\"\"\")\n",
    "ROOT.gInterpreter.Declare(\"\"\"\n",
    "int column_from_id(int id) {\n",
    "    return (id >> 11) % 4;\n",
    "}\n",
    "\"\"\")\n",
    "ROOT.gInterpreter.Declare(\"\"\"\n",
    "int sensor_from_id(int id) {\n",
    "    return (id >> 10) % 2;\n",
    "}\n",
    "\"\"\")\n",
    "ROOT.gInterpreter.Declare(\"\"\"\n",
    "int strip_from_id(int id) {\n",
    "    return (id) % 1024;\n",
    "}\n",
    "\"\"\")\n",
    "ROOT.gInterpreter.Declare(\"\"\"\n",
    "int plane_from_id(int id) {\n",
    "    return (id >> 16) % 2;\n",
    "}\n",
    "\"\"\")\n",
    "ROOT.gInterpreter.Declare(\"\"\"\n",
    " template<typename T>\n",
    " ROOT::RVec<T> Deduplicate (ROOT::RVec<T> v){\n",
    "    std::sort(v.begin(), v.end());\n",
    "    auto last = std::unique(v.begin(), v.end());\n",
    "    v.erase(last, v.end());\n",
    "    return v;\n",
    "}\n",
    "\"\"\")"
   ]
  },
  {
   "cell_type": "code",
   "execution_count": null,
   "id": "10",
   "metadata": {},
   "outputs": [],
   "source": [
    "df = df.Define(\"start_z\", \"dynamic_cast<ShipMCTrack*>(MCTrack[1])->GetStartZ()\")\n",
    "df = df.Define(\"nu_energy\", \"dynamic_cast<ShipMCTrack*>(MCTrack[0])->GetEnergy()\")\n",
    "df = df.Define(\"energy_dep_target\", \"Sum(AdvTargetPoint.fELoss)\")\n",
    "df = df.Define(\"energy_dep_mufilter\", \"Sum(AdvMuFilterPoint.fELoss)\")"
   ]
  },
  {
   "cell_type": "code",
   "execution_count": null,
   "id": "11",
   "metadata": {},
   "outputs": [],
   "source": [
    "df = df.Define(\"stations\", \"Map(Digi_AdvTargetHits.fDetectorID, station_from_id)\")\n",
    "df = df.Define(\"columns\", \"Map(Digi_AdvTargetHits.fDetectorID, column_from_id)\")\n",
    "df = df.Define(\"sensors\", \"Map(Digi_AdvTargetHits.fDetectorID, sensor_from_id)\")\n",
    "df = df.Define(\"strips\", \"Map(Digi_AdvTargetHits.fDetectorID, strip_from_id)\")\n",
    "df = df.Define(\"planes\", \"Map(Digi_AdvTargetHits.fDetectorID, plane_from_id)\")\n",
    "df = df.Define(\n",
    "    \"indices\",\n",
    "    \"(4 * columns + sensors - 2 * columns * sensors) * 768 + pow(-1, columns) * strips - 1 * columns\",\n",
    ")"
   ]
  },
  {
   "cell_type": "code",
   "execution_count": null,
   "id": "12",
   "metadata": {},
   "outputs": [],
   "source": [
    "col_names = [\n",
    "    \"start_z\",\n",
    "    \"nu_energy\",\n",
    "    \"energy_dep_target\",\n",
    "    \"energy_dep_mufilter\",\n",
    "    \"indices\",\n",
    "    \"stations\",\n",
    "    \"planes\",\n",
    "]"
   ]
  },
  {
   "cell_type": "code",
   "execution_count": null,
   "id": "13",
   "metadata": {},
   "outputs": [],
   "source": [
    "cols = df.AsNumpy(col_names)"
   ]
  },
  {
   "cell_type": "code",
   "execution_count": null,
   "id": "14",
   "metadata": {},
   "outputs": [],
   "source": [
    "hitmaps = np.zeros((n_event, 3072, 200))"
   ]
  },
  {
   "cell_type": "code",
   "execution_count": null,
   "id": "15",
   "metadata": {},
   "outputs": [],
   "source": [
    "for event in tqdm(range(n_event)):\n",
    "    indices = np.array(cols[\"indices\"][event], dtype=int)\n",
    "    stations = np.array(cols[\"stations\"][event], dtype=int)\n",
    "    planes = np.array(cols[\"planes\"][event], dtype=int)\n",
    "    hitmaps[event, indices, 2 * stations + planes] = 1"
   ]
  },
  {
   "cell_type": "code",
   "execution_count": null,
   "id": "16",
   "metadata": {},
   "outputs": [],
   "source": [
    "np.save(f\"images_{n_event}.npy\", hitmaps)"
   ]
  },
  {
   "cell_type": "code",
   "execution_count": null,
   "id": "17",
   "metadata": {},
   "outputs": [],
   "source": [
    "pandas_df = pd.DataFrame(cols)"
   ]
  },
  {
   "cell_type": "code",
   "execution_count": null,
   "id": "18",
   "metadata": {},
   "outputs": [],
   "source": [
    "pandas_df.pop(\"stations\")\n",
    "pandas_df.pop(\"indices\")\n",
    "pandas_df.pop(\"planes\")"
   ]
  },
  {
   "cell_type": "code",
   "execution_count": null,
   "id": "19",
   "metadata": {},
   "outputs": [],
   "source": [
    "pandas_df.to_csv(f\"features_CNN_{n_event}.csv\")"
   ]
  },
  {
   "cell_type": "code",
   "execution_count": null,
   "id": "20",
   "metadata": {},
   "outputs": [],
   "source": []
  }
 ],
 "metadata": {
  "kernelspec": {
   "display_name": "Python 3 (ipykernel)",
   "language": "python",
   "name": "python3"
  },
  "language_info": {
   "codemirror_mode": {
    "name": "ipython",
    "version": 3
   },
   "file_extension": ".py",
   "mimetype": "text/x-python",
   "name": "python",
   "nbconvert_exporter": "python",
   "pygments_lexer": "ipython3",
   "version": "3.12.4"
  }
 },
 "nbformat": 4,
 "nbformat_minor": 5
}
