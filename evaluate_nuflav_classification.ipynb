{
 "cells": [
  {
   "cell_type": "markdown",
   "id": "b675e66e-80d7-4a1c-a878-b5a479b8cda6",
   "metadata": {},
   "source": [
    "# Evaluation of CNN classification performance"
   ]
  },
  {
   "cell_type": "code",
   "execution_count": 1,
   "id": "f2d8a905-799d-49a7-bf99-b76cc9e7f9f2",
   "metadata": {},
   "outputs": [],
   "source": [
    "muonic = False\n",
    "hadronic = not muonic"
   ]
  },
  {
   "cell_type": "code",
   "execution_count": 2,
   "id": "d16cfde3-ec7f-4fcf-8169-4207ca092285",
   "metadata": {},
   "outputs": [],
   "source": [
    "import numpy as np"
   ]
  },
  {
   "cell_type": "code",
   "execution_count": 3,
   "id": "11144f7b-0cd4-4fba-b575-4532f54428b3",
   "metadata": {},
   "outputs": [
    {
     "name": "stderr",
     "output_type": "stream",
     "text": [
      "2025-01-29 13:32:01.692934: I tensorflow/core/util/port.cc:153] oneDNN custom operations are on. You may see slightly different numerical results due to floating-point round-off errors from different computation orders. To turn them off, set the environment variable `TF_ENABLE_ONEDNN_OPTS=0`.\n",
      "2025-01-29 13:32:01.726164: E external/local_xla/xla/stream_executor/cuda/cuda_fft.cc:477] Unable to register cuFFT factory: Attempting to register factory for plugin cuFFT when one has already been registered\n",
      "WARNING: All log messages before absl::InitializeLog() is called are written to STDERR\n",
      "E0000 00:00:1738153921.752962   75862 cuda_dnn.cc:8310] Unable to register cuDNN factory: Attempting to register factory for plugin cuDNN when one has already been registered\n",
      "E0000 00:00:1738153921.761273   75862 cuda_blas.cc:1418] Unable to register cuBLAS factory: Attempting to register factory for plugin cuBLAS when one has already been registered\n",
      "2025-01-29 13:32:01.792173: I tensorflow/core/platform/cpu_feature_guard.cc:210] This TensorFlow binary is optimized to use available CPU instructions in performance-critical operations.\n",
      "To enable the following instructions: AVX2 AVX512F AVX512_VNNI FMA, in other operations, rebuild TensorFlow with the appropriate compiler flags.\n"
     ]
    }
   ],
   "source": [
    "import tensorflow as tf"
   ]
  },
  {
   "cell_type": "code",
   "execution_count": 4,
   "id": "71f66b92-2d2a-49fc-857e-3e3712e42511",
   "metadata": {},
   "outputs": [],
   "source": [
    "from sklearn.preprocessing import LabelEncoder"
   ]
  },
  {
   "cell_type": "code",
   "execution_count": 5,
   "id": "d5ff0d04-29f9-4d00-9bc5-7147e4209888",
   "metadata": {},
   "outputs": [],
   "source": [
    "le = LabelEncoder()"
   ]
  },
  {
   "cell_type": "code",
   "execution_count": 6,
   "id": "f16bba38-f939-4cb6-81b0-ef51622ff7a5",
   "metadata": {},
   "outputs": [],
   "source": [
    "from preprocessing import reshape_data"
   ]
  },
  {
   "cell_type": "code",
   "execution_count": 7,
   "id": "bcf68ae0-fdbc-4b83-a449-f84bfcee1e32",
   "metadata": {},
   "outputs": [],
   "source": [
    "import uproot"
   ]
  },
  {
   "cell_type": "code",
   "execution_count": 11,
   "id": "de1cb5ec-0dee-4d76-ad2c-f68fe0811bc9",
   "metadata": {},
   "outputs": [],
   "source": [
    "import matplotlib.pyplot as plt\n",
    "\n",
    "# plt.style.use([\"science\", \"notebook\"])"
   ]
  },
  {
   "cell_type": "code",
   "execution_count": 12,
   "id": "789a82c5-2210-42f0-a20e-a098a7bd6c6a",
   "metadata": {},
   "outputs": [],
   "source": [
    "plt.rcParams[\"font.size\"] = 14\n",
    "plt.rcParams[\"axes.formatter.limits\"] = -5, 4\n",
    "plt.rcParams[\"figure.figsize\"] = 6, 4\n",
    "colors = plt.rcParams[\"axes.prop_cycle\"].by_key()[\"color\"]"
   ]
  },
  {
   "cell_type": "code",
   "execution_count": 13,
   "id": "0b709778-d5d7-41d6-a5f8-8d0149d5a985",
   "metadata": {},
   "outputs": [],
   "source": [
    "filename_test = \"df_nu_CC_muonic_equal_test.root:df\""
   ]
  },
  {
   "cell_type": "code",
   "execution_count": 14,
   "id": "a2d86958-69b6-4cdc-8003-c6dc3b05fe03",
   "metadata": {},
   "outputs": [],
   "source": [
    "events_test = uproot.open(filename_test)"
   ]
  },
  {
   "cell_type": "code",
   "execution_count": 15,
   "id": "deb388ed-0929-4d1e-a4e9-31754f5fd304",
   "metadata": {},
   "outputs": [],
   "source": [
    "target = \"nu_flavour\"\n",
    "\n",
    "target_pretty = \"flavour\"\n",
    "target_LaTeX = \"flavour\""
   ]
  },
  {
   "cell_type": "code",
   "execution_count": 16,
   "id": "73afc745-fcb9-4592-a1d7-2f8d4a5073a1",
   "metadata": {},
   "outputs": [
    {
     "data": {
      "text/plain": [
       "1865"
      ]
     },
     "execution_count": 16,
     "metadata": {},
     "output_type": "execute_result"
    }
   ],
   "source": [
    "events_test[target].num_entries"
   ]
  },
  {
   "cell_type": "code",
   "execution_count": 17,
   "id": "3d9383fd-e6b5-4bb5-ad97-9f208145c49d",
   "metadata": {},
   "outputs": [],
   "source": [
    "y = np.abs(events_test[target])"
   ]
  },
  {
   "cell_type": "code",
   "execution_count": 18,
   "id": "d773cc5f-9b3d-405e-b3af-a7cd3dcc546a",
   "metadata": {},
   "outputs": [
    {
     "data": {
      "text/html": [
       "<style>#sk-container-id-1 {\n",
       "  /* Definition of color scheme common for light and dark mode */\n",
       "  --sklearn-color-text: black;\n",
       "  --sklearn-color-line: gray;\n",
       "  /* Definition of color scheme for unfitted estimators */\n",
       "  --sklearn-color-unfitted-level-0: #fff5e6;\n",
       "  --sklearn-color-unfitted-level-1: #f6e4d2;\n",
       "  --sklearn-color-unfitted-level-2: #ffe0b3;\n",
       "  --sklearn-color-unfitted-level-3: chocolate;\n",
       "  /* Definition of color scheme for fitted estimators */\n",
       "  --sklearn-color-fitted-level-0: #f0f8ff;\n",
       "  --sklearn-color-fitted-level-1: #d4ebff;\n",
       "  --sklearn-color-fitted-level-2: #b3dbfd;\n",
       "  --sklearn-color-fitted-level-3: cornflowerblue;\n",
       "\n",
       "  /* Specific color for light theme */\n",
       "  --sklearn-color-text-on-default-background: var(--sg-text-color, var(--theme-code-foreground, var(--jp-content-font-color1, black)));\n",
       "  --sklearn-color-background: var(--sg-background-color, var(--theme-background, var(--jp-layout-color0, white)));\n",
       "  --sklearn-color-border-box: var(--sg-text-color, var(--theme-code-foreground, var(--jp-content-font-color1, black)));\n",
       "  --sklearn-color-icon: #696969;\n",
       "\n",
       "  @media (prefers-color-scheme: dark) {\n",
       "    /* Redefinition of color scheme for dark theme */\n",
       "    --sklearn-color-text-on-default-background: var(--sg-text-color, var(--theme-code-foreground, var(--jp-content-font-color1, white)));\n",
       "    --sklearn-color-background: var(--sg-background-color, var(--theme-background, var(--jp-layout-color0, #111)));\n",
       "    --sklearn-color-border-box: var(--sg-text-color, var(--theme-code-foreground, var(--jp-content-font-color1, white)));\n",
       "    --sklearn-color-icon: #878787;\n",
       "  }\n",
       "}\n",
       "\n",
       "#sk-container-id-1 {\n",
       "  color: var(--sklearn-color-text);\n",
       "}\n",
       "\n",
       "#sk-container-id-1 pre {\n",
       "  padding: 0;\n",
       "}\n",
       "\n",
       "#sk-container-id-1 input.sk-hidden--visually {\n",
       "  border: 0;\n",
       "  clip: rect(1px 1px 1px 1px);\n",
       "  clip: rect(1px, 1px, 1px, 1px);\n",
       "  height: 1px;\n",
       "  margin: -1px;\n",
       "  overflow: hidden;\n",
       "  padding: 0;\n",
       "  position: absolute;\n",
       "  width: 1px;\n",
       "}\n",
       "\n",
       "#sk-container-id-1 div.sk-dashed-wrapped {\n",
       "  border: 1px dashed var(--sklearn-color-line);\n",
       "  margin: 0 0.4em 0.5em 0.4em;\n",
       "  box-sizing: border-box;\n",
       "  padding-bottom: 0.4em;\n",
       "  background-color: var(--sklearn-color-background);\n",
       "}\n",
       "\n",
       "#sk-container-id-1 div.sk-container {\n",
       "  /* jupyter's `normalize.less` sets `[hidden] { display: none; }`\n",
       "     but bootstrap.min.css set `[hidden] { display: none !important; }`\n",
       "     so we also need the `!important` here to be able to override the\n",
       "     default hidden behavior on the sphinx rendered scikit-learn.org.\n",
       "     See: https://github.com/scikit-learn/scikit-learn/issues/21755 */\n",
       "  display: inline-block !important;\n",
       "  position: relative;\n",
       "}\n",
       "\n",
       "#sk-container-id-1 div.sk-text-repr-fallback {\n",
       "  display: none;\n",
       "}\n",
       "\n",
       "div.sk-parallel-item,\n",
       "div.sk-serial,\n",
       "div.sk-item {\n",
       "  /* draw centered vertical line to link estimators */\n",
       "  background-image: linear-gradient(var(--sklearn-color-text-on-default-background), var(--sklearn-color-text-on-default-background));\n",
       "  background-size: 2px 100%;\n",
       "  background-repeat: no-repeat;\n",
       "  background-position: center center;\n",
       "}\n",
       "\n",
       "/* Parallel-specific style estimator block */\n",
       "\n",
       "#sk-container-id-1 div.sk-parallel-item::after {\n",
       "  content: \"\";\n",
       "  width: 100%;\n",
       "  border-bottom: 2px solid var(--sklearn-color-text-on-default-background);\n",
       "  flex-grow: 1;\n",
       "}\n",
       "\n",
       "#sk-container-id-1 div.sk-parallel {\n",
       "  display: flex;\n",
       "  align-items: stretch;\n",
       "  justify-content: center;\n",
       "  background-color: var(--sklearn-color-background);\n",
       "  position: relative;\n",
       "}\n",
       "\n",
       "#sk-container-id-1 div.sk-parallel-item {\n",
       "  display: flex;\n",
       "  flex-direction: column;\n",
       "}\n",
       "\n",
       "#sk-container-id-1 div.sk-parallel-item:first-child::after {\n",
       "  align-self: flex-end;\n",
       "  width: 50%;\n",
       "}\n",
       "\n",
       "#sk-container-id-1 div.sk-parallel-item:last-child::after {\n",
       "  align-self: flex-start;\n",
       "  width: 50%;\n",
       "}\n",
       "\n",
       "#sk-container-id-1 div.sk-parallel-item:only-child::after {\n",
       "  width: 0;\n",
       "}\n",
       "\n",
       "/* Serial-specific style estimator block */\n",
       "\n",
       "#sk-container-id-1 div.sk-serial {\n",
       "  display: flex;\n",
       "  flex-direction: column;\n",
       "  align-items: center;\n",
       "  background-color: var(--sklearn-color-background);\n",
       "  padding-right: 1em;\n",
       "  padding-left: 1em;\n",
       "}\n",
       "\n",
       "\n",
       "/* Toggleable style: style used for estimator/Pipeline/ColumnTransformer box that is\n",
       "clickable and can be expanded/collapsed.\n",
       "- Pipeline and ColumnTransformer use this feature and define the default style\n",
       "- Estimators will overwrite some part of the style using the `sk-estimator` class\n",
       "*/\n",
       "\n",
       "/* Pipeline and ColumnTransformer style (default) */\n",
       "\n",
       "#sk-container-id-1 div.sk-toggleable {\n",
       "  /* Default theme specific background. It is overwritten whether we have a\n",
       "  specific estimator or a Pipeline/ColumnTransformer */\n",
       "  background-color: var(--sklearn-color-background);\n",
       "}\n",
       "\n",
       "/* Toggleable label */\n",
       "#sk-container-id-1 label.sk-toggleable__label {\n",
       "  cursor: pointer;\n",
       "  display: block;\n",
       "  width: 100%;\n",
       "  margin-bottom: 0;\n",
       "  padding: 0.5em;\n",
       "  box-sizing: border-box;\n",
       "  text-align: center;\n",
       "}\n",
       "\n",
       "#sk-container-id-1 label.sk-toggleable__label-arrow:before {\n",
       "  /* Arrow on the left of the label */\n",
       "  content: \"▸\";\n",
       "  float: left;\n",
       "  margin-right: 0.25em;\n",
       "  color: var(--sklearn-color-icon);\n",
       "}\n",
       "\n",
       "#sk-container-id-1 label.sk-toggleable__label-arrow:hover:before {\n",
       "  color: var(--sklearn-color-text);\n",
       "}\n",
       "\n",
       "/* Toggleable content - dropdown */\n",
       "\n",
       "#sk-container-id-1 div.sk-toggleable__content {\n",
       "  max-height: 0;\n",
       "  max-width: 0;\n",
       "  overflow: hidden;\n",
       "  text-align: left;\n",
       "  /* unfitted */\n",
       "  background-color: var(--sklearn-color-unfitted-level-0);\n",
       "}\n",
       "\n",
       "#sk-container-id-1 div.sk-toggleable__content.fitted {\n",
       "  /* fitted */\n",
       "  background-color: var(--sklearn-color-fitted-level-0);\n",
       "}\n",
       "\n",
       "#sk-container-id-1 div.sk-toggleable__content pre {\n",
       "  margin: 0.2em;\n",
       "  border-radius: 0.25em;\n",
       "  color: var(--sklearn-color-text);\n",
       "  /* unfitted */\n",
       "  background-color: var(--sklearn-color-unfitted-level-0);\n",
       "}\n",
       "\n",
       "#sk-container-id-1 div.sk-toggleable__content.fitted pre {\n",
       "  /* unfitted */\n",
       "  background-color: var(--sklearn-color-fitted-level-0);\n",
       "}\n",
       "\n",
       "#sk-container-id-1 input.sk-toggleable__control:checked~div.sk-toggleable__content {\n",
       "  /* Expand drop-down */\n",
       "  max-height: 200px;\n",
       "  max-width: 100%;\n",
       "  overflow: auto;\n",
       "}\n",
       "\n",
       "#sk-container-id-1 input.sk-toggleable__control:checked~label.sk-toggleable__label-arrow:before {\n",
       "  content: \"▾\";\n",
       "}\n",
       "\n",
       "/* Pipeline/ColumnTransformer-specific style */\n",
       "\n",
       "#sk-container-id-1 div.sk-label input.sk-toggleable__control:checked~label.sk-toggleable__label {\n",
       "  color: var(--sklearn-color-text);\n",
       "  background-color: var(--sklearn-color-unfitted-level-2);\n",
       "}\n",
       "\n",
       "#sk-container-id-1 div.sk-label.fitted input.sk-toggleable__control:checked~label.sk-toggleable__label {\n",
       "  background-color: var(--sklearn-color-fitted-level-2);\n",
       "}\n",
       "\n",
       "/* Estimator-specific style */\n",
       "\n",
       "/* Colorize estimator box */\n",
       "#sk-container-id-1 div.sk-estimator input.sk-toggleable__control:checked~label.sk-toggleable__label {\n",
       "  /* unfitted */\n",
       "  background-color: var(--sklearn-color-unfitted-level-2);\n",
       "}\n",
       "\n",
       "#sk-container-id-1 div.sk-estimator.fitted input.sk-toggleable__control:checked~label.sk-toggleable__label {\n",
       "  /* fitted */\n",
       "  background-color: var(--sklearn-color-fitted-level-2);\n",
       "}\n",
       "\n",
       "#sk-container-id-1 div.sk-label label.sk-toggleable__label,\n",
       "#sk-container-id-1 div.sk-label label {\n",
       "  /* The background is the default theme color */\n",
       "  color: var(--sklearn-color-text-on-default-background);\n",
       "}\n",
       "\n",
       "/* On hover, darken the color of the background */\n",
       "#sk-container-id-1 div.sk-label:hover label.sk-toggleable__label {\n",
       "  color: var(--sklearn-color-text);\n",
       "  background-color: var(--sklearn-color-unfitted-level-2);\n",
       "}\n",
       "\n",
       "/* Label box, darken color on hover, fitted */\n",
       "#sk-container-id-1 div.sk-label.fitted:hover label.sk-toggleable__label.fitted {\n",
       "  color: var(--sklearn-color-text);\n",
       "  background-color: var(--sklearn-color-fitted-level-2);\n",
       "}\n",
       "\n",
       "/* Estimator label */\n",
       "\n",
       "#sk-container-id-1 div.sk-label label {\n",
       "  font-family: monospace;\n",
       "  font-weight: bold;\n",
       "  display: inline-block;\n",
       "  line-height: 1.2em;\n",
       "}\n",
       "\n",
       "#sk-container-id-1 div.sk-label-container {\n",
       "  text-align: center;\n",
       "}\n",
       "\n",
       "/* Estimator-specific */\n",
       "#sk-container-id-1 div.sk-estimator {\n",
       "  font-family: monospace;\n",
       "  border: 1px dotted var(--sklearn-color-border-box);\n",
       "  border-radius: 0.25em;\n",
       "  box-sizing: border-box;\n",
       "  margin-bottom: 0.5em;\n",
       "  /* unfitted */\n",
       "  background-color: var(--sklearn-color-unfitted-level-0);\n",
       "}\n",
       "\n",
       "#sk-container-id-1 div.sk-estimator.fitted {\n",
       "  /* fitted */\n",
       "  background-color: var(--sklearn-color-fitted-level-0);\n",
       "}\n",
       "\n",
       "/* on hover */\n",
       "#sk-container-id-1 div.sk-estimator:hover {\n",
       "  /* unfitted */\n",
       "  background-color: var(--sklearn-color-unfitted-level-2);\n",
       "}\n",
       "\n",
       "#sk-container-id-1 div.sk-estimator.fitted:hover {\n",
       "  /* fitted */\n",
       "  background-color: var(--sklearn-color-fitted-level-2);\n",
       "}\n",
       "\n",
       "/* Specification for estimator info (e.g. \"i\" and \"?\") */\n",
       "\n",
       "/* Common style for \"i\" and \"?\" */\n",
       "\n",
       ".sk-estimator-doc-link,\n",
       "a:link.sk-estimator-doc-link,\n",
       "a:visited.sk-estimator-doc-link {\n",
       "  float: right;\n",
       "  font-size: smaller;\n",
       "  line-height: 1em;\n",
       "  font-family: monospace;\n",
       "  background-color: var(--sklearn-color-background);\n",
       "  border-radius: 1em;\n",
       "  height: 1em;\n",
       "  width: 1em;\n",
       "  text-decoration: none !important;\n",
       "  margin-left: 1ex;\n",
       "  /* unfitted */\n",
       "  border: var(--sklearn-color-unfitted-level-1) 1pt solid;\n",
       "  color: var(--sklearn-color-unfitted-level-1);\n",
       "}\n",
       "\n",
       ".sk-estimator-doc-link.fitted,\n",
       "a:link.sk-estimator-doc-link.fitted,\n",
       "a:visited.sk-estimator-doc-link.fitted {\n",
       "  /* fitted */\n",
       "  border: var(--sklearn-color-fitted-level-1) 1pt solid;\n",
       "  color: var(--sklearn-color-fitted-level-1);\n",
       "}\n",
       "\n",
       "/* On hover */\n",
       "div.sk-estimator:hover .sk-estimator-doc-link:hover,\n",
       ".sk-estimator-doc-link:hover,\n",
       "div.sk-label-container:hover .sk-estimator-doc-link:hover,\n",
       ".sk-estimator-doc-link:hover {\n",
       "  /* unfitted */\n",
       "  background-color: var(--sklearn-color-unfitted-level-3);\n",
       "  color: var(--sklearn-color-background);\n",
       "  text-decoration: none;\n",
       "}\n",
       "\n",
       "div.sk-estimator.fitted:hover .sk-estimator-doc-link.fitted:hover,\n",
       ".sk-estimator-doc-link.fitted:hover,\n",
       "div.sk-label-container:hover .sk-estimator-doc-link.fitted:hover,\n",
       ".sk-estimator-doc-link.fitted:hover {\n",
       "  /* fitted */\n",
       "  background-color: var(--sklearn-color-fitted-level-3);\n",
       "  color: var(--sklearn-color-background);\n",
       "  text-decoration: none;\n",
       "}\n",
       "\n",
       "/* Span, style for the box shown on hovering the info icon */\n",
       ".sk-estimator-doc-link span {\n",
       "  display: none;\n",
       "  z-index: 9999;\n",
       "  position: relative;\n",
       "  font-weight: normal;\n",
       "  right: .2ex;\n",
       "  padding: .5ex;\n",
       "  margin: .5ex;\n",
       "  width: min-content;\n",
       "  min-width: 20ex;\n",
       "  max-width: 50ex;\n",
       "  color: var(--sklearn-color-text);\n",
       "  box-shadow: 2pt 2pt 4pt #999;\n",
       "  /* unfitted */\n",
       "  background: var(--sklearn-color-unfitted-level-0);\n",
       "  border: .5pt solid var(--sklearn-color-unfitted-level-3);\n",
       "}\n",
       "\n",
       ".sk-estimator-doc-link.fitted span {\n",
       "  /* fitted */\n",
       "  background: var(--sklearn-color-fitted-level-0);\n",
       "  border: var(--sklearn-color-fitted-level-3);\n",
       "}\n",
       "\n",
       ".sk-estimator-doc-link:hover span {\n",
       "  display: block;\n",
       "}\n",
       "\n",
       "/* \"?\"-specific style due to the `<a>` HTML tag */\n",
       "\n",
       "#sk-container-id-1 a.estimator_doc_link {\n",
       "  float: right;\n",
       "  font-size: 1rem;\n",
       "  line-height: 1em;\n",
       "  font-family: monospace;\n",
       "  background-color: var(--sklearn-color-background);\n",
       "  border-radius: 1rem;\n",
       "  height: 1rem;\n",
       "  width: 1rem;\n",
       "  text-decoration: none;\n",
       "  /* unfitted */\n",
       "  color: var(--sklearn-color-unfitted-level-1);\n",
       "  border: var(--sklearn-color-unfitted-level-1) 1pt solid;\n",
       "}\n",
       "\n",
       "#sk-container-id-1 a.estimator_doc_link.fitted {\n",
       "  /* fitted */\n",
       "  border: var(--sklearn-color-fitted-level-1) 1pt solid;\n",
       "  color: var(--sklearn-color-fitted-level-1);\n",
       "}\n",
       "\n",
       "/* On hover */\n",
       "#sk-container-id-1 a.estimator_doc_link:hover {\n",
       "  /* unfitted */\n",
       "  background-color: var(--sklearn-color-unfitted-level-3);\n",
       "  color: var(--sklearn-color-background);\n",
       "  text-decoration: none;\n",
       "}\n",
       "\n",
       "#sk-container-id-1 a.estimator_doc_link.fitted:hover {\n",
       "  /* fitted */\n",
       "  background-color: var(--sklearn-color-fitted-level-3);\n",
       "}\n",
       "</style><div id=\"sk-container-id-1\" class=\"sk-top-container\"><div class=\"sk-text-repr-fallback\"><pre>LabelEncoder()</pre><b>In a Jupyter environment, please rerun this cell to show the HTML representation or trust the notebook. <br />On GitHub, the HTML representation is unable to render, please try loading this page with nbviewer.org.</b></div><div class=\"sk-container\" hidden><div class=\"sk-item\"><div class=\"sk-estimator fitted sk-toggleable\"><input class=\"sk-toggleable__control sk-hidden--visually\" id=\"sk-estimator-id-1\" type=\"checkbox\" checked><label for=\"sk-estimator-id-1\" class=\"sk-toggleable__label fitted sk-toggleable__label-arrow fitted\">&nbsp;&nbsp;LabelEncoder<a class=\"sk-estimator-doc-link fitted\" rel=\"noreferrer\" target=\"_blank\" href=\"https://scikit-learn.org/1.5/modules/generated/sklearn.preprocessing.LabelEncoder.html\">?<span>Documentation for LabelEncoder</span></a><span class=\"sk-estimator-doc-link fitted\">i<span>Fitted</span></span></label><div class=\"sk-toggleable__content fitted\"><pre>LabelEncoder()</pre></div> </div></div></div></div>"
      ],
      "text/plain": [
       "LabelEncoder()"
      ]
     },
     "execution_count": 18,
     "metadata": {},
     "output_type": "execute_result"
    }
   ],
   "source": [
    "le.fit(y)"
   ]
  },
  {
   "cell_type": "code",
   "execution_count": 19,
   "id": "6a6ccda0-0abc-4942-b6d5-0ed18dae40ce",
   "metadata": {},
   "outputs": [
    {
     "data": {
      "text/plain": [
       "array([14, 16])"
      ]
     },
     "execution_count": 19,
     "metadata": {},
     "output_type": "execute_result"
    }
   ],
   "source": [
    "le.classes_"
   ]
  },
  {
   "cell_type": "code",
   "execution_count": 20,
   "id": "f77a16f9-fb6e-4b3c-85bd-9da309580906",
   "metadata": {},
   "outputs": [],
   "source": [
    "def event_generator():\n",
    "    events = events_test\n",
    "    for batch, report in events.iterate(step_size=1, report=True, library=\"np\"):\n",
    "        ys = le.transform(np.abs(batch[target]))\n",
    "        for i in range(batch[\"X\"].shape[0]):\n",
    "            yield (\n",
    "                batch[\"X\"].astype(np.float16)[i],\n",
    "                batch[\"X_mufilter\"].astype(np.float16)[i],\n",
    "                ys[i],\n",
    "            )"
   ]
  },
  {
   "cell_type": "code",
   "execution_count": 21,
   "id": "2a2e0368-fdcf-4d34-bb9b-aede6d2f6330",
   "metadata": {},
   "outputs": [],
   "source": [
    "gen = event_generator()"
   ]
  },
  {
   "cell_type": "code",
   "execution_count": 22,
   "id": "cc5e930d-14ea-4776-b927-61b41cd50e6e",
   "metadata": {},
   "outputs": [],
   "source": [
    "sample = gen.__next__()"
   ]
  },
  {
   "cell_type": "code",
   "execution_count": 23,
   "id": "11d9eeac-00dd-4c0b-b2e3-e7adc0c54a53",
   "metadata": {},
   "outputs": [
    {
     "name": "stderr",
     "output_type": "stream",
     "text": [
      "I0000 00:00:1738153932.197589   75862 gpu_device.cc:2022] Created device /job:localhost/replica:0/task:0/device:GPU:0 with 1479 MB memory:  -> device: 0, name: Tesla T4, pci bus id: 0000:00:07.0, compute capability: 7.5\n"
     ]
    }
   ],
   "source": [
    "generator_spec_0 = tf.type_spec_from_value(gen.__next__()[0])\n",
    "generator_spec_1 = tf.type_spec_from_value(gen.__next__()[1])\n",
    "generator_spec_2 = tf.type_spec_from_value(gen.__next__()[2])"
   ]
  },
  {
   "cell_type": "code",
   "execution_count": 24,
   "id": "2333ac23-ea25-491f-a2c6-0bd4107e71a6",
   "metadata": {},
   "outputs": [
    {
     "name": "stdout",
     "output_type": "stream",
     "text": [
      "TensorSpec(shape=(3279, 116), dtype=tf.float16, name=None)\n"
     ]
    }
   ],
   "source": [
    "print(generator_spec_0)"
   ]
  },
  {
   "cell_type": "code",
   "execution_count": 25,
   "id": "51f4efa4-a976-4d98-a0a7-26676bcbb773",
   "metadata": {},
   "outputs": [
    {
     "name": "stdout",
     "output_type": "stream",
     "text": [
      "TensorSpec(shape=(3279, 68), dtype=tf.float16, name=None)\n"
     ]
    }
   ],
   "source": [
    "print(generator_spec_1)"
   ]
  },
  {
   "cell_type": "code",
   "execution_count": 26,
   "id": "4837d0d2-d994-42d6-a0b8-a8004b84d49c",
   "metadata": {},
   "outputs": [
    {
     "name": "stdout",
     "output_type": "stream",
     "text": [
      "TensorSpec(shape=(), dtype=tf.int64, name=None)\n"
     ]
    }
   ],
   "source": [
    "print(generator_spec_2)"
   ]
  },
  {
   "cell_type": "code",
   "execution_count": 27,
   "id": "5d3494b9-74a4-4ba0-a736-ab92b8d11acd",
   "metadata": {},
   "outputs": [],
   "source": [
    "ds_test = (\n",
    "    tf.data.Dataset.from_generator(\n",
    "        event_generator,\n",
    "        output_signature=(\n",
    "            generator_spec_0,\n",
    "            generator_spec_1,\n",
    "            generator_spec_2,\n",
    "        ),\n",
    "    )\n",
    "    .map(reshape_data)\n",
    "    .apply(tf.data.experimental.assert_cardinality(events_test.num_entries))\n",
    ")"
   ]
  },
  {
   "cell_type": "code",
   "execution_count": 28,
   "id": "44383c22-a216-405e-bdba-942cae0effa5",
   "metadata": {},
   "outputs": [],
   "source": [
    "y_test = le.transform(np.abs(events_test[target]))"
   ]
  },
  {
   "cell_type": "code",
   "execution_count": 29,
   "id": "a89023ae-c1b5-4420-9279-70a86f0cf56a",
   "metadata": {},
   "outputs": [
    {
     "data": {
      "text/plain": [
       "779"
      ]
     },
     "execution_count": 29,
     "metadata": {},
     "output_type": "execute_result"
    }
   ],
   "source": [
    "np.count_nonzero(y_test)"
   ]
  },
  {
   "cell_type": "code",
   "execution_count": 30,
   "id": "2a28688d-b2ef-49e3-8e12-74b36114a3d9",
   "metadata": {},
   "outputs": [],
   "source": [
    "batched_ds_test = ds_test.batch(30)"
   ]
  },
  {
   "cell_type": "code",
   "execution_count": 31,
   "id": "f5c9377e-5c2f-421c-a695-b31c6d8bafcd",
   "metadata": {},
   "outputs": [],
   "source": [
    "from tensorflow.keras.models import load_model"
   ]
  },
  {
   "cell_type": "code",
   "execution_count": 32,
   "id": "c331470f-85a5-4be3-ad00-439dc6fb8c26",
   "metadata": {},
   "outputs": [],
   "source": [
    "import tensorflow.keras.backend as K\n",
    "\n",
    "K.set_image_data_format(\"channels_last\")"
   ]
  },
  {
   "cell_type": "code",
   "execution_count": 33,
   "id": "34041f97-c160-4b46-8d7d-331429558771",
   "metadata": {},
   "outputs": [],
   "source": [
    "model = load_model(\"CNN_nuflav_muonic_grandjorasses_nu_flavour_n12227_e200.keras\")"
   ]
  },
  {
   "cell_type": "code",
   "execution_count": 34,
   "id": "2b66bcb7-9d1e-4c98-a749-3a1941f84fad",
   "metadata": {},
   "outputs": [],
   "source": [
    "model_name = model.name"
   ]
  },
  {
   "cell_type": "code",
   "execution_count": 35,
   "id": "6b4534a6-30a7-4476-bcba-f0255ee78635",
   "metadata": {
    "tags": []
   },
   "outputs": [
    {
     "name": "stderr",
     "output_type": "stream",
     "text": [
      "2025-01-29 13:32:14.948119: E tensorflow/core/util/util.cc:131] oneDNN supports DT_HALF only on platforms with AVX-512. Falling back to the default Eigen-based implementation if present.\n",
      "/cvmfs/sft-nightlies.cern.ch/lcg/views/dev3cuda/Mon/x86_64-el9-gcc11-opt/lib/python3.11/site-packages/keras/src/models/functional.py:225: UserWarning: The structure of `inputs` doesn't match the expected structure: ['target_h_in', 'target_v_in', 'mufilter_h_in', 'mufilter_v_in']. Received: the structure of inputs=('*', '*', '*', '*')\n",
      "  warnings.warn(\n",
      "WARNING: All log messages before absl::InitializeLog() is called are written to STDERR\n",
      "I0000 00:00:1738153937.045300   75961 service.cc:148] XLA service 0x7f1d54005e60 initialized for platform CUDA (this does not guarantee that XLA will be used). Devices:\n",
      "I0000 00:00:1738153937.045358   75961 service.cc:156]   StreamExecutor device (0): Tesla T4, Compute Capability 7.5\n",
      "2025-01-29 13:32:17.076798: I tensorflow/compiler/mlir/tensorflow/utils/dump_mlir_util.cc:268] disabling MLIR crash reproducer, set env var `MLIR_CRASH_REPRODUCER_DIRECTORY` to enable.\n",
      "I0000 00:00:1738153937.403239   75961 cuda_dnn.cc:529] Loaded cuDNN version 90300\n",
      "2025-01-29 13:32:18.634835: I external/local_xla/xla/service/gpu/autotuning/conv_algorithm_picker.cc:557] Omitted potentially buggy algorithm eng14{k25=0} for conv (f32[30,16,29,819]{3,2,1,0}, u8[0]{0}) custom-call(f32[30,16,29,819]{3,2,1,0}, f32[16,16,3,3]{3,2,1,0}, f32[16]{0}), window={size=3x3 pad=1_1x1_1}, dim_labels=bf01_oi01->bf01, custom_call_target=\"__cudnn$convBiasActivationForward\", backend_config={\"cudnn_conv_backend_config\":{\"activation_mode\":\"kNone\",\"conv_result_scale\":1,\"leakyrelu_alpha\":0,\"side_input_scale\":0},\"force_earliest_schedule\":false,\"operation_queue_id\":\"0\",\"wait_on_operation_queues\":[]}\n",
      "2025-01-29 13:32:18.928595: I external/local_xla/xla/service/gpu/autotuning/conv_algorithm_picker.cc:557] Omitted potentially buggy algorithm eng14{k25=0} for conv (f32[30,16,14,204]{3,2,1,0}, u8[0]{0}) custom-call(f32[30,16,14,204]{3,2,1,0}, f32[16,16,3,3]{3,2,1,0}, f32[16]{0}), window={size=3x3 pad=1_1x1_1}, dim_labels=bf01_oi01->bf01, custom_call_target=\"__cudnn$convBiasActivationForward\", backend_config={\"cudnn_conv_backend_config\":{\"activation_mode\":\"kNone\",\"conv_result_scale\":1,\"leakyrelu_alpha\":0,\"side_input_scale\":0},\"force_earliest_schedule\":false,\"operation_queue_id\":\"0\",\"wait_on_operation_queues\":[]}\n",
      "2025-01-29 13:32:19.157751: I external/local_xla/xla/service/gpu/autotuning/conv_algorithm_picker.cc:557] Omitted potentially buggy algorithm eng14{k25=0} for conv (f32[30,16,7,51]{3,2,1,0}, u8[0]{0}) custom-call(f32[30,16,7,51]{3,2,1,0}, f32[16,16,3,3]{3,2,1,0}, f32[16]{0}), window={size=3x3 pad=1_1x1_1}, dim_labels=bf01_oi01->bf01, custom_call_target=\"__cudnn$convBiasActivationForward\", backend_config={\"cudnn_conv_backend_config\":{\"activation_mode\":\"kNone\",\"conv_result_scale\":1,\"leakyrelu_alpha\":0,\"side_input_scale\":0},\"force_earliest_schedule\":false,\"operation_queue_id\":\"0\",\"wait_on_operation_queues\":[]}\n",
      "2025-01-29 13:32:19.715758: I external/local_xla/xla/service/gpu/autotuning/conv_algorithm_picker.cc:557] Omitted potentially buggy algorithm eng14{k25=0} for conv (f32[30,16,34,819]{3,2,1,0}, u8[0]{0}) custom-call(f32[30,16,34,819]{3,2,1,0}, f32[16,16,3,3]{3,2,1,0}, f32[16]{0}), window={size=3x3 pad=1_1x1_1}, dim_labels=bf01_oi01->bf01, custom_call_target=\"__cudnn$convBiasActivationForward\", backend_config={\"cudnn_conv_backend_config\":{\"activation_mode\":\"kNone\",\"conv_result_scale\":1,\"leakyrelu_alpha\":0,\"side_input_scale\":0},\"force_earliest_schedule\":false,\"operation_queue_id\":\"0\",\"wait_on_operation_queues\":[]}\n",
      "2025-01-29 13:32:19.973033: I external/local_xla/xla/service/gpu/autotuning/conv_algorithm_picker.cc:557] Omitted potentially buggy algorithm eng14{k25=0} for conv (f32[30,16,17,204]{3,2,1,0}, u8[0]{0}) custom-call(f32[30,16,17,204]{3,2,1,0}, f32[16,16,3,3]{3,2,1,0}, f32[16]{0}), window={size=3x3 pad=1_1x1_1}, dim_labels=bf01_oi01->bf01, custom_call_target=\"__cudnn$convBiasActivationForward\", backend_config={\"cudnn_conv_backend_config\":{\"activation_mode\":\"kNone\",\"conv_result_scale\":1,\"leakyrelu_alpha\":0,\"side_input_scale\":0},\"force_earliest_schedule\":false,\"operation_queue_id\":\"0\",\"wait_on_operation_queues\":[]}\n",
      "2025-01-29 13:32:20.047808: I external/local_xla/xla/service/gpu/autotuning/conv_algorithm_picker.cc:557] Omitted potentially buggy algorithm eng14{k25=0} for conv (f32[30,16,8,51]{3,2,1,0}, u8[0]{0}) custom-call(f32[30,16,8,51]{3,2,1,0}, f32[16,16,3,3]{3,2,1,0}, f32[16]{0}), window={size=3x3 pad=1_1x1_1}, dim_labels=bf01_oi01->bf01, custom_call_target=\"__cudnn$convBiasActivationForward\", backend_config={\"cudnn_conv_backend_config\":{\"activation_mode\":\"kNone\",\"conv_result_scale\":1,\"leakyrelu_alpha\":0,\"side_input_scale\":0},\"force_earliest_schedule\":false,\"operation_queue_id\":\"0\",\"wait_on_operation_queues\":[]}\n"
     ]
    },
    {
     "name": "stdout",
     "output_type": "stream",
     "text": [
      "\u001b[1m 3/63\u001b[0m \u001b[37m━━━━━━━━━━━━━━━━━━━━\u001b[0m \u001b[1m2s\u001b[0m 35ms/step"
     ]
    },
    {
     "name": "stderr",
     "output_type": "stream",
     "text": [
      "I0000 00:00:1738153941.377348   75961 device_compiler.h:188] Compiled cluster using XLA!  This line is logged at most once for the lifetime of the process.\n"
     ]
    },
    {
     "name": "stdout",
     "output_type": "stream",
     "text": [
      "\u001b[1m62/63\u001b[0m \u001b[32m━━━━━━━━━━━━━━━━━━━\u001b[0m\u001b[37m━\u001b[0m \u001b[1m0s\u001b[0m 654ms/step"
     ]
    },
    {
     "name": "stderr",
     "output_type": "stream",
     "text": [
      "/cvmfs/sft-nightlies.cern.ch/lcg/views/dev3cuda/Mon/x86_64-el9-gcc11-opt/lib/python3.11/site-packages/keras/src/models/functional.py:225: UserWarning: The structure of `inputs` doesn't match the expected structure: ['target_h_in', 'target_v_in', 'mufilter_h_in', 'mufilter_v_in']. Received: the structure of inputs=('*', '*', '*', '*')\n",
      "  warnings.warn(\n",
      "2025-01-29 13:33:02.819167: I external/local_xla/xla/service/gpu/autotuning/conv_algorithm_picker.cc:557] Omitted potentially buggy algorithm eng14{k25=0} for conv (f32[5,16,29,819]{3,2,1,0}, u8[0]{0}) custom-call(f32[5,16,29,819]{3,2,1,0}, f32[16,16,3,3]{3,2,1,0}, f32[16]{0}), window={size=3x3 pad=1_1x1_1}, dim_labels=bf01_oi01->bf01, custom_call_target=\"__cudnn$convBiasActivationForward\", backend_config={\"cudnn_conv_backend_config\":{\"activation_mode\":\"kNone\",\"conv_result_scale\":1,\"leakyrelu_alpha\":0,\"side_input_scale\":0},\"force_earliest_schedule\":false,\"operation_queue_id\":\"0\",\"wait_on_operation_queues\":[]}\n",
      "2025-01-29 13:33:02.864155: I external/local_xla/xla/service/gpu/autotuning/conv_algorithm_picker.cc:557] Omitted potentially buggy algorithm eng14{k25=0} for conv (f32[5,16,14,204]{3,2,1,0}, u8[0]{0}) custom-call(f32[5,16,14,204]{3,2,1,0}, f32[16,16,3,3]{3,2,1,0}, f32[16]{0}), window={size=3x3 pad=1_1x1_1}, dim_labels=bf01_oi01->bf01, custom_call_target=\"__cudnn$convBiasActivationForward\", backend_config={\"cudnn_conv_backend_config\":{\"activation_mode\":\"kNone\",\"conv_result_scale\":1,\"leakyrelu_alpha\":0,\"side_input_scale\":0},\"force_earliest_schedule\":false,\"operation_queue_id\":\"0\",\"wait_on_operation_queues\":[]}\n",
      "2025-01-29 13:33:02.916445: I external/local_xla/xla/service/gpu/autotuning/conv_algorithm_picker.cc:557] Omitted potentially buggy algorithm eng14{k25=0} for conv (f32[5,16,7,51]{3,2,1,0}, u8[0]{0}) custom-call(f32[5,16,7,51]{3,2,1,0}, f32[16,16,3,3]{3,2,1,0}, f32[16]{0}), window={size=3x3 pad=1_1x1_1}, dim_labels=bf01_oi01->bf01, custom_call_target=\"__cudnn$convBiasActivationForward\", backend_config={\"cudnn_conv_backend_config\":{\"activation_mode\":\"kNone\",\"conv_result_scale\":1,\"leakyrelu_alpha\":0,\"side_input_scale\":0},\"force_earliest_schedule\":false,\"operation_queue_id\":\"0\",\"wait_on_operation_queues\":[]}\n",
      "2025-01-29 13:33:02.991663: I external/local_xla/xla/service/gpu/autotuning/conv_algorithm_picker.cc:557] Omitted potentially buggy algorithm eng14{k25=0} for conv (f32[5,16,34,819]{3,2,1,0}, u8[0]{0}) custom-call(f32[5,16,34,819]{3,2,1,0}, f32[16,16,3,3]{3,2,1,0}, f32[16]{0}), window={size=3x3 pad=1_1x1_1}, dim_labels=bf01_oi01->bf01, custom_call_target=\"__cudnn$convBiasActivationForward\", backend_config={\"cudnn_conv_backend_config\":{\"activation_mode\":\"kNone\",\"conv_result_scale\":1,\"leakyrelu_alpha\":0,\"side_input_scale\":0},\"force_earliest_schedule\":false,\"operation_queue_id\":\"0\",\"wait_on_operation_queues\":[]}\n",
      "2025-01-29 13:33:03.214553: I external/local_xla/xla/service/gpu/autotuning/conv_algorithm_picker.cc:557] Omitted potentially buggy algorithm eng14{k25=0} for conv (f32[5,16,17,204]{3,2,1,0}, u8[0]{0}) custom-call(f32[5,16,17,204]{3,2,1,0}, f32[16,16,3,3]{3,2,1,0}, f32[16]{0}), window={size=3x3 pad=1_1x1_1}, dim_labels=bf01_oi01->bf01, custom_call_target=\"__cudnn$convBiasActivationForward\", backend_config={\"cudnn_conv_backend_config\":{\"activation_mode\":\"kNone\",\"conv_result_scale\":1,\"leakyrelu_alpha\":0,\"side_input_scale\":0},\"force_earliest_schedule\":false,\"operation_queue_id\":\"0\",\"wait_on_operation_queues\":[]}\n",
      "2025-01-29 13:33:03.270905: I external/local_xla/xla/service/gpu/autotuning/conv_algorithm_picker.cc:557] Omitted potentially buggy algorithm eng14{k25=0} for conv (f32[5,16,8,51]{3,2,1,0}, u8[0]{0}) custom-call(f32[5,16,8,51]{3,2,1,0}, f32[16,16,3,3]{3,2,1,0}, f32[16]{0}), window={size=3x3 pad=1_1x1_1}, dim_labels=bf01_oi01->bf01, custom_call_target=\"__cudnn$convBiasActivationForward\", backend_config={\"cudnn_conv_backend_config\":{\"activation_mode\":\"kNone\",\"conv_result_scale\":1,\"leakyrelu_alpha\":0,\"side_input_scale\":0},\"force_earliest_schedule\":false,\"operation_queue_id\":\"0\",\"wait_on_operation_queues\":[]}\n"
     ]
    },
    {
     "name": "stdout",
     "output_type": "stream",
     "text": [
      "\u001b[1m63/63\u001b[0m \u001b[32m━━━━━━━━━━━━━━━━━━━━\u001b[0m\u001b[37m\u001b[0m \u001b[1m49s\u001b[0m 690ms/step\n"
     ]
    }
   ],
   "source": [
    "# test=retoy_model.predict(x=[x_test['scifi_h'], x_test['scifi_v'], x_test['us'], x_test['ds']])\n",
    "y_pred = model.predict(batched_ds_test)"
   ]
  },
  {
   "cell_type": "code",
   "execution_count": 36,
   "id": "2a380c5a-61ee-4369-bbb2-189e5e6683cf",
   "metadata": {},
   "outputs": [],
   "source": [
    "from sklearn.metrics import classification_report, confusion_matrix"
   ]
  },
  {
   "cell_type": "code",
   "execution_count": 37,
   "id": "63b68014-6093-4f21-a7a1-0d73390ad72e",
   "metadata": {},
   "outputs": [],
   "source": [
    "from config import nu_mu_yield, nu_tau_yield, nu_e_yield, frac_muon, frac_hadr"
   ]
  },
  {
   "cell_type": "code",
   "execution_count": 38,
   "id": "2e446b6f-5ab6-413b-b531-3c04d4629de2",
   "metadata": {},
   "outputs": [],
   "source": [
    "scaling_muon = np.array([nu_mu_yield, nu_tau_yield * frac_muon]).reshape(-1, 1)"
   ]
  },
  {
   "cell_type": "code",
   "execution_count": 39,
   "id": "6335ca0e-49d4-4748-9d44-6d083e4f90d0",
   "metadata": {},
   "outputs": [],
   "source": [
    "scaling_hadr = np.array([nu_e_yield, nu_tau_yield * frac_hadr]).reshape(-1, 1)"
   ]
  },
  {
   "cell_type": "code",
   "execution_count": 40,
   "id": "89eab6de-57c6-4b97-a417-e19456179987",
   "metadata": {},
   "outputs": [],
   "source": [
    "def metric(threshold=0.5):\n",
    "    TN, FP, FN, TP = confusion_matrix(y_test, (y_pred >= threshold).astype(int)).ravel()\n",
    "    signal = TP / (TP + FN) * nu_tau_yield * (frac_muon if muonic else frac_hadr)\n",
    "    background = FP / (FP + TN) * (nu_mu_yield if muonic else nu_e_yield)\n",
    "    return -signal / np.sqrt(signal + background)"
   ]
  },
  {
   "cell_type": "code",
   "execution_count": 41,
   "id": "d7269585-676f-4095-975f-b034788cc2de",
   "metadata": {},
   "outputs": [],
   "source": [
    "from scipy.optimize import basinhopping"
   ]
  },
  {
   "cell_type": "code",
   "execution_count": 42,
   "id": "976ddc19-5bcd-4900-9611-95fb4c9a4eea",
   "metadata": {},
   "outputs": [
    {
     "name": "stderr",
     "output_type": "stream",
     "text": [
      "/tmp/ipykernel_75862/1823911924.py:5: RuntimeWarning: invalid value encountered in scalar divide\n",
      "  return -signal / np.sqrt(signal + background)\n",
      "/tmp/ipykernel_75862/1823911924.py:5: RuntimeWarning: invalid value encountered in scalar divide\n",
      "  return -signal / np.sqrt(signal + background)\n",
      "/tmp/ipykernel_75862/1823911924.py:5: RuntimeWarning: invalid value encountered in scalar divide\n",
      "  return -signal / np.sqrt(signal + background)\n",
      "/tmp/ipykernel_75862/1823911924.py:5: RuntimeWarning: invalid value encountered in scalar divide\n",
      "  return -signal / np.sqrt(signal + background)\n",
      "/tmp/ipykernel_75862/1823911924.py:5: RuntimeWarning: invalid value encountered in scalar divide\n",
      "  return -signal / np.sqrt(signal + background)\n",
      "/tmp/ipykernel_75862/1823911924.py:5: RuntimeWarning: invalid value encountered in scalar divide\n",
      "  return -signal / np.sqrt(signal + background)\n",
      "/tmp/ipykernel_75862/1823911924.py:5: RuntimeWarning: invalid value encountered in scalar divide\n",
      "  return -signal / np.sqrt(signal + background)\n",
      "/tmp/ipykernel_75862/1823911924.py:5: RuntimeWarning: invalid value encountered in scalar divide\n",
      "  return -signal / np.sqrt(signal + background)\n",
      "/tmp/ipykernel_75862/1823911924.py:5: RuntimeWarning: invalid value encountered in scalar divide\n",
      "  return -signal / np.sqrt(signal + background)\n",
      "/tmp/ipykernel_75862/1823911924.py:5: RuntimeWarning: invalid value encountered in scalar divide\n",
      "  return -signal / np.sqrt(signal + background)\n",
      "/tmp/ipykernel_75862/1823911924.py:5: RuntimeWarning: invalid value encountered in scalar divide\n",
      "  return -signal / np.sqrt(signal + background)\n",
      "/tmp/ipykernel_75862/1823911924.py:5: RuntimeWarning: invalid value encountered in scalar divide\n",
      "  return -signal / np.sqrt(signal + background)\n",
      "/tmp/ipykernel_75862/1823911924.py:5: RuntimeWarning: invalid value encountered in scalar divide\n",
      "  return -signal / np.sqrt(signal + background)\n",
      "/tmp/ipykernel_75862/1823911924.py:5: RuntimeWarning: invalid value encountered in scalar divide\n",
      "  return -signal / np.sqrt(signal + background)\n",
      "/tmp/ipykernel_75862/1823911924.py:5: RuntimeWarning: invalid value encountered in scalar divide\n",
      "  return -signal / np.sqrt(signal + background)\n",
      "/tmp/ipykernel_75862/1823911924.py:5: RuntimeWarning: invalid value encountered in scalar divide\n",
      "  return -signal / np.sqrt(signal + background)\n",
      "/tmp/ipykernel_75862/1823911924.py:5: RuntimeWarning: invalid value encountered in scalar divide\n",
      "  return -signal / np.sqrt(signal + background)\n",
      "/tmp/ipykernel_75862/1823911924.py:5: RuntimeWarning: invalid value encountered in scalar divide\n",
      "  return -signal / np.sqrt(signal + background)\n",
      "/tmp/ipykernel_75862/1823911924.py:5: RuntimeWarning: invalid value encountered in scalar divide\n",
      "  return -signal / np.sqrt(signal + background)\n",
      "/tmp/ipykernel_75862/1823911924.py:5: RuntimeWarning: invalid value encountered in scalar divide\n",
      "  return -signal / np.sqrt(signal + background)\n",
      "/tmp/ipykernel_75862/1823911924.py:5: RuntimeWarning: invalid value encountered in scalar divide\n",
      "  return -signal / np.sqrt(signal + background)\n",
      "/tmp/ipykernel_75862/1823911924.py:5: RuntimeWarning: invalid value encountered in scalar divide\n",
      "  return -signal / np.sqrt(signal + background)\n",
      "/tmp/ipykernel_75862/1823911924.py:5: RuntimeWarning: invalid value encountered in scalar divide\n",
      "  return -signal / np.sqrt(signal + background)\n",
      "/tmp/ipykernel_75862/1823911924.py:5: RuntimeWarning: invalid value encountered in scalar divide\n",
      "  return -signal / np.sqrt(signal + background)\n",
      "/tmp/ipykernel_75862/1823911924.py:5: RuntimeWarning: invalid value encountered in scalar divide\n",
      "  return -signal / np.sqrt(signal + background)\n",
      "/tmp/ipykernel_75862/1823911924.py:5: RuntimeWarning: invalid value encountered in scalar divide\n",
      "  return -signal / np.sqrt(signal + background)\n",
      "/tmp/ipykernel_75862/1823911924.py:5: RuntimeWarning: invalid value encountered in scalar divide\n",
      "  return -signal / np.sqrt(signal + background)\n",
      "/tmp/ipykernel_75862/1823911924.py:5: RuntimeWarning: invalid value encountered in scalar divide\n",
      "  return -signal / np.sqrt(signal + background)\n",
      "/tmp/ipykernel_75862/1823911924.py:5: RuntimeWarning: invalid value encountered in scalar divide\n",
      "  return -signal / np.sqrt(signal + background)\n",
      "/tmp/ipykernel_75862/1823911924.py:5: RuntimeWarning: invalid value encountered in scalar divide\n",
      "  return -signal / np.sqrt(signal + background)\n",
      "/tmp/ipykernel_75862/1823911924.py:5: RuntimeWarning: invalid value encountered in scalar divide\n",
      "  return -signal / np.sqrt(signal + background)\n",
      "/tmp/ipykernel_75862/1823911924.py:5: RuntimeWarning: invalid value encountered in scalar divide\n",
      "  return -signal / np.sqrt(signal + background)\n",
      "/tmp/ipykernel_75862/1823911924.py:5: RuntimeWarning: invalid value encountered in scalar divide\n",
      "  return -signal / np.sqrt(signal + background)\n",
      "/tmp/ipykernel_75862/1823911924.py:5: RuntimeWarning: invalid value encountered in scalar divide\n",
      "  return -signal / np.sqrt(signal + background)\n",
      "/tmp/ipykernel_75862/1823911924.py:5: RuntimeWarning: invalid value encountered in scalar divide\n",
      "  return -signal / np.sqrt(signal + background)\n",
      "/tmp/ipykernel_75862/1823911924.py:5: RuntimeWarning: invalid value encountered in scalar divide\n",
      "  return -signal / np.sqrt(signal + background)\n",
      "/tmp/ipykernel_75862/1823911924.py:5: RuntimeWarning: invalid value encountered in scalar divide\n",
      "  return -signal / np.sqrt(signal + background)\n",
      "/tmp/ipykernel_75862/1823911924.py:5: RuntimeWarning: invalid value encountered in scalar divide\n",
      "  return -signal / np.sqrt(signal + background)\n",
      "/tmp/ipykernel_75862/1823911924.py:5: RuntimeWarning: invalid value encountered in scalar divide\n",
      "  return -signal / np.sqrt(signal + background)\n",
      "/tmp/ipykernel_75862/1823911924.py:5: RuntimeWarning: invalid value encountered in scalar divide\n",
      "  return -signal / np.sqrt(signal + background)\n",
      "/tmp/ipykernel_75862/1823911924.py:5: RuntimeWarning: invalid value encountered in scalar divide\n",
      "  return -signal / np.sqrt(signal + background)\n",
      "/tmp/ipykernel_75862/1823911924.py:5: RuntimeWarning: invalid value encountered in scalar divide\n",
      "  return -signal / np.sqrt(signal + background)\n",
      "/tmp/ipykernel_75862/1823911924.py:5: RuntimeWarning: invalid value encountered in scalar divide\n",
      "  return -signal / np.sqrt(signal + background)\n",
      "/tmp/ipykernel_75862/1823911924.py:5: RuntimeWarning: invalid value encountered in scalar divide\n",
      "  return -signal / np.sqrt(signal + background)\n",
      "/tmp/ipykernel_75862/1823911924.py:5: RuntimeWarning: invalid value encountered in scalar divide\n",
      "  return -signal / np.sqrt(signal + background)\n",
      "/tmp/ipykernel_75862/1823911924.py:5: RuntimeWarning: invalid value encountered in scalar divide\n",
      "  return -signal / np.sqrt(signal + background)\n",
      "/tmp/ipykernel_75862/1823911924.py:5: RuntimeWarning: invalid value encountered in scalar divide\n",
      "  return -signal / np.sqrt(signal + background)\n",
      "/tmp/ipykernel_75862/1823911924.py:5: RuntimeWarning: invalid value encountered in scalar divide\n",
      "  return -signal / np.sqrt(signal + background)\n",
      "/tmp/ipykernel_75862/1823911924.py:5: RuntimeWarning: invalid value encountered in scalar divide\n",
      "  return -signal / np.sqrt(signal + background)\n",
      "/tmp/ipykernel_75862/1823911924.py:5: RuntimeWarning: invalid value encountered in scalar divide\n",
      "  return -signal / np.sqrt(signal + background)\n",
      "/tmp/ipykernel_75862/1823911924.py:5: RuntimeWarning: invalid value encountered in scalar divide\n",
      "  return -signal / np.sqrt(signal + background)\n",
      "/tmp/ipykernel_75862/1823911924.py:5: RuntimeWarning: invalid value encountered in scalar divide\n",
      "  return -signal / np.sqrt(signal + background)\n",
      "/tmp/ipykernel_75862/1823911924.py:5: RuntimeWarning: invalid value encountered in scalar divide\n",
      "  return -signal / np.sqrt(signal + background)\n",
      "/tmp/ipykernel_75862/1823911924.py:5: RuntimeWarning: invalid value encountered in scalar divide\n",
      "  return -signal / np.sqrt(signal + background)\n",
      "/tmp/ipykernel_75862/1823911924.py:5: RuntimeWarning: invalid value encountered in scalar divide\n",
      "  return -signal / np.sqrt(signal + background)\n",
      "/tmp/ipykernel_75862/1823911924.py:5: RuntimeWarning: invalid value encountered in scalar divide\n",
      "  return -signal / np.sqrt(signal + background)\n",
      "/tmp/ipykernel_75862/1823911924.py:5: RuntimeWarning: invalid value encountered in scalar divide\n",
      "  return -signal / np.sqrt(signal + background)\n",
      "/tmp/ipykernel_75862/1823911924.py:5: RuntimeWarning: invalid value encountered in scalar divide\n",
      "  return -signal / np.sqrt(signal + background)\n",
      "/tmp/ipykernel_75862/1823911924.py:5: RuntimeWarning: invalid value encountered in scalar divide\n",
      "  return -signal / np.sqrt(signal + background)\n",
      "/tmp/ipykernel_75862/1823911924.py:5: RuntimeWarning: invalid value encountered in scalar divide\n",
      "  return -signal / np.sqrt(signal + background)\n",
      "/tmp/ipykernel_75862/1823911924.py:5: RuntimeWarning: invalid value encountered in scalar divide\n",
      "  return -signal / np.sqrt(signal + background)\n",
      "/tmp/ipykernel_75862/1823911924.py:5: RuntimeWarning: invalid value encountered in scalar divide\n",
      "  return -signal / np.sqrt(signal + background)\n",
      "/tmp/ipykernel_75862/1823911924.py:5: RuntimeWarning: invalid value encountered in scalar divide\n",
      "  return -signal / np.sqrt(signal + background)\n",
      "/tmp/ipykernel_75862/1823911924.py:5: RuntimeWarning: invalid value encountered in scalar divide\n",
      "  return -signal / np.sqrt(signal + background)\n",
      "/tmp/ipykernel_75862/1823911924.py:5: RuntimeWarning: invalid value encountered in scalar divide\n",
      "  return -signal / np.sqrt(signal + background)\n",
      "/tmp/ipykernel_75862/1823911924.py:5: RuntimeWarning: invalid value encountered in scalar divide\n",
      "  return -signal / np.sqrt(signal + background)\n",
      "/tmp/ipykernel_75862/1823911924.py:5: RuntimeWarning: invalid value encountered in scalar divide\n",
      "  return -signal / np.sqrt(signal + background)\n",
      "/tmp/ipykernel_75862/1823911924.py:5: RuntimeWarning: invalid value encountered in scalar divide\n",
      "  return -signal / np.sqrt(signal + background)\n",
      "/tmp/ipykernel_75862/1823911924.py:5: RuntimeWarning: invalid value encountered in scalar divide\n",
      "  return -signal / np.sqrt(signal + background)\n",
      "/tmp/ipykernel_75862/1823911924.py:5: RuntimeWarning: invalid value encountered in scalar divide\n",
      "  return -signal / np.sqrt(signal + background)\n",
      "/tmp/ipykernel_75862/1823911924.py:5: RuntimeWarning: invalid value encountered in scalar divide\n",
      "  return -signal / np.sqrt(signal + background)\n",
      "/tmp/ipykernel_75862/1823911924.py:5: RuntimeWarning: invalid value encountered in scalar divide\n",
      "  return -signal / np.sqrt(signal + background)\n",
      "/tmp/ipykernel_75862/1823911924.py:5: RuntimeWarning: invalid value encountered in scalar divide\n",
      "  return -signal / np.sqrt(signal + background)\n",
      "/tmp/ipykernel_75862/1823911924.py:5: RuntimeWarning: invalid value encountered in scalar divide\n",
      "  return -signal / np.sqrt(signal + background)\n",
      "/tmp/ipykernel_75862/1823911924.py:5: RuntimeWarning: invalid value encountered in scalar divide\n",
      "  return -signal / np.sqrt(signal + background)\n",
      "/tmp/ipykernel_75862/1823911924.py:5: RuntimeWarning: invalid value encountered in scalar divide\n",
      "  return -signal / np.sqrt(signal + background)\n",
      "/tmp/ipykernel_75862/1823911924.py:5: RuntimeWarning: invalid value encountered in scalar divide\n",
      "  return -signal / np.sqrt(signal + background)\n",
      "/tmp/ipykernel_75862/1823911924.py:5: RuntimeWarning: invalid value encountered in scalar divide\n",
      "  return -signal / np.sqrt(signal + background)\n",
      "/tmp/ipykernel_75862/1823911924.py:5: RuntimeWarning: invalid value encountered in scalar divide\n",
      "  return -signal / np.sqrt(signal + background)\n",
      "/tmp/ipykernel_75862/1823911924.py:5: RuntimeWarning: invalid value encountered in scalar divide\n",
      "  return -signal / np.sqrt(signal + background)\n",
      "/tmp/ipykernel_75862/1823911924.py:5: RuntimeWarning: invalid value encountered in scalar divide\n",
      "  return -signal / np.sqrt(signal + background)\n",
      "/tmp/ipykernel_75862/1823911924.py:5: RuntimeWarning: invalid value encountered in scalar divide\n",
      "  return -signal / np.sqrt(signal + background)\n",
      "/tmp/ipykernel_75862/1823911924.py:5: RuntimeWarning: invalid value encountered in scalar divide\n",
      "  return -signal / np.sqrt(signal + background)\n",
      "/tmp/ipykernel_75862/1823911924.py:5: RuntimeWarning: invalid value encountered in scalar divide\n",
      "  return -signal / np.sqrt(signal + background)\n",
      "/tmp/ipykernel_75862/1823911924.py:5: RuntimeWarning: invalid value encountered in scalar divide\n",
      "  return -signal / np.sqrt(signal + background)\n",
      "/tmp/ipykernel_75862/1823911924.py:5: RuntimeWarning: invalid value encountered in scalar divide\n",
      "  return -signal / np.sqrt(signal + background)\n",
      "/tmp/ipykernel_75862/1823911924.py:5: RuntimeWarning: invalid value encountered in scalar divide\n",
      "  return -signal / np.sqrt(signal + background)\n",
      "/tmp/ipykernel_75862/1823911924.py:5: RuntimeWarning: invalid value encountered in scalar divide\n",
      "  return -signal / np.sqrt(signal + background)\n",
      "/tmp/ipykernel_75862/1823911924.py:5: RuntimeWarning: invalid value encountered in scalar divide\n",
      "  return -signal / np.sqrt(signal + background)\n",
      "/tmp/ipykernel_75862/1823911924.py:5: RuntimeWarning: invalid value encountered in scalar divide\n",
      "  return -signal / np.sqrt(signal + background)\n",
      "/tmp/ipykernel_75862/1823911924.py:5: RuntimeWarning: invalid value encountered in scalar divide\n",
      "  return -signal / np.sqrt(signal + background)\n",
      "/tmp/ipykernel_75862/1823911924.py:5: RuntimeWarning: invalid value encountered in scalar divide\n",
      "  return -signal / np.sqrt(signal + background)\n",
      "/tmp/ipykernel_75862/1823911924.py:5: RuntimeWarning: invalid value encountered in scalar divide\n",
      "  return -signal / np.sqrt(signal + background)\n",
      "/tmp/ipykernel_75862/1823911924.py:5: RuntimeWarning: invalid value encountered in scalar divide\n",
      "  return -signal / np.sqrt(signal + background)\n",
      "/tmp/ipykernel_75862/1823911924.py:5: RuntimeWarning: invalid value encountered in scalar divide\n",
      "  return -signal / np.sqrt(signal + background)\n",
      "/tmp/ipykernel_75862/1823911924.py:5: RuntimeWarning: invalid value encountered in scalar divide\n",
      "  return -signal / np.sqrt(signal + background)\n",
      "/tmp/ipykernel_75862/1823911924.py:5: RuntimeWarning: invalid value encountered in scalar divide\n",
      "  return -signal / np.sqrt(signal + background)\n",
      "/tmp/ipykernel_75862/1823911924.py:5: RuntimeWarning: invalid value encountered in scalar divide\n",
      "  return -signal / np.sqrt(signal + background)\n",
      "/tmp/ipykernel_75862/1823911924.py:5: RuntimeWarning: invalid value encountered in scalar divide\n",
      "  return -signal / np.sqrt(signal + background)\n",
      "/tmp/ipykernel_75862/1823911924.py:5: RuntimeWarning: invalid value encountered in scalar divide\n",
      "  return -signal / np.sqrt(signal + background)\n",
      "/tmp/ipykernel_75862/1823911924.py:5: RuntimeWarning: invalid value encountered in scalar divide\n",
      "  return -signal / np.sqrt(signal + background)\n",
      "/tmp/ipykernel_75862/1823911924.py:5: RuntimeWarning: invalid value encountered in scalar divide\n",
      "  return -signal / np.sqrt(signal + background)\n",
      "/tmp/ipykernel_75862/1823911924.py:5: RuntimeWarning: invalid value encountered in scalar divide\n",
      "  return -signal / np.sqrt(signal + background)\n",
      "/tmp/ipykernel_75862/1823911924.py:5: RuntimeWarning: invalid value encountered in scalar divide\n",
      "  return -signal / np.sqrt(signal + background)\n",
      "/tmp/ipykernel_75862/1823911924.py:5: RuntimeWarning: invalid value encountered in scalar divide\n",
      "  return -signal / np.sqrt(signal + background)\n",
      "/tmp/ipykernel_75862/1823911924.py:5: RuntimeWarning: invalid value encountered in scalar divide\n",
      "  return -signal / np.sqrt(signal + background)\n",
      "/tmp/ipykernel_75862/1823911924.py:5: RuntimeWarning: invalid value encountered in scalar divide\n",
      "  return -signal / np.sqrt(signal + background)\n",
      "/tmp/ipykernel_75862/1823911924.py:5: RuntimeWarning: invalid value encountered in scalar divide\n",
      "  return -signal / np.sqrt(signal + background)\n",
      "/tmp/ipykernel_75862/1823911924.py:5: RuntimeWarning: invalid value encountered in scalar divide\n",
      "  return -signal / np.sqrt(signal + background)\n",
      "/tmp/ipykernel_75862/1823911924.py:5: RuntimeWarning: invalid value encountered in scalar divide\n",
      "  return -signal / np.sqrt(signal + background)\n",
      "/tmp/ipykernel_75862/1823911924.py:5: RuntimeWarning: invalid value encountered in scalar divide\n",
      "  return -signal / np.sqrt(signal + background)\n",
      "/tmp/ipykernel_75862/1823911924.py:5: RuntimeWarning: invalid value encountered in scalar divide\n",
      "  return -signal / np.sqrt(signal + background)\n",
      "/tmp/ipykernel_75862/1823911924.py:5: RuntimeWarning: invalid value encountered in scalar divide\n",
      "  return -signal / np.sqrt(signal + background)\n",
      "/tmp/ipykernel_75862/1823911924.py:5: RuntimeWarning: invalid value encountered in scalar divide\n",
      "  return -signal / np.sqrt(signal + background)\n",
      "/tmp/ipykernel_75862/1823911924.py:5: RuntimeWarning: invalid value encountered in scalar divide\n",
      "  return -signal / np.sqrt(signal + background)\n",
      "/tmp/ipykernel_75862/1823911924.py:5: RuntimeWarning: invalid value encountered in scalar divide\n",
      "  return -signal / np.sqrt(signal + background)\n",
      "/tmp/ipykernel_75862/1823911924.py:5: RuntimeWarning: invalid value encountered in scalar divide\n",
      "  return -signal / np.sqrt(signal + background)\n",
      "/tmp/ipykernel_75862/1823911924.py:5: RuntimeWarning: invalid value encountered in scalar divide\n",
      "  return -signal / np.sqrt(signal + background)\n",
      "/tmp/ipykernel_75862/1823911924.py:5: RuntimeWarning: invalid value encountered in scalar divide\n",
      "  return -signal / np.sqrt(signal + background)\n",
      "/tmp/ipykernel_75862/1823911924.py:5: RuntimeWarning: invalid value encountered in scalar divide\n",
      "  return -signal / np.sqrt(signal + background)\n",
      "/tmp/ipykernel_75862/1823911924.py:5: RuntimeWarning: invalid value encountered in scalar divide\n",
      "  return -signal / np.sqrt(signal + background)\n",
      "/tmp/ipykernel_75862/1823911924.py:5: RuntimeWarning: invalid value encountered in scalar divide\n",
      "  return -signal / np.sqrt(signal + background)\n",
      "/tmp/ipykernel_75862/1823911924.py:5: RuntimeWarning: invalid value encountered in scalar divide\n",
      "  return -signal / np.sqrt(signal + background)\n",
      "/tmp/ipykernel_75862/1823911924.py:5: RuntimeWarning: invalid value encountered in scalar divide\n",
      "  return -signal / np.sqrt(signal + background)\n",
      "/tmp/ipykernel_75862/1823911924.py:5: RuntimeWarning: invalid value encountered in scalar divide\n",
      "  return -signal / np.sqrt(signal + background)\n",
      "/tmp/ipykernel_75862/1823911924.py:5: RuntimeWarning: invalid value encountered in scalar divide\n",
      "  return -signal / np.sqrt(signal + background)\n"
     ]
    }
   ],
   "source": [
    "res = basinhopping(metric, 0.2)"
   ]
  },
  {
   "cell_type": "code",
   "execution_count": 43,
   "id": "ea15b281-9136-444a-bfdf-e6103e75858a",
   "metadata": {},
   "outputs": [],
   "source": [
    "optimum_threshold = res.x[0]"
   ]
  },
  {
   "cell_type": "code",
   "execution_count": 44,
   "id": "448401ea-f998-442a-89ea-6722671729ca",
   "metadata": {},
   "outputs": [],
   "source": [
    "optimum_threshold = 0.5"
   ]
  },
  {
   "cell_type": "code",
   "execution_count": 45,
   "id": "4a147492-1b5e-40df-b849-c30d3ace03ce",
   "metadata": {},
   "outputs": [],
   "source": [
    "y_pred_bool = (y_pred >= optimum_threshold).astype(int)"
   ]
  },
  {
   "cell_type": "code",
   "execution_count": 46,
   "id": "e46b6dbb-09ff-4018-8ce7-778f67b83ff8",
   "metadata": {},
   "outputs": [
    {
     "data": {
      "text/plain": [
       "(array([1086.,    0.,    0.,    0.,    0.,    0.,    0.,    0.,    0.,\n",
       "         779.]),\n",
       " array([0. , 0.1, 0.2, 0.3, 0.4, 0.5, 0.6, 0.7, 0.8, 0.9, 1. ]),\n",
       " <BarContainer object of 10 artists>)"
      ]
     },
     "execution_count": 46,
     "metadata": {},
     "output_type": "execute_result"
    },
    {
     "data": {
      "image/png": "[encoded data removed]",
      "text/plain": [
       "<Figure size 432x288 with 1 Axes>"
      ]
     },
     "metadata": {
      "needs_background": "light"
     },
     "output_type": "display_data"
    }
   ],
   "source": [
    "# plt.hist(y_pred_bool)\n",
    "plt.hist(y_pred_bool)\n",
    "plt.hist(y_test)"
   ]
  },
  {
   "cell_type": "code",
   "execution_count": 47,
   "id": "9d718668-6bb4-4ccc-a9c5-53629695ce4d",
   "metadata": {},
   "outputs": [
    {
     "name": "stdout",
     "output_type": "stream",
     "text": [
      "              precision    recall  f1-score   support\n",
      "\n",
      "           0       0.58      1.00      0.74      1086\n",
      "           1       0.00      0.00      0.00       779\n",
      "\n",
      "    accuracy                           0.58      1865\n",
      "   macro avg       0.29      0.50      0.37      1865\n",
      "weighted avg       0.34      0.58      0.43      1865\n",
      "\n"
     ]
    },
    {
     "name": "stderr",
     "output_type": "stream",
     "text": [
      "/cvmfs/sft-nightlies.cern.ch/lcg/views/dev3cuda/Mon/x86_64-el9-gcc11-opt/lib/python3.11/site-packages/sklearn/metrics/_classification.py:1531: UndefinedMetricWarning: Precision is ill-defined and being set to 0.0 in labels with no predicted samples. Use `zero_division` parameter to control this behavior.\n",
      "  _warn_prf(average, modifier, f\"{metric.capitalize()} is\", len(result))\n",
      "/cvmfs/sft-nightlies.cern.ch/lcg/views/dev3cuda/Mon/x86_64-el9-gcc11-opt/lib/python3.11/site-packages/sklearn/metrics/_classification.py:1531: UndefinedMetricWarning: Precision is ill-defined and being set to 0.0 in labels with no predicted samples. Use `zero_division` parameter to control this behavior.\n",
      "  _warn_prf(average, modifier, f\"{metric.capitalize()} is\", len(result))\n",
      "/cvmfs/sft-nightlies.cern.ch/lcg/views/dev3cuda/Mon/x86_64-el9-gcc11-opt/lib/python3.11/site-packages/sklearn/metrics/_classification.py:1531: UndefinedMetricWarning: Precision is ill-defined and being set to 0.0 in labels with no predicted samples. Use `zero_division` parameter to control this behavior.\n",
      "  _warn_prf(average, modifier, f\"{metric.capitalize()} is\", len(result))\n"
     ]
    }
   ],
   "source": [
    "print(classification_report(y_test, y_pred_bool))"
   ]
  },
  {
   "cell_type": "code",
   "execution_count": 48,
   "id": "3d4cf263-1d2c-4820-90c5-a58a208e7818",
   "metadata": {},
   "outputs": [],
   "source": [
    "from sklearn.metrics import ConfusionMatrixDisplay"
   ]
  },
  {
   "cell_type": "code",
   "execution_count": 49,
   "id": "d25ae99f-fe4b-48fc-9cee-f631feee1493",
   "metadata": {},
   "outputs": [
    {
     "data": {
      "text/plain": [
       "Text(0.785, 1.02, 'AdvSND')"
      ]
     },
     "execution_count": 49,
     "metadata": {},
     "output_type": "execute_result"
    },
    {
     "data": {
      "image/png": "[encoded data removed]",
      "text/plain": [
       "<Figure size 432x288 with 2 Axes>"
      ]
     },
     "metadata": {
      "needs_background": "light"
     },
     "output_type": "display_data"
    }
   ],
   "source": [
    "fig, ax = plt.subplots(figsize=(6, 4))\n",
    "# Plot non-normalized confusion matrix\n",
    "titles_options = [\n",
    "    # (\"Confusion matrix, without normalisation\", None),\n",
    "    # (\"Normalised confusion matrix\", \"true\"),\n",
    "    (\"Scaled confusion matrix\", \"scaled\"),\n",
    "]\n",
    "for title, normalize in titles_options:\n",
    "    scale = 1.0\n",
    "    if normalize == \"scaled\":\n",
    "        normalize = \"true\"\n",
    "        scale = scaling_hadr if hadronic else scaling_muon\n",
    "    disp = ConfusionMatrixDisplay(\n",
    "        confusion_matrix(\n",
    "            le.inverse_transform(y_test.ravel()),\n",
    "            le.inverse_transform(y_pred_bool.ravel()),\n",
    "            normalize=normalize,\n",
    "        )\n",
    "        * scale,\n",
    "        display_labels=[r\"$\\nu_e$\", r\"$\\nu_\\tau$\"],\n",
    "    )\n",
    "    disp.plot(cmap=plt.cm.Blues, ax=ax)\n",
    "\n",
    "    # disp.plot(ax=ax)\n",
    "    # disp.ax_.set_title(title)\n",
    "\n",
    "    # print(title)\n",
    "    # print(disp.confusion_matrix)\n",
    "\n",
    "plt.text(\n",
    "    0.785,\n",
    "    1.02,\n",
    "    \"AdvSND\",\n",
    "    fontweight=\"bold\",\n",
    "    fontfamily=\"sans-serif\",\n",
    "    fontsize=16,\n",
    "    transform=ax.transAxes,\n",
    "    usetex=False,\n",
    ")\n",
    "\n",
    "# plt.show()\n",
    "#plt.savefig(f\"plots/confusion_matrix_{model_name}_n{n_events}_e{len(history_df)}.png\")\n",
    "#plt.savefig(f\"plots/confusion_matrix_{model_name}_n{n_events}_e{len(history_df)}.pdf\")"
   ]
  },
  {
   "cell_type": "code",
   "execution_count": 50,
   "id": "f301e5e2-5985-4994-8787-a12c86dc93f9",
   "metadata": {},
   "outputs": [],
   "source": [
    "from sklearn.metrics import RocCurveDisplay"
   ]
  },
  {
   "cell_type": "code",
   "execution_count": 51,
   "id": "89a50a63-af86-4d9f-a306-b4a43f69f71a",
   "metadata": {},
   "outputs": [
    {
     "data": {
      "text/plain": [
       "<sklearn.metrics._plot.roc_curve.RocCurveDisplay at 0x7f1f22d71190>"
      ]
     },
     "execution_count": 51,
     "metadata": {},
     "output_type": "execute_result"
    },
    {
     "data": {
      "image/png": "[encoded data removed]",
      "text/plain": [
       "<Figure size 432x288 with 1 Axes>"
      ]
     },
     "metadata": {
      "needs_background": "light"
     },
     "output_type": "display_data"
    }
   ],
   "source": [
    "RocCurveDisplay.from_predictions(y_test, y_pred)"
   ]
  },
  {
   "cell_type": "code",
   "execution_count": null,
   "id": "bc209bba-47e0-48de-9e1c-81c7abfbdc07",
   "metadata": {},
   "outputs": [],
   "source": []
  }
 ],
 "metadata": {
  "kernelspec": {
   "display_name": "Python 3",
   "language": "python",
   "name": "python3"
  },
  "language_info": {
   "codemirror_mode": {
    "name": "ipython",
    "version": 3
   },
   "file_extension": ".py",
   "mimetype": "text/x-python",
   "name": "python",
   "nbconvert_exporter": "python",
   "pygments_lexer": "ipython3",
   "version": "3.11.9"
  }
 },
 "nbformat": 4,
 "nbformat_minor": 5
}
