{
 "cells": [
  {
   "cell_type": "markdown",
   "id": "0",
   "metadata": {},
   "source": [
    "# Evaluation of model performance"
   ]
  },
  {
   "cell_type": "markdown",
   "id": "1",
   "metadata": {},
   "source": [
    "## Preamble"
   ]
  },
  {
   "cell_type": "code",
   "execution_count": null,
   "id": "2",
   "metadata": {},
   "outputs": [],
   "source": [
    "import pandas as pd"
   ]
  },
  {
   "cell_type": "code",
   "execution_count": null,
   "id": "3",
   "metadata": {},
   "outputs": [],
   "source": [
    "import scipy\n",
    "import numpy as np"
   ]
  },
  {
   "cell_type": "code",
   "execution_count": null,
   "id": "4",
   "metadata": {},
   "outputs": [],
   "source": [
    "import matplotlib.pyplot as plt"
   ]
  },
  {
   "cell_type": "code",
   "execution_count": null,
   "id": "5",
   "metadata": {},
   "outputs": [],
   "source": [
    "from iminuit import cost, Minuit"
   ]
  },
  {
   "cell_type": "code",
   "execution_count": null,
   "id": "6",
   "metadata": {},
   "outputs": [],
   "source": [
    "from iminuit.cost import LeastSquares"
   ]
  },
  {
   "cell_type": "code",
   "execution_count": null,
   "id": "7",
   "metadata": {},
   "outputs": [],
   "source": [
    "import hist"
   ]
  },
  {
   "cell_type": "code",
   "execution_count": null,
   "id": "8",
   "metadata": {},
   "outputs": [],
   "source": [
    "from plotting import watermark"
   ]
  },
  {
   "cell_type": "code",
   "execution_count": null,
   "id": "9",
   "metadata": {},
   "outputs": [],
   "source": [
    "plt.style.use([\"science\", \"notebook\"])"
   ]
  },
  {
   "cell_type": "code",
   "execution_count": null,
   "id": "10",
   "metadata": {},
   "outputs": [],
   "source": [
    "plt.rcParams[\"font.size\"] = 14\n",
    "plt.rcParams[\"axes.formatter.limits\"] = -5, 4\n",
    "plt.rcParams[\"figure.figsize\"] = 6, 4\n",
    "colors = plt.rcParams[\"axes.prop_cycle\"].by_key()[\"color\"]"
   ]
  },
  {
   "cell_type": "markdown",
   "id": "11",
   "metadata": {},
   "source": [
    "## $E_\\nu$ model"
   ]
  },
  {
   "cell_type": "markdown",
   "id": "12",
   "metadata": {},
   "source": [
    "### Load and prepare data"
   ]
  },
  {
   "cell_type": "code",
   "execution_count": null,
   "id": "13",
   "metadata": {},
   "outputs": [],
   "source": [
    "model_name = \"CNN_3d_grandjorasses_nu_energy\"\n",
    "epochs = 75"
   ]
  },
  {
   "cell_type": "code",
   "execution_count": null,
   "id": "14",
   "metadata": {},
   "outputs": [],
   "source": [
    "df = pd.read_csv(f\"{model_name}_n75842_e{epochs}.csv\")"
   ]
  },
  {
   "cell_type": "code",
   "execution_count": null,
   "id": "15",
   "metadata": {},
   "outputs": [],
   "source": [
    "df[\"total_energy_test\"] = df.nu_energy_test\n",
    "df[\"total_energy_pred\"] = df.nu_energy_pred"
   ]
  },
  {
   "cell_type": "code",
   "execution_count": null,
   "id": "16",
   "metadata": {},
   "outputs": [],
   "source": [
    "df[\"corrected_total_energy\"] = df.total_energy_pred"
   ]
  },
  {
   "cell_type": "markdown",
   "id": "17",
   "metadata": {},
   "source": [
    "### Correct energy scale"
   ]
  },
  {
   "cell_type": "code",
   "execution_count": null,
   "id": "18",
   "metadata": {},
   "outputs": [],
   "source": [
    "scale2 = df.total_energy_test.mean() / df.corrected_total_energy.mean()"
   ]
  },
  {
   "cell_type": "code",
   "execution_count": null,
   "id": "19",
   "metadata": {},
   "outputs": [],
   "source": [
    "scale = np.exp(\n",
    "    (np.log(df.total_energy_test) - np.log(df.corrected_total_energy)).mean()\n",
    ")"
   ]
  },
  {
   "cell_type": "code",
   "execution_count": null,
   "id": "20",
   "metadata": {},
   "outputs": [],
   "source": [
    "shift = ((scale * df.corrected_total_energy) - df.total_energy_test).mean()"
   ]
  },
  {
   "cell_type": "code",
   "execution_count": null,
   "id": "21",
   "metadata": {},
   "outputs": [],
   "source": [
    "shift2 = ((scale2 * df.corrected_total_energy) - df.total_energy_test).mean()"
   ]
  },
  {
   "cell_type": "code",
   "execution_count": null,
   "id": "22",
   "metadata": {},
   "outputs": [],
   "source": [
    "df[\"corrected_total_energy2\"] = (scale2 * df.corrected_total_energy) - shift2"
   ]
  },
  {
   "cell_type": "code",
   "execution_count": null,
   "id": "23",
   "metadata": {},
   "outputs": [],
   "source": [
    "df.corrected_total_energy = (scale * df.corrected_total_energy) - shift"
   ]
  },
  {
   "cell_type": "code",
   "execution_count": null,
   "id": "24",
   "metadata": {},
   "outputs": [],
   "source": [
    "print(scale, scale2, shift, shift2)"
   ]
  },
  {
   "cell_type": "markdown",
   "id": "25",
   "metadata": {},
   "source": [
    "Offset should be consistent with zero, small scale factor seems to be needed, consistent with small bias in $\\log{E}$"
   ]
  },
  {
   "cell_type": "code",
   "execution_count": null,
   "id": "26",
   "metadata": {},
   "outputs": [],
   "source": [
    "df[\"d_corrected_energy\"] = df.corrected_total_energy - df.total_energy_test"
   ]
  },
  {
   "cell_type": "code",
   "execution_count": null,
   "id": "27",
   "metadata": {},
   "outputs": [],
   "source": [
    "bins = np.linspace(0, 5000, 51)\n",
    "plt.hist(df.total_energy_test, bins=bins, label=\"true\", histtype=\"step\")\n",
    "plt.hist(df.total_energy_pred, bins=bins, label=\"uncorrected\", alpha=0.5)\n",
    "plt.hist(df.corrected_total_energy, bins=bins, label=\"corrected\", alpha=0.5)\n",
    "plt.hist(\n",
    "    df.corrected_total_energy2, bins=bins, label=\"corrected - alternative\", alpha=0.5\n",
    ")\n",
    "plt.xlabel(r\" $E\\;[\\mathrm{GeV}]$\")\n",
    "watermark()\n",
    "plt.legend()\n",
    "plt.savefig(f\"plots/energy_correction_{model_name}.png\")\n",
    "plt.savefig(f\"plots/energy_correction_{model_name}.pdf\")"
   ]
  },
  {
   "cell_type": "code",
   "execution_count": null,
   "id": "28",
   "metadata": {},
   "outputs": [],
   "source": [
    "(df.d_corrected_energy / df.total_energy_test).hist(bins=100, log=True)"
   ]
  },
  {
   "cell_type": "code",
   "execution_count": null,
   "id": "29",
   "metadata": {},
   "outputs": [],
   "source": [
    "df.d_corrected_energy.hist(bins=100, log=True)"
   ]
  },
  {
   "cell_type": "code",
   "execution_count": null,
   "id": "30",
   "metadata": {},
   "outputs": [],
   "source": [
    "df.d_corrected_energy[(1000 < df.total_energy_test) & df.total_energy_test < 2000].hist(\n",
    "    bins=100, log=True\n",
    ")"
   ]
  },
  {
   "cell_type": "markdown",
   "id": "31",
   "metadata": {},
   "source": [
    "### Fit energy resolution"
   ]
  },
  {
   "cell_type": "code",
   "execution_count": null,
   "id": "32",
   "metadata": {},
   "outputs": [],
   "source": [
    "bins_E_reco = 14"
   ]
  },
  {
   "cell_type": "code",
   "execution_count": null,
   "id": "33",
   "metadata": {},
   "outputs": [],
   "source": [
    "(2000 - 200) / 15"
   ]
  },
  {
   "cell_type": "code",
   "execution_count": null,
   "id": "34",
   "metadata": {},
   "outputs": [],
   "source": [
    "df.total_energy_test.min()"
   ]
  },
  {
   "cell_type": "code",
   "execution_count": null,
   "id": "35",
   "metadata": {},
   "outputs": [],
   "source": [
    "h_dE_rel_test_vs_E_rel_pred = (\n",
    "    hist.Hist.new.Regular(200, -1000, 1000, name=r\"dE\")\n",
    "    .Regular(\n",
    "        bins_E_reco, 320, 2000, name=r\"E_true\"\n",
    "    )  # , transform=hist.axis.transform.log)\n",
    "    .Double()\n",
    ")"
   ]
  },
  {
   "cell_type": "code",
   "execution_count": null,
   "id": "36",
   "metadata": {},
   "outputs": [],
   "source": [
    "h_dE_rel_test_vs_E_rel_pred.fill(df.d_corrected_energy, df.total_energy_test)"
   ]
  },
  {
   "cell_type": "code",
   "execution_count": null,
   "id": "37",
   "metadata": {},
   "outputs": [],
   "source": [
    "h_dE_rel_test_vs_E_rel_pred.plot()\n",
    "plt.xlabel(r\" $\\Delta E\\;[\\mathrm{GeV}]$\")\n",
    "plt.ylabel(r\"true $E\\;[\\mathrm{GeV}]$\")\n",
    "ax = plt.gca()\n",
    "plt.text(\n",
    "    0.8,\n",
    "    1.02,\n",
    "    \"AdvSND\",\n",
    "    fontweight=\"bold\",\n",
    "    fontfamily=\"sans-serif\",\n",
    "    fontsize=16,\n",
    "    transform=ax.transAxes,\n",
    "    usetex=False,\n",
    ")\n",
    "plt.text(\n",
    "    0.0,\n",
    "    1.02,\n",
    "    \"preliminary\",\n",
    "    fontfamily=\"sans-serif\",\n",
    "    fontsize=16,\n",
    "    transform=ax.transAxes,\n",
    "    usetex=False,\n",
    ")\n",
    "# plt.savefig(\"plots/h_dE_rel_test_vs_E_rel_pred.pdf\")\n",
    "# plt.savefig(\"plots/h_dE_rel_test_vs_E_rel_pred.png\")"
   ]
  },
  {
   "cell_type": "code",
   "execution_count": null,
   "id": "38",
   "metadata": {},
   "outputs": [],
   "source": [
    "def model(x, mu, sigma):\n",
    "    return scipy.stats.norm.cdf(x, loc=mu, scale=sigma)"
   ]
  },
  {
   "cell_type": "code",
   "execution_count": null,
   "id": "39",
   "metadata": {},
   "outputs": [],
   "source": [
    "mus = []\n",
    "sigmas = []\n",
    "bins = []\n",
    "\n",
    "for bin in range(bins_E_reco):\n",
    "    h = h_dE_rel_test_vs_E_rel_pred[:, bin]\n",
    "    entries, edges = h.to_numpy()\n",
    "    n_bins = len(entries)\n",
    "    average = np.average(edges[:-1], weights=entries)\n",
    "    variance = np.average((edges[:-1] - average) ** 2, weights=entries)\n",
    "    m = Minuit(cost.BinnedNLL(entries, edges, model), average, np.sqrt(variance))\n",
    "    res = m.migrad()\n",
    "    if res.valid:\n",
    "        bins.append(bin)\n",
    "        mus.append(res.params[0])\n",
    "        sigmas.append(res.params[1])\n",
    "    else:\n",
    "        print(res)"
   ]
  },
  {
   "cell_type": "code",
   "execution_count": null,
   "id": "40",
   "metadata": {},
   "outputs": [],
   "source": [
    "bin_edges = h_dE_rel_test_vs_E_rel_pred[0, :].to_numpy()[1]\n",
    "bin_centres = (bin_edges[1:] + bin_edges[:-1]) / 2\n",
    "bin_half_widths = (bin_edges[1:] - bin_edges[:-1]) / 2"
   ]
  },
  {
   "cell_type": "code",
   "execution_count": null,
   "id": "41",
   "metadata": {},
   "outputs": [],
   "source": [
    "plt.errorbar(\n",
    "    bin_centres[bins],\n",
    "    [mu.value for mu in mus] / bin_centres[bins],\n",
    "    xerr=bin_half_widths[bins],\n",
    "    yerr=[mu.error for mu in mus] / bin_centres[bins],\n",
    "    linestyle=\"\",\n",
    "    label=r\"$\\left<\\Delta E\\right>$\",\n",
    "    color=colors[0],\n",
    ")\n",
    "plt.hlines(0, *plt.xlim(), color=\"red\")\n",
    "plt.ylabel(r\"$\\frac{\\left<\\Delta E\\right>}{E_\\mathrm{true}}$\")\n",
    "plt.xlabel(r\"$E_\\mathrm{true}\\;[\\mathrm{GeV}]$\")\n",
    "ax = plt.gca()\n",
    "plt.text(\n",
    "    0.0,\n",
    "    1.02,\n",
    "    \"preliminary\",\n",
    "    fontfamily=\"sans-serif\",\n",
    "    fontsize=16,\n",
    "    transform=ax.transAxes,\n",
    "    usetex=False,\n",
    ")\n",
    "plt.text(\n",
    "    0.8,\n",
    "    1.02,\n",
    "    \"AdvSND\",\n",
    "    fontweight=\"bold\",\n",
    "    fontfamily=\"sans-serif\",\n",
    "    fontsize=16,\n",
    "    transform=ax.transAxes,\n",
    "    usetex=False,\n",
    ")\n",
    "plt.savefig(\"plots/energy_bias.pdf\")\n",
    "plt.savefig(\"plots/energy_bias.png\")"
   ]
  },
  {
   "cell_type": "code",
   "execution_count": null,
   "id": "42",
   "metadata": {},
   "outputs": [],
   "source": [
    "import sympy"
   ]
  },
  {
   "cell_type": "code",
   "execution_count": null,
   "id": "43",
   "metadata": {},
   "outputs": [],
   "source": [
    "A, b, E = sympy.symbols(\"A b E\")"
   ]
  },
  {
   "cell_type": "code",
   "execution_count": null,
   "id": "44",
   "metadata": {},
   "outputs": [],
   "source": [
    "f = A + b / sympy.sqrt(E)"
   ]
  },
  {
   "cell_type": "code",
   "execution_count": null,
   "id": "45",
   "metadata": {},
   "outputs": [],
   "source": [
    "f_lambda = sympy.lambdify((A, b, E), f)"
   ]
  },
  {
   "cell_type": "code",
   "execution_count": null,
   "id": "46",
   "metadata": {},
   "outputs": [],
   "source": [
    "def E_model(E, A, b):\n",
    "    return f_lambda(A, b, E)"
   ]
  },
  {
   "cell_type": "code",
   "execution_count": null,
   "id": "47",
   "metadata": {},
   "outputs": [],
   "source": [
    "sigma_E_over_E = np.array([sigma.value for sigma in sigmas]) / bin_centres[bins]\n",
    "d_sigma_E_over_E = (\n",
    "    [sigma.value for sigma in sigmas]\n",
    "    / bin_centres[bins]\n",
    "    * np.sqrt(\n",
    "        (\n",
    "            np.array([sigma.error for sigma in sigmas])\n",
    "            / np.array([sigma.value for sigma in sigmas])\n",
    "        )\n",
    "        ** 2\n",
    "        + (bin_half_widths[bins] / bin_centres[bins]) ** 2\n",
    "    )\n",
    ")"
   ]
  },
  {
   "cell_type": "code",
   "execution_count": null,
   "id": "48",
   "metadata": {},
   "outputs": [],
   "source": [
    "least_squares = LeastSquares(\n",
    "    bin_centres[bins], sigma_E_over_E, d_sigma_E_over_E, E_model\n",
    ")"
   ]
  },
  {
   "cell_type": "code",
   "execution_count": null,
   "id": "49",
   "metadata": {},
   "outputs": [],
   "source": [
    "m = Minuit(least_squares, A=0.1, b=1)  # starting values for α and β\n",
    "\n",
    "m.migrad()  # finds minimum of least_squares function\n",
    "res = m.hesse()  # accurately computes uncertainties"
   ]
  },
  {
   "cell_type": "code",
   "execution_count": null,
   "id": "50",
   "metadata": {},
   "outputs": [],
   "source": [
    "res"
   ]
  },
  {
   "cell_type": "code",
   "execution_count": null,
   "id": "51",
   "metadata": {},
   "outputs": [],
   "source": [
    "f_pretty = sympy.latex(\n",
    "    f.subs(\n",
    "        [\n",
    "            (A, sympy.Float(res.params[0].value, 1)),\n",
    "            (b, sympy.Float(res.params[1].value, 2)),\n",
    "        ]\n",
    "    )\n",
    ")"
   ]
  },
  {
   "cell_type": "code",
   "execution_count": null,
   "id": "52",
   "metadata": {},
   "outputs": [],
   "source": [
    "plt.errorbar(\n",
    "    bin_centres[bins],\n",
    "    [sigma.value for sigma in sigmas] / bin_centres[bins],\n",
    "    xerr=bin_half_widths[bins],\n",
    "    yerr=d_sigma_E_over_E,\n",
    "    linestyle=\"\",\n",
    "    label=r\"$\\sigma\\left(\\Delta E\\right)$\",\n",
    "    color=colors[1],\n",
    "    fmt=\"o\",\n",
    "    capsize=3,\n",
    ")\n",
    "plt.plot(\n",
    "    bin_centres[bins],\n",
    "    E_model(bin_centres[bins], res.params[0].value, res.params[1].value),\n",
    ")\n",
    "plt.ylabel(r\"$\\frac{\\sigma\\left(\\Delta E\\right)}{E_\\mathrm{true}}$\")\n",
    "plt.xlabel(r\"$E_\\mathrm{true}\\;[\\mathrm{GeV}]$\")\n",
    "ax = plt.gca()\n",
    "watermark()\n",
    "plt.text(0.6, 0.7, rf\"${f_pretty}$\", fontsize=14, transform=ax.transAxes)\n",
    "plt.text(\n",
    "    0.6,\n",
    "    0.6,\n",
    "    rf\"$A = {res.params[0].value:.2f} \\pm {res.params[0].error:.2f}$\",\n",
    "    fontsize=14,\n",
    "    transform=ax.transAxes,\n",
    ")\n",
    "plt.text(\n",
    "    0.6,\n",
    "    0.5,\n",
    "    rf\"$b = {res.params[1].value:.1f} \\pm {res.params[1].error:.1f}$\",\n",
    "    fontsize=14,\n",
    "    transform=ax.transAxes,\n",
    ")\n",
    "\n",
    "plt.savefig(f\"plots/energy_resolution_{model_name}.pdf\")\n",
    "plt.savefig(f\"plots/energy_resolution_{model_name}.png\")"
   ]
  },
  {
   "cell_type": "code",
   "execution_count": null,
   "id": "53",
   "metadata": {},
   "outputs": [],
   "source": [
    "import uproot"
   ]
  },
  {
   "cell_type": "code",
   "execution_count": null,
   "id": "54",
   "metadata": {},
   "outputs": [],
   "source": [
    "filename_test = \"root://eospublic.cern.ch//eos/experiment/sndlhc/users/olantwin/advsnd/2024/09/nu12/Default/dataframe_CC_test.root:df\""
   ]
  },
  {
   "cell_type": "code",
   "execution_count": null,
   "id": "55",
   "metadata": {},
   "outputs": [],
   "source": [
    "events_test = uproot.open(filename_test)"
   ]
  },
  {
   "cell_type": "code",
   "execution_count": null,
   "id": "56",
   "metadata": {},
   "outputs": [],
   "source": [
    "events_test.keys()"
   ]
  },
  {
   "cell_type": "code",
   "execution_count": null,
   "id": "57",
   "metadata": {},
   "outputs": [],
   "source": [
    "df_truth = events_test.arrays(\n",
    "    [\"start_x\", \"start_y\", \"start_z\", \"energy_dep_mufilter\", \"energy_dep_target\"],\n",
    "    library=\"pd\",\n",
    ")"
   ]
  },
  {
   "cell_type": "code",
   "execution_count": null,
   "id": "58",
   "metadata": {},
   "outputs": [],
   "source": [
    "df = pd.concat([df, df_truth], axis=1)"
   ]
  },
  {
   "cell_type": "code",
   "execution_count": null,
   "id": "59",
   "metadata": {},
   "outputs": [],
   "source": [
    "df.pop(\"Unnamed: 0\")"
   ]
  },
  {
   "cell_type": "code",
   "execution_count": null,
   "id": "60",
   "metadata": {},
   "outputs": [],
   "source": [
    "df[\"visible\"] = (df.energy_dep_mufilter + df.energy_dep_target) / df.nu_energy_test"
   ]
  },
  {
   "cell_type": "code",
   "execution_count": null,
   "id": "61",
   "metadata": {},
   "outputs": [],
   "source": [
    "from matplotlib.patches import Rectangle, Ellipse"
   ]
  },
  {
   "cell_type": "code",
   "execution_count": null,
   "id": "62",
   "metadata": {},
   "outputs": [],
   "source": [
    "plt.hist2d(df.start_z, df.start_y)\n",
    "ax = plt.gca()\n",
    "ax.add_patch(\n",
    "    Rectangle((-232, -10), 150, 20, linewidth=2, edgecolor=\"r\", facecolor=\"none\")\n",
    ")\n",
    "watermark()\n",
    "plt.xlabel(r\"$z$\")\n",
    "plt.ylabel(r\"$y$\")\n",
    "\n",
    "\n",
    "plt.savefig(\"plots/bins_zy.pdf\")\n",
    "plt.savefig(\"plots/bins_zy.png\")"
   ]
  },
  {
   "cell_type": "code",
   "execution_count": null,
   "id": "63",
   "metadata": {},
   "outputs": [],
   "source": [
    "plt.hist2d(df.start_x, df.start_y)\n",
    "ax = plt.gca()\n",
    "ax.add_patch(Rectangle((0, -10), 20, 20, linewidth=2, edgecolor=\"r\", facecolor=\"none\"))\n",
    "watermark()\n",
    "plt.xlabel(r\"$x$\")\n",
    "plt.ylabel(r\"$y$\")\n",
    "\n",
    "plt.savefig(\"plots/bins_xy.pdf\")\n",
    "plt.savefig(\"plots/bins_xy.png\")"
   ]
  },
  {
   "cell_type": "code",
   "execution_count": null,
   "id": "64",
   "metadata": {},
   "outputs": [],
   "source": [
    "h_dE_rel_test_vs_E_rel_pred_pos = (\n",
    "    hist.Hist.new.Regular(200, -1000, 1000, name=r\"dE\")\n",
    "    .Regular(\n",
    "        bins_E_reco, 320, 2000, name=r\"E_true\"\n",
    "    )  # , transform=hist.axis.transform.log)\n",
    "    .Regular(10, 0, 20, name=\"x\")\n",
    "    .Regular(10, -10, 10, name=\"y\")\n",
    "    .Regular(10, -232, -82, name=\"z\")\n",
    "    .Regular(10, df.visible.min(), df.visible.max(), name=\"containment\")\n",
    "    .Double()\n",
    ")"
   ]
  },
  {
   "cell_type": "code",
   "execution_count": null,
   "id": "65",
   "metadata": {},
   "outputs": [],
   "source": [
    "h_dE_rel_test_vs_E_rel_pred_pos.fill(\n",
    "    df.d_corrected_energy,\n",
    "    df.total_energy_test,\n",
    "    df.start_x,\n",
    "    df.start_y,\n",
    "    df.start_z,\n",
    "    df.visible,\n",
    ")"
   ]
  },
  {
   "cell_type": "code",
   "execution_count": null,
   "id": "66",
   "metadata": {},
   "outputs": [],
   "source": [
    "import itertools"
   ]
  },
  {
   "cell_type": "code",
   "execution_count": null,
   "id": "67",
   "metadata": {},
   "outputs": [],
   "source": [
    "def resolution(h, axis, only=False):\n",
    "    mus = []\n",
    "    sigmas = []\n",
    "    bins = []\n",
    "\n",
    "    for bin_E, bin_pos in itertools.product(range(bins_E_reco), range(10)):\n",
    "        bin = [bin_E, hist.sum, hist.sum, hist.sum, hist.sum]\n",
    "        bin[axis + 1] = bin_pos\n",
    "        h = h_dE_rel_test_vs_E_rel_pred_pos[:, bin[0], bin[1], bin[2], bin[3], bin[4]]\n",
    "        entries, edges = h.to_numpy()\n",
    "        len(entries)\n",
    "        average = np.average(edges[:-1], weights=entries)\n",
    "        variance = np.average((edges[:-1] - average) ** 2, weights=entries)\n",
    "        m = Minuit(cost.BinnedNLL(entries, edges, model), average, np.sqrt(variance))\n",
    "        res = m.migrad()\n",
    "        if res.valid:\n",
    "            bins.append(bin)\n",
    "            mus.append(res.params[0])\n",
    "            sigmas.append(res.params[1])\n",
    "        else:\n",
    "            print(res)\n",
    "\n",
    "    As = []\n",
    "    bs = []\n",
    "    for i in range(10):\n",
    "        bin = 4 * [\n",
    "            hist.sum,\n",
    "        ]\n",
    "        bin[axis] = i\n",
    "        bin_edges = h_dE_rel_test_vs_E_rel_pred_pos[\n",
    "            0, :, bin[0], bin[1], bin[2], bin[3]\n",
    "        ].to_numpy()[1]\n",
    "        bin_centres = (bin_edges[1:] + bin_edges[:-1]) / 2\n",
    "        bin_half_widths = (bin_edges[1:] - bin_edges[:-1]) / 2\n",
    "        _bins = list(zip(*bins[::10]))[0]\n",
    "        _sigmas = sigmas[i::10]\n",
    "        _sigma_E_over_E = np.array([sigma.value for sigma in _sigmas]) / bin_centres\n",
    "        _d_sigma_E_over_E = (\n",
    "            [sigma.value for sigma in _sigmas]\n",
    "            / bin_centres\n",
    "            * np.sqrt(\n",
    "                (\n",
    "                    np.array([sigma.error for sigma in _sigmas])\n",
    "                    / np.array([sigma.value for sigma in _sigmas])\n",
    "                )\n",
    "                ** 2\n",
    "                + (bin_half_widths / bin_centres) ** 2\n",
    "            )\n",
    "        )\n",
    "        _least_squares = LeastSquares(\n",
    "            bin_centres, _sigma_E_over_E, _d_sigma_E_over_E, E_model\n",
    "        )\n",
    "        _m = Minuit(_least_squares, A=0.1, b=1)  # starting values for α and β\n",
    "        _m.migrad()  # finds minimum of least_squares function\n",
    "        _res = _m.hesse()  # accurately computes uncertainties\n",
    "        if not only or i == only:\n",
    "            plt.errorbar(\n",
    "                bin_centres,\n",
    "                _sigma_E_over_E,\n",
    "                xerr=bin_half_widths,\n",
    "                yerr=_d_sigma_E_over_E,\n",
    "                linestyle=\"\",\n",
    "                label=r\"$\\sigma\\left(\\Delta E\\right)$\",\n",
    "                # color=colors[1],\n",
    "                fmt=\"o\",\n",
    "                capsize=3,\n",
    "            )\n",
    "            plt.plot(\n",
    "                bin_centres,\n",
    "                E_model(bin_centres, _res.params[0].value, _res.params[1].value),\n",
    "            )\n",
    "        As.append(_res.params[0])\n",
    "        bs.append(_res.params[1])\n",
    "    watermark()\n",
    "    suffix = [\"x\", \"y\", \"z\", \"containment\"][axis]\n",
    "    plt.ylabel(r\"$\\frac{\\sigma\\left(\\Delta E\\right)}{E_\\mathrm{true}}$\")\n",
    "    plt.xlabel(r\"$E_\\mathrm{true}\\;[\\mathrm{GeV}]$\")\n",
    "    plt.savefig(f\"plots/energy_resolution_{suffix}_{model_name}.pdf\")\n",
    "    plt.savefig(f\"plots/energy_resolution_{suffix}_{model_name}.png\")\n",
    "    return As, bs"
   ]
  },
  {
   "cell_type": "code",
   "execution_count": null,
   "id": "68",
   "metadata": {},
   "outputs": [],
   "source": [
    "As_x, bs_x = resolution(h_dE_rel_test_vs_E_rel_pred_pos, axis=0)"
   ]
  },
  {
   "cell_type": "code",
   "execution_count": null,
   "id": "69",
   "metadata": {},
   "outputs": [],
   "source": [
    "As_y, bs_y = resolution(h_dE_rel_test_vs_E_rel_pred_pos, axis=1)"
   ]
  },
  {
   "cell_type": "code",
   "execution_count": null,
   "id": "70",
   "metadata": {},
   "outputs": [],
   "source": [
    "As_z, bs_z = resolution(h_dE_rel_test_vs_E_rel_pred_pos, axis=2)"
   ]
  },
  {
   "cell_type": "code",
   "execution_count": null,
   "id": "71",
   "metadata": {},
   "outputs": [],
   "source": [
    "As_containment, bs_containment = resolution(h_dE_rel_test_vs_E_rel_pred_pos, axis=3)"
   ]
  },
  {
   "cell_type": "code",
   "execution_count": null,
   "id": "72",
   "metadata": {},
   "outputs": [],
   "source": [
    "As_containment, bs_containment = resolution(\n",
    "    h_dE_rel_test_vs_E_rel_pred_pos, axis=3, only=9\n",
    ")"
   ]
  },
  {
   "cell_type": "code",
   "execution_count": null,
   "id": "73",
   "metadata": {},
   "outputs": [],
   "source": [
    "As_containment[9], bs_containment[9]"
   ]
  },
  {
   "cell_type": "code",
   "execution_count": null,
   "id": "74",
   "metadata": {},
   "outputs": [],
   "source": [
    "watermark()\n",
    "\n",
    "plt.axhline(res.params[0].value, color=\"r\", label=r\"nominal ($\\pm1\\;\\sigma$)\")\n",
    "plt.axhline(res.params[0].value - res.params[0].error, linestyle=\"--\", color=\"r\")\n",
    "plt.axhline(res.params[0].value + res.params[0].error, linestyle=\"--\", color=\"r\")\n",
    "plt.errorbar(\n",
    "    range(10),\n",
    "    [A.value for A in As_x],\n",
    "    yerr=[A.error for A in As_x],\n",
    "    fmt=\"o\",\n",
    "    capsize=3,\n",
    "    label=r\"vary $x$\",\n",
    ")\n",
    "plt.errorbar(\n",
    "    range(10),\n",
    "    [A.value for A in As_y],\n",
    "    yerr=[A.error for A in As_y],\n",
    "    fmt=\"o\",\n",
    "    capsize=3,\n",
    "    label=r\"vary $y$\",\n",
    ")\n",
    "plt.errorbar(\n",
    "    range(10),\n",
    "    [A.value for A in As_z],\n",
    "    yerr=[A.error for A in As_z],\n",
    "    fmt=\"o\",\n",
    "    capsize=3,\n",
    "    label=r\"vary $z$\",\n",
    ")\n",
    "plt.errorbar(\n",
    "    range(10),\n",
    "    [A.value for A in As_containment],\n",
    "    yerr=[A.error for A in As_containment],\n",
    "    fmt=\"o\",\n",
    "    capsize=3,\n",
    "    label=r\"vary containement\",\n",
    ")\n",
    "plt.legend(ncols=2, loc=0, fontsize=10)\n",
    "plt.xlabel(\"bin\")\n",
    "plt.ylabel(r\"$A$\")\n",
    "plt.savefig(f\"plots/As_{model_name}.pdf\")\n",
    "plt.savefig(f\"plots/As_{model_name}.png\")"
   ]
  },
  {
   "cell_type": "code",
   "execution_count": null,
   "id": "75",
   "metadata": {},
   "outputs": [],
   "source": [
    "plt.axhline(res.params[1].value, color=\"r\", label=r\"nominal ($\\pm1\\;\\sigma$)\")\n",
    "plt.axhline(res.params[1].value - res.params[1].error, linestyle=\"--\", color=\"r\")\n",
    "plt.axhline(res.params[1].value + res.params[1].error, linestyle=\"--\", color=\"r\")\n",
    "\n",
    "plt.errorbar(\n",
    "    range(10),\n",
    "    [b.value for b in bs_x],\n",
    "    yerr=[b.error for b in bs_x],\n",
    "    fmt=\"o\",\n",
    "    capsize=3,\n",
    "    label=r\"vary $x$\",\n",
    ")\n",
    "plt.errorbar(\n",
    "    range(10),\n",
    "    [b.value for b in bs_y],\n",
    "    yerr=[b.error for b in bs_y],\n",
    "    fmt=\"o\",\n",
    "    capsize=3,\n",
    "    label=r\"vary $y$\",\n",
    ")\n",
    "plt.errorbar(\n",
    "    range(10),\n",
    "    [b.value for b in bs_z],\n",
    "    yerr=[b.error for b in bs_z],\n",
    "    fmt=\"o\",\n",
    "    capsize=3,\n",
    "    label=r\"vary $z$\",\n",
    ")\n",
    "plt.errorbar(\n",
    "    range(10),\n",
    "    [b.value for b in bs_containment],\n",
    "    yerr=[b.error for b in bs_containment],\n",
    "    fmt=\"o\",\n",
    "    capsize=3,\n",
    "    label=r\"vary containement\",\n",
    ")\n",
    "plt.legend(ncols=2, loc=0, fontsize=10)\n",
    "watermark()\n",
    "\n",
    "plt.xlabel(\"bin\")\n",
    "plt.ylabel(r\"$b$\")\n",
    "plt.savefig(f\"plots/bs_{model_name}.pdf\")\n",
    "plt.savefig(f\"plots/bs_{model_name}.png\")"
   ]
  },
  {
   "cell_type": "code",
   "execution_count": null,
   "id": "76",
   "metadata": {},
   "outputs": [],
   "source": [
    "import matplotlib.transforms as transforms"
   ]
  },
  {
   "cell_type": "code",
   "execution_count": null,
   "id": "77",
   "metadata": {},
   "outputs": [],
   "source": [
    "def confidence_ellipse(mean_x, mean_y, cov, ax, n_std=1.0, facecolor=\"none\", **kwargs):\n",
    "    \"\"\"\n",
    "    Create a plot of the covariance confidence ellipse.\n",
    "\n",
    "    Parameters\n",
    "    ----------\n",
    "    cov : array-like, shape (2, 2)\n",
    "        Covariance\n",
    "\n",
    "    ax : matplotlib.axes.Axes\n",
    "        The Axes object to draw the ellipse into.\n",
    "\n",
    "    n_std : float\n",
    "        The number of standard deviations to determine the ellipse's radiuses.\n",
    "\n",
    "    **kwargs\n",
    "        Forwarded to `~matplotlib.patches.Ellipse`\n",
    "\n",
    "    Returns\n",
    "    -------\n",
    "    matplotlib.patches.Ellipse\n",
    "    \"\"\"\n",
    "    pearson = cov[0, 1] / np.sqrt(cov[0, 0] * cov[1, 1])\n",
    "    # Using a special case to obtain the eigenvalues of this\n",
    "    # two-dimensional dataset.\n",
    "    ell_radius_x = np.sqrt(1 + pearson)\n",
    "    ell_radius_y = np.sqrt(1 - pearson)\n",
    "    ellipse = Ellipse(\n",
    "        (0, 0),\n",
    "        width=ell_radius_x * 2,\n",
    "        height=ell_radius_y * 2,\n",
    "        facecolor=facecolor,\n",
    "        **kwargs,\n",
    "    )\n",
    "\n",
    "    # Calculating the standard deviation of x from\n",
    "    # the squareroot of the variance and multiplying\n",
    "    # with the given number of standard deviations.\n",
    "    scale_x = np.sqrt(cov[0, 0]) * n_std\n",
    "\n",
    "    # calculating the standard deviation of y ...\n",
    "    scale_y = np.sqrt(cov[1, 1]) * n_std\n",
    "\n",
    "    transf = (\n",
    "        transforms.Affine2D()\n",
    "        .rotate_deg(45)\n",
    "        .scale(scale_x, scale_y)\n",
    "        .translate(mean_x, mean_y)\n",
    "    )\n",
    "\n",
    "    ellipse.set_transform(transf + ax.transData)\n",
    "    return ax.add_patch(ellipse)"
   ]
  },
  {
   "cell_type": "code",
   "execution_count": null,
   "id": "78",
   "metadata": {},
   "outputs": [],
   "source": [
    "plt.figure()\n",
    "plt.errorbar(\n",
    "    [A.value for A in As_x],\n",
    "    [b.value for b in bs_x],\n",
    "    xerr=[A.error for A in As_x],\n",
    "    yerr=[b.error for b in bs_x],\n",
    "    fmt=\"o\",\n",
    "    capsize=3,\n",
    "    label=r\"vary $x$\",\n",
    ")\n",
    "for n, point in enumerate(zip([A.value for A in As_x], [b.value for b in bs_x])):\n",
    "    plt.annotate(\n",
    "        f\"$x_{n}$\",\n",
    "        point,\n",
    "        xytext=(5, 5),\n",
    "        textcoords=\"offset pixels\",\n",
    "    )\n",
    "plt.errorbar(\n",
    "    [A.value for A in As_y],\n",
    "    [b.value for b in bs_y],\n",
    "    xerr=[A.error for A in As_y],\n",
    "    yerr=[b.error for b in bs_y],\n",
    "    fmt=\"o\",\n",
    "    capsize=3,\n",
    "    label=r\"vary $y$\",\n",
    ")\n",
    "for n, point in enumerate(zip([A.value for A in As_y], [b.value for b in bs_y])):\n",
    "    plt.annotate(\n",
    "        f\"$y_{n}$\",\n",
    "        point,\n",
    "        xytext=(5, 5),\n",
    "        textcoords=\"offset pixels\",\n",
    "    )\n",
    "plt.errorbar(\n",
    "    [A.value for A in As_z],\n",
    "    [b.value for b in bs_z],\n",
    "    xerr=[A.error for A in As_z],\n",
    "    yerr=[b.error for b in bs_z],\n",
    "    fmt=\"o\",\n",
    "    capsize=3,\n",
    "    label=r\"vary $z$\",\n",
    ")\n",
    "for n, point in enumerate(zip([A.value for A in As_z], [b.value for b in bs_z])):\n",
    "    plt.annotate(\n",
    "        f\"$z_{n}$\",\n",
    "        point,\n",
    "        xytext=(5, 5),\n",
    "        textcoords=\"offset pixels\",\n",
    "    )\n",
    "plt.errorbar(\n",
    "    [A.value for A in As_containment],\n",
    "    [b.value for b in bs_containment],\n",
    "    xerr=[A.error for A in As_containment],\n",
    "    yerr=[b.error for b in bs_containment],\n",
    "    fmt=\"o\",\n",
    "    capsize=3,\n",
    "    label=r\"vary containment\",\n",
    ")\n",
    "for n, point in enumerate(\n",
    "    zip([A.value for A in As_containment], [b.value for b in bs_containment])\n",
    "):\n",
    "    plt.annotate(\n",
    "        f\"$c_{n}$\",\n",
    "        point,\n",
    "        xytext=(5, 5),\n",
    "        textcoords=\"offset pixels\",\n",
    "    )\n",
    "ax = plt.gca()\n",
    "confidence_ellipse(\n",
    "    res.params[0].value,\n",
    "    res.params[1].value,\n",
    "    res.covariance,\n",
    "    ax,\n",
    "    edgecolor=\"red\",\n",
    "    n_std=1,\n",
    "    linewidth=2,\n",
    "    facecolor=\"r\",\n",
    "    alpha=0.5,\n",
    ")\n",
    "confidence_ellipse(\n",
    "    res.params[0].value,\n",
    "    res.params[1].value,\n",
    "    res.covariance,\n",
    "    ax,\n",
    "    edgecolor=\"red\",\n",
    "    n_std=2,\n",
    "    linewidth=2,\n",
    "    alpha=0.5,\n",
    ")\n",
    "confidence_ellipse(\n",
    "    res.params[0].value,\n",
    "    res.params[1].value,\n",
    "    res.covariance,\n",
    "    ax,\n",
    "    edgecolor=\"red\",\n",
    "    n_std=3,\n",
    "    linewidth=2,\n",
    "    alpha=0.5,\n",
    ")\n",
    "plt.scatter(res.params[0].value, res.params[1].value, color=\"r\", label=r\"nominal\")\n",
    "\n",
    "plt.xlabel(r\"$A$\")\n",
    "plt.ylabel(r\"$b$\")\n",
    "plt.legend(ncols=2, loc=0, fontsize=10)\n",
    "watermark()\n",
    "\n",
    "plt.savefig(f\"plots/As_and_bs_{model_name}.pdf\")\n",
    "plt.savefig(f\"plots/As_and_bs_{model_name}.png\")"
   ]
  },
  {
   "cell_type": "code",
   "execution_count": null,
   "id": "79",
   "metadata": {},
   "outputs": [],
   "source": [
    "df"
   ]
  },
  {
   "cell_type": "code",
   "execution_count": null,
   "id": "80",
   "metadata": {},
   "outputs": [],
   "source": [
    "df.visible.hist()"
   ]
  },
  {
   "cell_type": "code",
   "execution_count": null,
   "id": "81",
   "metadata": {},
   "outputs": [],
   "source": []
  }
 ],
 "metadata": {
  "@webio": {
   "lastCommId": null,
   "lastKernelId": null
  },
  "kernelspec": {
   "display_name": "Python 3",
   "language": "python",
   "name": "python3"
  },
  "language_info": {
   "codemirror_mode": {
    "name": "ipython",
    "version": 3
   },
   "file_extension": ".py",
   "mimetype": "text/x-python",
   "name": "python",
   "nbconvert_exporter": "python",
   "pygments_lexer": "ipython3",
   "version": "3.9.12"
  }
 },
 "nbformat": 4,
 "nbformat_minor": 5
}
