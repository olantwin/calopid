{
 "cells": [
  {
   "cell_type": "code",
   "execution_count": null,
   "id": "0",
   "metadata": {},
   "outputs": [],
   "source": [
    "import ROOT"
   ]
  },
  {
   "cell_type": "code",
   "execution_count": null,
   "id": "1",
   "metadata": {},
   "outputs": [],
   "source": [
    "ROOT.EnableImplicitMT()"
   ]
  },
  {
   "cell_type": "code",
   "execution_count": null,
   "id": "2",
   "metadata": {},
   "outputs": [],
   "source": []
  },
  {
   "cell_type": "code",
   "execution_count": null,
   "id": "3",
   "metadata": {},
   "outputs": [],
   "source": []
  },
  {
   "cell_type": "code",
   "execution_count": null,
   "id": "4",
   "metadata": {},
   "outputs": [],
   "source": []
  },
  {
   "cell_type": "code",
   "execution_count": null,
   "id": "5",
   "metadata": {},
   "outputs": [],
   "source": [
    "import pandas as pd"
   ]
  },
  {
   "cell_type": "code",
   "execution_count": null,
   "id": "6",
   "metadata": {},
   "outputs": [],
   "source": [
    "n_files = 10"
   ]
  },
  {
   "cell_type": "code",
   "execution_count": null,
   "id": "7",
   "metadata": {},
   "outputs": [],
   "source": [
    "df = ROOT.ROOT.RDataFrame(\n",
    "    \"cbmsim\",\n",
    "    [\n",
    "        f\"root://eospublic.cern.ch//eos/experiment/sndlhc/users/olantwin/advsnd/2024/07/nu12/CCDIS/{i+1}/sndLHC.Genie-TGeant4_dig.root\"\n",
    "        for i in range(n_files)\n",
    "    ],\n",
    ")"
   ]
  },
  {
   "cell_type": "code",
   "execution_count": null,
   "id": "8",
   "metadata": {},
   "outputs": [],
   "source": [
    "df = df.Filter(\"Digi_AdvMuFilterHits.GetEntries() || Digi_AdvTargetHits.GetEntries()\")"
   ]
  },
  {
   "cell_type": "code",
   "execution_count": null,
   "id": "9",
   "metadata": {},
   "outputs": [],
   "source": [
    "ROOT.gInterpreter.ProcessLine('#include \"ShipMCTrack.h\"')"
   ]
  },
  {
   "cell_type": "code",
   "execution_count": null,
   "id": "10",
   "metadata": {},
   "outputs": [],
   "source": [
    "ROOT.gInterpreter.ProcessLine('#include \"AdvTargetHit.h\"')"
   ]
  },
  {
   "cell_type": "code",
   "execution_count": null,
   "id": "11",
   "metadata": {},
   "outputs": [],
   "source": [
    "ROOT.gInterpreter.ProcessLine('#include \"AdvMuFilterHit.h\"')"
   ]
  },
  {
   "cell_type": "code",
   "execution_count": null,
   "id": "12",
   "metadata": {},
   "outputs": [],
   "source": [
    "df = df.Define(\"start_z\", \"dynamic_cast<ShipMCTrack*>(MCTrack[1])->GetStartZ()\")"
   ]
  },
  {
   "cell_type": "code",
   "execution_count": null,
   "id": "13",
   "metadata": {},
   "outputs": [],
   "source": [
    "df = df.Define(\"nu_energy\", \"dynamic_cast<ShipMCTrack*>(MCTrack[0])->GetEnergy()\")"
   ]
  },
  {
   "cell_type": "code",
   "execution_count": null,
   "id": "14",
   "metadata": {},
   "outputs": [],
   "source": [
    "df = df.Define(\"energy_dep_target\", \"Sum(AdvTargetPoint.fELoss)\")"
   ]
  },
  {
   "cell_type": "code",
   "execution_count": null,
   "id": "15",
   "metadata": {},
   "outputs": [],
   "source": [
    "df = df.Define(\"energy_dep_mufilter\", \"Sum(AdvMuFilterPoint.fELoss)\")"
   ]
  },
  {
   "cell_type": "code",
   "execution_count": null,
   "id": "16",
   "metadata": {},
   "outputs": [],
   "source": [
    "ROOT.gInterpreter.Declare(\"\"\"\n",
    "int station_from_id(int id) {\n",
    "    return id >>17;\n",
    "}\n",
    "\"\"\")"
   ]
  },
  {
   "cell_type": "code",
   "execution_count": null,
   "id": "17",
   "metadata": {},
   "outputs": [],
   "source": [
    "ROOT.gInterpreter.Declare(\"\"\"\n",
    " template<typename T>\n",
    " ROOT::RVec<T> Deduplicate (ROOT::RVec<T> v){\n",
    "    std::sort(v.begin(), v.end());\n",
    "    auto last = std::unique(v.begin(), v.end());\n",
    "    v.erase(last, v.end());\n",
    "    return v;\n",
    "}\n",
    "\"\"\")"
   ]
  },
  {
   "cell_type": "code",
   "execution_count": null,
   "id": "18",
   "metadata": {},
   "outputs": [],
   "source": [
    "df = df.Define(\n",
    "    \"target_stations\", \"Map(Digi_AdvTargetHits.fDetectorID, station_from_id)\"\n",
    ")"
   ]
  },
  {
   "cell_type": "code",
   "execution_count": null,
   "id": "19",
   "metadata": {},
   "outputs": [],
   "source": [
    "df = df.Define(\n",
    "    \"mufilter_stations\", \"Map(Digi_AdvMuFilterHits.fDetectorID, station_from_id)\"\n",
    ")"
   ]
  },
  {
   "cell_type": "code",
   "execution_count": null,
   "id": "20",
   "metadata": {},
   "outputs": [],
   "source": [
    "df = df.Define(\"target_n_stations\", \"Deduplicate(target_stations).size()\")"
   ]
  },
  {
   "cell_type": "code",
   "execution_count": null,
   "id": "21",
   "metadata": {},
   "outputs": [],
   "source": [
    "df = df.Define(\"mufilter_n_stations\", \"Deduplicate(mufilter_stations).size()\")"
   ]
  },
  {
   "cell_type": "code",
   "execution_count": null,
   "id": "22",
   "metadata": {},
   "outputs": [],
   "source": [
    "df = df.Define(\"target_n_hits\", \"Digi_AdvTargetHits.GetEntries()\")"
   ]
  },
  {
   "cell_type": "code",
   "execution_count": null,
   "id": "23",
   "metadata": {},
   "outputs": [],
   "source": [
    "df = df.Define(\"mufilter_n_hits\", \"Digi_AdvMuFilterHits.GetEntries()\")"
   ]
  },
  {
   "cell_type": "code",
   "execution_count": null,
   "id": "24",
   "metadata": {},
   "outputs": [],
   "source": [
    "for i in range(100):\n",
    "    df = df.Define(\n",
    "        f\"target_n_hits_station_{i}\",\n",
    "        f\"std::count(target_stations.begin(), target_stations.end(), {i})\",\n",
    "    )"
   ]
  },
  {
   "cell_type": "code",
   "execution_count": null,
   "id": "25",
   "metadata": {},
   "outputs": [],
   "source": [
    "for i in range(20):\n",
    "    df = df.Define(\n",
    "        f\"mufilter_n_hits_station_{i}\",\n",
    "        f\"std::count(mufilter_stations.begin(), mufilter_stations.end(), {i})\",\n",
    "    )"
   ]
  },
  {
   "cell_type": "code",
   "execution_count": null,
   "id": "26",
   "metadata": {},
   "outputs": [],
   "source": [
    "col_names = (\n",
    "    [\n",
    "        \"start_z\",\n",
    "        \"nu_energy\",\n",
    "        \"energy_dep_target\",\n",
    "        \"energy_dep_mufilter\",\n",
    "        \"target_n_hits\",\n",
    "        \"target_n_stations\",\n",
    "        \"mufilter_n_hits\",\n",
    "        \"mufilter_n_stations\",\n",
    "    ]\n",
    "    + [f\"target_n_hits_station_{i}\" for i in range(100)]\n",
    "    + [f\"mufilter_n_hits_station_{i}\" for i in range(20)]\n",
    ")"
   ]
  },
  {
   "cell_type": "code",
   "execution_count": null,
   "id": "27",
   "metadata": {},
   "outputs": [],
   "source": [
    "cols = df.AsNumpy(col_names)"
   ]
  },
  {
   "cell_type": "code",
   "execution_count": null,
   "id": "28",
   "metadata": {},
   "outputs": [],
   "source": [
    "pandas_df = pd.DataFrame(cols)"
   ]
  },
  {
   "cell_type": "code",
   "execution_count": null,
   "id": "29",
   "metadata": {},
   "outputs": [],
   "source": [
    "pandas_df.to_csv(\"features.csv\")"
   ]
  },
  {
   "cell_type": "code",
   "execution_count": null,
   "id": "30",
   "metadata": {},
   "outputs": [],
   "source": []
  }
 ],
 "metadata": {
  "kernelspec": {
   "display_name": "Python 3 (ipykernel)",
   "language": "python",
   "name": "python3"
  },
  "language_info": {
   "codemirror_mode": {
    "name": "ipython",
    "version": 3
   },
   "file_extension": ".py",
   "mimetype": "text/x-python",
   "name": "python",
   "nbconvert_exporter": "python",
   "pygments_lexer": "ipython3",
   "version": "3.12.4"
  }
 },
 "nbformat": 4,
 "nbformat_minor": 5
}
