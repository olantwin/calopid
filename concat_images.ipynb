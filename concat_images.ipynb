{
 "cells": [
  {
   "cell_type": "code",
   "execution_count": 1,
   "id": "0a334a08-3f5c-4a1f-82c7-415489d5e2d1",
   "metadata": {},
   "outputs": [],
   "source": [
    "import uproot"
   ]
  },
  {
   "cell_type": "code",
   "execution_count": 2,
   "id": "b7a5c672-cd61-4a1a-9ab0-e9950ad80378",
   "metadata": {},
   "outputs": [],
   "source": [
    "import numpy as np"
   ]
  },
  {
   "cell_type": "code",
   "execution_count": 3,
   "id": "63c79a76-f550-4123-b08a-c1ffc1567368",
   "metadata": {},
   "outputs": [],
   "source": [
    "import pandas as pd"
   ]
  },
  {
   "cell_type": "code",
   "execution_count": 4,
   "id": "2fdb63b8-0296-4351-a517-9c4845a42a63",
   "metadata": {},
   "outputs": [],
   "source": [
    "from tqdm import tqdm"
   ]
  },
  {
   "cell_type": "code",
   "execution_count": 5,
   "id": "5e8fe4d0-d43c-4358-9adc-483d2532a751",
   "metadata": {},
   "outputs": [],
   "source": [
    "data_path = \"/eos/experiment/sndlhc/users/olantwin/advsnd/2024/07/nu12/CCDIS/\""
   ]
  },
  {
   "cell_type": "code",
   "execution_count": 6,
   "id": "abf474a3-870f-466b-88f5-afae552ba5ff",
   "metadata": {},
   "outputs": [],
   "source": [
    "n_files = 100\n",
    "events_per_file = 1000\n",
    "events = n_files * events_per_file"
   ]
  },
  {
   "cell_type": "code",
   "execution_count": 7,
   "id": "114c6358-da7e-416d-bd2c-2ee40838991d",
   "metadata": {},
   "outputs": [],
   "source": [
    "outputfile = uproot.recreate(f\"CNN_dataframe_{events}.root\")"
   ]
  },
  {
   "cell_type": "code",
   "execution_count": 8,
   "id": "e90934a2-a151-473d-8b0a-b9dac957779a",
   "metadata": {},
   "outputs": [
    {
     "data": {
      "text/plain": [
       "<WritableTree '/df' at 0x7f0e59189760>"
      ]
     },
     "execution_count": 8,
     "metadata": {},
     "output_type": "execute_result"
    }
   ],
   "source": [
    "outputfile.mktree(\n",
    "    \"df\",\n",
    "    {\n",
    "        \"X\": (\">f8\", (3072, 200)),\n",
    "        \"start_z\": \">f8\",\n",
    "        \"nu_energy\": \">f8\",\n",
    "        \"energy_dep_target\": \">f8\",\n",
    "        \"energy_dep_mufilter\": \">f8\",\n",
    "    },\n",
    "    title=\"Dataframe for CNN studies\",\n",
    ")"
   ]
  },
  {
   "cell_type": "code",
   "execution_count": 9,
   "id": "6b2874c2-9c51-4ddd-8263-2d2b02a7fe92",
   "metadata": {},
   "outputs": [
    {
     "name": "stderr",
     "output_type": "stream",
     "text": [
      "100%|██████████| 100/100 [1:28:35<00:00, 53.16s/it]\n"
     ]
    }
   ],
   "source": [
    "step = 5\n",
    "for i in tqdm(range(1, n_files + 1)):\n",
    "    arrays = np.load(data_path + f\"images_1000_{i}.npy\")\n",
    "    df = pd.read_csv(data_path + f\"features_CNN_1000_{i}.csv\")\n",
    "    for j in range(0, len(df), step):\n",
    "        outputfile[\"df\"].extend(\n",
    "            {\n",
    "                \"X\": arrays[j : j + step],\n",
    "                \"start_z\": df.start_z.values[j : j + step],\n",
    "                \"nu_energy\": df.nu_energy.values[j : j + step],\n",
    "                \"energy_dep_target\": df.energy_dep_target.values[j : j + step],\n",
    "                \"energy_dep_mufilter\": df.energy_dep_mufilter.values[j : j + step],\n",
    "            }\n",
    "        )\n",
    "    del df\n",
    "    del arrays"
   ]
  },
  {
   "cell_type": "code",
   "execution_count": 12,
   "id": "d332d65d-c170-40f8-a98a-1ac2c18d9efc",
   "metadata": {},
   "outputs": [
    {
     "name": "stdout",
     "output_type": "stream",
     "text": [
      "[3.58GB/3.58GB][100%][==================================================][135.8MB/s]   \n"
     ]
    }
   ],
   "source": [
    "!xrdcp CNN_dataframe_100000.root root://eospublic.cern.ch//eos/experiment/sndlhc/users/olantwin/advsnd/2024/07/nu12/CCDIS/"
   ]
  },
  {
   "cell_type": "code",
   "execution_count": null,
   "id": "5a64602e-1ece-4fa1-9970-eb8b1fd62a57",
   "metadata": {},
   "outputs": [],
   "source": []
  }
 ],
 "metadata": {
  "kernelspec": {
   "display_name": "Python 3",
   "language": "python",
   "name": "python3"
  },
  "language_info": {
   "codemirror_mode": {
    "name": "ipython",
    "version": 3
   },
   "file_extension": ".py",
   "mimetype": "text/x-python",
   "name": "python",
   "nbconvert_exporter": "python",
   "pygments_lexer": "ipython3",
   "version": "3.9.12"
  }
 },
 "nbformat": 4,
 "nbformat_minor": 5
}
