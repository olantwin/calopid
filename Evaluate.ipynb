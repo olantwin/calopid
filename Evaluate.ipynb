{
 "cells": [
  {
   "cell_type": "markdown",
   "id": "0",
   "metadata": {},
   "source": [
    "# Evaluation of model performance"
   ]
  },
  {
   "cell_type": "markdown",
   "id": "1",
   "metadata": {},
   "source": [
    "## Preamble"
   ]
  },
  {
   "cell_type": "code",
   "execution_count": null,
   "id": "2",
   "metadata": {},
   "outputs": [],
   "source": [
    "import pandas as pd"
   ]
  },
  {
   "cell_type": "code",
   "execution_count": null,
   "id": "3",
   "metadata": {},
   "outputs": [],
   "source": [
    "import scipy\n",
    "import numpy as np"
   ]
  },
  {
   "cell_type": "code",
   "execution_count": null,
   "id": "4",
   "metadata": {},
   "outputs": [],
   "source": [
    "import matplotlib.pyplot as plt\n",
    "import matplotlib.gridspec as grid_spec"
   ]
  },
  {
   "cell_type": "code",
   "execution_count": null,
   "id": "5",
   "metadata": {},
   "outputs": [],
   "source": [
    "from iminuit import cost, Minuit"
   ]
  },
  {
   "cell_type": "code",
   "execution_count": null,
   "id": "6",
   "metadata": {},
   "outputs": [],
   "source": [
    "from iminuit.cost import LeastSquares"
   ]
  },
  {
   "cell_type": "code",
   "execution_count": null,
   "id": "7",
   "metadata": {},
   "outputs": [],
   "source": [
    "import hist"
   ]
  },
  {
   "cell_type": "code",
   "execution_count": null,
   "id": "8",
   "metadata": {},
   "outputs": [],
   "source": [
    "from plotting import watermark"
   ]
  },
  {
   "cell_type": "code",
   "execution_count": null,
   "id": "9",
   "metadata": {},
   "outputs": [],
   "source": [
    "plt.style.use([\"science\", \"notebook\"])"
   ]
  },
  {
   "cell_type": "code",
   "execution_count": null,
   "id": "10",
   "metadata": {},
   "outputs": [],
   "source": [
    "plt.rcParams[\"font.size\"] = 14\n",
    "plt.rcParams[\"axes.formatter.limits\"] = -5, 4\n",
    "plt.rcParams[\"figure.figsize\"] = 6, 4\n",
    "colors = plt.rcParams[\"axes.prop_cycle\"].by_key()[\"color\"]"
   ]
  },
  {
   "cell_type": "markdown",
   "id": "11",
   "metadata": {
    "jp-MarkdownHeadingCollapsed": true
   },
   "source": [
    "## Split model (lepton and hadron)"
   ]
  },
  {
   "cell_type": "code",
   "execution_count": null,
   "id": "12",
   "metadata": {},
   "outputs": [],
   "source": [
    "df_lepton = pd.read_csv(\"CNN_3d_cerrotorre_lepton_energy_n15265_e40.csv\")\n",
    "df_hadron = pd.read_csv(\"CNN_3d_cerrotorre_hadron_energy_n15265_e40.csv\")\n",
    "\n",
    "df = pd.concat([df_hadron, df_lepton], axis=1)"
   ]
  },
  {
   "cell_type": "code",
   "execution_count": null,
   "id": "13",
   "metadata": {},
   "outputs": [],
   "source": [
    "df[\"d_lepton_energy\"] = df.lepton_energy_pred - df.lepton_energy_test"
   ]
  },
  {
   "cell_type": "code",
   "execution_count": null,
   "id": "14",
   "metadata": {},
   "outputs": [],
   "source": [
    "df[\"d_hadron_energy\"] = df.hadron_energy_pred - df.hadron_energy_test"
   ]
  },
  {
   "cell_type": "code",
   "execution_count": null,
   "id": "15",
   "metadata": {},
   "outputs": [],
   "source": [
    "df.d_hadron_energy.hist()\n",
    "df.d_lepton_energy.hist()\n",
    "# TODO make 2d hist"
   ]
  },
  {
   "cell_type": "code",
   "execution_count": null,
   "id": "16",
   "metadata": {},
   "outputs": [],
   "source": [
    "df[\"total_energy_pred\"] = df.lepton_energy_pred + df.hadron_energy_pred\n",
    "df[\"total_energy_test\"] = df.lepton_energy_test + df.hadron_energy_test"
   ]
  },
  {
   "cell_type": "code",
   "execution_count": null,
   "id": "17",
   "metadata": {},
   "outputs": [],
   "source": [
    "df[\"d_total_energy\"] = df.total_energy_pred - df.total_energy_test"
   ]
  },
  {
   "cell_type": "code",
   "execution_count": null,
   "id": "18",
   "metadata": {},
   "outputs": [],
   "source": [
    "scale_lepton = df.lepton_energy_test.mean() / df.lepton_energy_pred.mean()"
   ]
  },
  {
   "cell_type": "code",
   "execution_count": null,
   "id": "19",
   "metadata": {},
   "outputs": [],
   "source": [
    "shift_lepton = ((scale_lepton * df.lepton_energy_pred) - df.lepton_energy_test).mean()"
   ]
  },
  {
   "cell_type": "code",
   "execution_count": null,
   "id": "20",
   "metadata": {},
   "outputs": [],
   "source": [
    "df[\"corrected_lepton_energy\"] = (scale_lepton * df.lepton_energy_pred) - shift_lepton"
   ]
  },
  {
   "cell_type": "code",
   "execution_count": null,
   "id": "21",
   "metadata": {},
   "outputs": [],
   "source": [
    "scale_hadron = df.hadron_energy_test.mean() / df.hadron_energy_pred.mean()"
   ]
  },
  {
   "cell_type": "code",
   "execution_count": null,
   "id": "22",
   "metadata": {},
   "outputs": [],
   "source": [
    "shift_hadron = ((scale_hadron * df.hadron_energy_pred) - df.hadron_energy_test).mean()"
   ]
  },
  {
   "cell_type": "code",
   "execution_count": null,
   "id": "23",
   "metadata": {},
   "outputs": [],
   "source": [
    "df[\"corrected_hadron_energy\"] = (scale_hadron * df.hadron_energy_pred) - shift_hadron"
   ]
  },
  {
   "cell_type": "code",
   "execution_count": null,
   "id": "24",
   "metadata": {},
   "outputs": [],
   "source": [
    "df[\"corrected_total_energy\"] = df.corrected_hadron_energy + df.corrected_lepton_energy"
   ]
  },
  {
   "cell_type": "markdown",
   "id": "25",
   "metadata": {},
   "source": [
    "## $E_\\nu$ model"
   ]
  },
  {
   "cell_type": "markdown",
   "id": "26",
   "metadata": {},
   "source": [
    "### Load and prepare data"
   ]
  },
  {
   "cell_type": "code",
   "execution_count": null,
   "id": "27",
   "metadata": {},
   "outputs": [],
   "source": [
    "model_name = \"CNN_3dSat5_grandjorasses_nu_energy\""
   ]
  },
  {
   "cell_type": "code",
   "execution_count": null,
   "id": "28",
   "metadata": {},
   "outputs": [],
   "source": [
    "df = pd.read_csv(\"CNN_3dSat5_grandjorasses_nu_energy_n60578_e100.csv\")"
   ]
  },
  {
   "cell_type": "code",
   "execution_count": null,
   "id": "29",
   "metadata": {},
   "outputs": [],
   "source": [
    "df[\"total_energy_test\"] = df.nu_energy_test\n",
    "df[\"total_energy_pred\"] = df.nu_energy_pred"
   ]
  },
  {
   "cell_type": "code",
   "execution_count": null,
   "id": "30",
   "metadata": {},
   "outputs": [],
   "source": [
    "df[\"corrected_total_energy\"] = df.total_energy_pred"
   ]
  },
  {
   "cell_type": "markdown",
   "id": "31",
   "metadata": {},
   "source": [
    "### Correct energy scale"
   ]
  },
  {
   "cell_type": "code",
   "execution_count": null,
   "id": "32",
   "metadata": {},
   "outputs": [],
   "source": [
    "scale2 = df.total_energy_test.mean() / df.corrected_total_energy.mean()"
   ]
  },
  {
   "cell_type": "code",
   "execution_count": null,
   "id": "33",
   "metadata": {},
   "outputs": [],
   "source": [
    "scale = np.exp(\n",
    "    (np.log(df.total_energy_test) - np.log(df.corrected_total_energy)).mean()\n",
    ")"
   ]
  },
  {
   "cell_type": "code",
   "execution_count": null,
   "id": "34",
   "metadata": {},
   "outputs": [],
   "source": [
    "shift = ((scale * df.corrected_total_energy) - df.total_energy_test).mean()"
   ]
  },
  {
   "cell_type": "code",
   "execution_count": null,
   "id": "35",
   "metadata": {},
   "outputs": [],
   "source": [
    "shift2 = ((scale2 * df.corrected_total_energy) - df.total_energy_test).mean()"
   ]
  },
  {
   "cell_type": "code",
   "execution_count": null,
   "id": "36",
   "metadata": {},
   "outputs": [],
   "source": [
    "df[\"corrected_total_energy2\"] = (scale2 * df.corrected_total_energy) - shift2"
   ]
  },
  {
   "cell_type": "code",
   "execution_count": null,
   "id": "37",
   "metadata": {},
   "outputs": [],
   "source": [
    "df.corrected_total_energy = (scale * df.corrected_total_energy) - shift"
   ]
  },
  {
   "cell_type": "code",
   "execution_count": null,
   "id": "38",
   "metadata": {},
   "outputs": [],
   "source": [
    "print(scale, scale2, shift, shift2)"
   ]
  },
  {
   "cell_type": "markdown",
   "id": "39",
   "metadata": {},
   "source": [
    "Offset should be consistent with zero, small scale factor seems to be needed, consistent with small bias in $\\log{E}$"
   ]
  },
  {
   "cell_type": "code",
   "execution_count": null,
   "id": "40",
   "metadata": {},
   "outputs": [],
   "source": [
    "df[\"d_corrected_energy\"] = df.corrected_total_energy - df.total_energy_test"
   ]
  },
  {
   "cell_type": "code",
   "execution_count": null,
   "id": "41",
   "metadata": {},
   "outputs": [],
   "source": [
    "bins = np.linspace(0, 5000, 51)\n",
    "plt.hist(df.total_energy_test, bins=bins, label=\"true\", histtype=\"step\")\n",
    "plt.hist(df.total_energy_pred, bins=bins, label=\"uncorrected\", alpha=0.5)\n",
    "plt.hist(df.corrected_total_energy, bins=bins, label=\"corrected\", alpha=0.5)\n",
    "plt.hist(\n",
    "    df.corrected_total_energy2, bins=bins, label=\"corrected - alternative\", alpha=0.5\n",
    ")\n",
    "plt.xlabel(r\" $E\\;[\\mathrm{GeV}]$\")\n",
    "watermark()\n",
    "plt.legend()\n",
    "plt.savefig(f\"plots/energy_correction_{model_name}.png\")\n",
    "plt.savefig(f\"plots/energy_correction_{model_name}.pdf\")"
   ]
  },
  {
   "cell_type": "code",
   "execution_count": null,
   "id": "42",
   "metadata": {},
   "outputs": [],
   "source": [
    "(df.d_corrected_energy / df.total_energy_test).hist(bins=100, log=True)"
   ]
  },
  {
   "cell_type": "code",
   "execution_count": null,
   "id": "43",
   "metadata": {},
   "outputs": [],
   "source": [
    "df.d_corrected_energy.hist(bins=100, log=True)"
   ]
  },
  {
   "cell_type": "code",
   "execution_count": null,
   "id": "44",
   "metadata": {},
   "outputs": [],
   "source": [
    "df.d_corrected_energy[(1000 < df.total_energy_test) & df.total_energy_test < 2000].hist(\n",
    "    bins=100, log=True\n",
    ")"
   ]
  },
  {
   "cell_type": "markdown",
   "id": "45",
   "metadata": {},
   "source": [
    "### Fit energy resolution"
   ]
  },
  {
   "cell_type": "code",
   "execution_count": null,
   "id": "46",
   "metadata": {},
   "outputs": [],
   "source": [
    "bins_E_reco = 14"
   ]
  },
  {
   "cell_type": "code",
   "execution_count": null,
   "id": "47",
   "metadata": {},
   "outputs": [],
   "source": [
    "(2000 - 200) / 15"
   ]
  },
  {
   "cell_type": "code",
   "execution_count": null,
   "id": "48",
   "metadata": {},
   "outputs": [],
   "source": [
    "df.total_energy_test.min()"
   ]
  },
  {
   "cell_type": "code",
   "execution_count": null,
   "id": "49",
   "metadata": {},
   "outputs": [],
   "source": [
    "h_dE_rel_test_vs_E_rel_pred = (\n",
    "    hist.Hist.new.Regular(200, -1000, 1000, name=r\"dE\")\n",
    "    .Regular(\n",
    "        bins_E_reco, 320, 2000, name=r\"E_true\"\n",
    "    )  # , transform=hist.axis.transform.log)\n",
    "    .Double()\n",
    ")"
   ]
  },
  {
   "cell_type": "code",
   "execution_count": null,
   "id": "50",
   "metadata": {},
   "outputs": [],
   "source": [
    "h_dE_rel_test_vs_E_rel_pred.fill(df.d_corrected_energy, df.total_energy_test)"
   ]
  },
  {
   "cell_type": "code",
   "execution_count": null,
   "id": "51",
   "metadata": {},
   "outputs": [],
   "source": [
    "h_dE_rel_test_vs_E_rel_pred.plot()\n",
    "plt.xlabel(r\" $\\Delta E\\;[\\mathrm{GeV}]$\")\n",
    "plt.ylabel(r\"true $E\\;[\\mathrm{GeV}]$\")\n",
    "ax = plt.gca()\n",
    "plt.text(\n",
    "    0.8,\n",
    "    1.02,\n",
    "    \"AdvSND\",\n",
    "    fontweight=\"bold\",\n",
    "    fontfamily=\"sans-serif\",\n",
    "    fontsize=16,\n",
    "    transform=ax.transAxes,\n",
    "    usetex=False,\n",
    ")\n",
    "plt.text(\n",
    "    0.0,\n",
    "    1.02,\n",
    "    \"preliminary\",\n",
    "    fontfamily=\"sans-serif\",\n",
    "    fontsize=16,\n",
    "    transform=ax.transAxes,\n",
    "    usetex=False,\n",
    ")\n",
    "plt.savefig(\"plots/h_dE_rel_test_vs_E_rel_pred.pdf\")\n",
    "plt.savefig(\"plots/h_dE_rel_test_vs_E_rel_pred.png\")"
   ]
  },
  {
   "cell_type": "code",
   "execution_count": null,
   "id": "52",
   "metadata": {},
   "outputs": [],
   "source": [
    "def model(x, mu, sigma):\n",
    "    return scipy.stats.norm.cdf(x, loc=mu, scale=sigma)"
   ]
  },
  {
   "cell_type": "code",
   "execution_count": null,
   "id": "53",
   "metadata": {},
   "outputs": [],
   "source": [
    "gs = grid_spec.GridSpec(bins_E_reco, 1)\n",
    "fig = plt.figure(figsize=(16, 9))\n",
    "\n",
    "i = 0\n",
    "mus = []\n",
    "sigmas = []\n",
    "bins = []\n",
    "\n",
    "ax_objs = []\n",
    "for bin in range(bins_E_reco):\n",
    "    # creating new axes object\n",
    "    ax_objs.append(fig.add_subplot(gs[i : i + 1, 0:]))\n",
    "\n",
    "    # plotting the distribution\n",
    "    h = h_dE_rel_test_vs_E_rel_pred[:, bin]\n",
    "    h.plot(yerr=False, ax=ax_objs[-1], color=colors[bin % len(colors)], histtype=\"fill\")\n",
    "    entries, edges = h.to_numpy()\n",
    "    n_bins = len(entries)\n",
    "    average = np.average(edges[:-1], weights=entries)\n",
    "    variance = np.average((edges[:-1] - average) ** 2, weights=entries)\n",
    "    m = Minuit(cost.BinnedNLL(entries, edges, model), average, np.sqrt(variance))\n",
    "    res = m.migrad()\n",
    "    if res.valid:\n",
    "        plot_range = ax_objs[-1].get_xlim()\n",
    "        x = np.linspace(*plot_range, 100)\n",
    "        best_fit = scipy.stats.norm(res.params[0].value, res.params[1].value)\n",
    "        binsize = (plot_range[1] - plot_range[0]) / n_bins\n",
    "        scale = (\n",
    "            h.sum()\n",
    "            / (best_fit.cdf(plot_range[1]) - best_fit.cdf(plot_range[0]))\n",
    "            * binsize\n",
    "        )\n",
    "        ax_objs[-1].plot(\n",
    "            x, scale * best_fit.pdf(x), color=colors[(bin + 3) % len(colors)]\n",
    "        )\n",
    "        bins.append(bin)\n",
    "        mus.append(res.params[0])\n",
    "        sigmas.append(res.params[1])\n",
    "    else:\n",
    "        print(res)\n",
    "\n",
    "    # make background transparent\n",
    "    rect = ax_objs[-1].patch\n",
    "    rect.set_alpha(0)\n",
    "\n",
    "    # remove borders, axis ticks, and labels\n",
    "    ax_objs[-1].set_yticklabels([])\n",
    "\n",
    "    if i == bins_E_reco - 1:\n",
    "        ax_objs[-1].set_xlabel(r\"$\\Delta E$\", fontsize=16, fontweight=\"bold\")\n",
    "    else:\n",
    "        ax_objs[-1].set_xticklabels([])\n",
    "        ax_objs[-1].set_xlabel(\"\")\n",
    "\n",
    "    ax_objs[-1].set_ylabel(str(bin), rotation=45)\n",
    "    ax_objs[-1].set_yticks([])\n",
    "    ax_objs[-1].set_xticks([])\n",
    "\n",
    "    spines = [\"top\", \"right\", \"left\", \"bottom\"]\n",
    "    for s in spines:\n",
    "        ax_objs[-1].spines[s].set_visible(False)\n",
    "\n",
    "    i += 1\n",
    "\n",
    "gs.update(hspace=-0.7)\n",
    "# gs.update()\n",
    "\n",
    "plt.tight_layout()\n",
    "plt.show()"
   ]
  },
  {
   "cell_type": "code",
   "execution_count": null,
   "id": "54",
   "metadata": {},
   "outputs": [],
   "source": [
    "bin_edges = h_dE_rel_test_vs_E_rel_pred[0, :].to_numpy()[1]\n",
    "bin_centres = (bin_edges[1:] + bin_edges[:-1]) / 2\n",
    "bin_half_widths = (bin_edges[1:] - bin_edges[:-1]) / 2"
   ]
  },
  {
   "cell_type": "code",
   "execution_count": null,
   "id": "55",
   "metadata": {},
   "outputs": [],
   "source": [
    "fig, ax1 = plt.subplots()\n",
    "\n",
    "ax2 = ax1.twinx()\n",
    "ax1.set_xlabel(\"X data\")\n",
    "ax1.set_ylabel(\"Y1 data\", color=\"g\")\n",
    "ax2.set_ylabel(\"Y2 data\", color=\"b\")\n",
    "ax1.errorbar(\n",
    "    bin_centres[bins],\n",
    "    [mu.value for mu in mus] / bin_centres[bins],\n",
    "    xerr=bin_half_widths[bins],\n",
    "    yerr=[mu.error for mu in mus] / bin_centres[bins],\n",
    "    linestyle=\"\",\n",
    "    label=r\"$\\left<\\Delta E\\right>$\",\n",
    "    color=colors[0],\n",
    ")\n",
    "ax2.errorbar(\n",
    "    bin_centres[bins],\n",
    "    [sigma.value for sigma in sigmas] / bin_centres[bins],\n",
    "    xerr=bin_half_widths[bins],\n",
    "    yerr=[sigma.error for sigma in sigmas] / bin_centres[bins],\n",
    "    linestyle=\"\",\n",
    "    label=r\"$\\sigma\\left(\\Delta E\\right)$\",\n",
    "    color=colors[1],\n",
    ")\n",
    "# ax1.hlines(0, *plt.xlim(), color='red')\n",
    "ax1.set_ylabel(r\"$\\frac{\\left<\\Delta E\\right>}{E_\\mathrm{true}}$\", color=colors[0])\n",
    "ax2.set_ylabel(\n",
    "    r\"$\\frac{\\sigma\\left(\\Delta E\\right)}{E_\\mathrm{true}}$\", color=colors[1]\n",
    ")\n",
    "ax1.set_xlabel(r\"$E_\\mathrm{true}\\;[\\mathrm{GeV}]$\")"
   ]
  },
  {
   "cell_type": "code",
   "execution_count": null,
   "id": "56",
   "metadata": {},
   "outputs": [],
   "source": [
    "plt.errorbar(\n",
    "    bin_centres[bins],\n",
    "    [mu.value for mu in mus] / bin_centres[bins],\n",
    "    xerr=bin_half_widths[bins],\n",
    "    yerr=[mu.error for mu in mus] / bin_centres[bins],\n",
    "    linestyle=\"\",\n",
    "    label=r\"$\\left<\\Delta E\\right>$\",\n",
    "    color=colors[0],\n",
    ")\n",
    "plt.hlines(0, *plt.xlim(), color=\"red\")\n",
    "plt.ylabel(r\"$\\frac{\\left<\\Delta E\\right>}{E_\\mathrm{true}}$\")\n",
    "plt.xlabel(r\"$E_\\mathrm{true}\\;[\\mathrm{GeV}]$\")\n",
    "ax = plt.gca()\n",
    "plt.text(\n",
    "    0.0,\n",
    "    1.02,\n",
    "    \"preliminary\",\n",
    "    fontfamily=\"sans-serif\",\n",
    "    fontsize=16,\n",
    "    transform=ax.transAxes,\n",
    "    usetex=False,\n",
    ")\n",
    "plt.text(\n",
    "    0.8,\n",
    "    1.02,\n",
    "    \"AdvSND\",\n",
    "    fontweight=\"bold\",\n",
    "    fontfamily=\"sans-serif\",\n",
    "    fontsize=16,\n",
    "    transform=ax.transAxes,\n",
    "    usetex=False,\n",
    ")\n",
    "plt.savefig(\"plots/energy_bias.pdf\")\n",
    "plt.savefig(\"plots/energy_bias.png\")"
   ]
  },
  {
   "cell_type": "code",
   "execution_count": null,
   "id": "57",
   "metadata": {},
   "outputs": [],
   "source": [
    "import sympy"
   ]
  },
  {
   "cell_type": "code",
   "execution_count": null,
   "id": "58",
   "metadata": {},
   "outputs": [],
   "source": [
    "A, b, E = sympy.symbols(\"A b E\")"
   ]
  },
  {
   "cell_type": "code",
   "execution_count": null,
   "id": "59",
   "metadata": {},
   "outputs": [],
   "source": [
    "f = A + b / sympy.sqrt(E)"
   ]
  },
  {
   "cell_type": "code",
   "execution_count": null,
   "id": "60",
   "metadata": {},
   "outputs": [],
   "source": [
    "f_lambda = sympy.lambdify((A, b, E), f)"
   ]
  },
  {
   "cell_type": "code",
   "execution_count": null,
   "id": "61",
   "metadata": {},
   "outputs": [],
   "source": [
    "def E_model(E, A, b):\n",
    "    return f_lambda(A, b, E)"
   ]
  },
  {
   "cell_type": "code",
   "execution_count": null,
   "id": "62",
   "metadata": {},
   "outputs": [],
   "source": [
    "sigma_E_over_E = np.array([sigma.value for sigma in sigmas]) / bin_centres[bins]\n",
    "d_sigma_E_over_E = (\n",
    "    [sigma.value for sigma in sigmas]\n",
    "    / bin_centres[bins]\n",
    "    * np.sqrt(\n",
    "        (\n",
    "            np.array([sigma.error for sigma in sigmas])\n",
    "            / np.array([sigma.value for sigma in sigmas])\n",
    "        )\n",
    "        ** 2\n",
    "        + (bin_half_widths[bins] / bin_centres[bins]) ** 2\n",
    "    )\n",
    ")"
   ]
  },
  {
   "cell_type": "code",
   "execution_count": null,
   "id": "63",
   "metadata": {},
   "outputs": [],
   "source": [
    "least_squares = LeastSquares(\n",
    "    bin_centres[bins], sigma_E_over_E, d_sigma_E_over_E, E_model\n",
    ")"
   ]
  },
  {
   "cell_type": "code",
   "execution_count": null,
   "id": "64",
   "metadata": {},
   "outputs": [],
   "source": [
    "m = Minuit(least_squares, A=0.1, b=1)  # starting values for α and β\n",
    "\n",
    "m.migrad()  # finds minimum of least_squares function\n",
    "res = m.hesse()  # accurately computes uncertainties"
   ]
  },
  {
   "cell_type": "code",
   "execution_count": null,
   "id": "65",
   "metadata": {},
   "outputs": [],
   "source": [
    "res"
   ]
  },
  {
   "cell_type": "code",
   "execution_count": null,
   "id": "66",
   "metadata": {},
   "outputs": [],
   "source": [
    "f_pretty = sympy.latex(\n",
    "    f.subs(\n",
    "        [\n",
    "            (A, sympy.Float(res.params[0].value, 1)),\n",
    "            (b, sympy.Float(res.params[1].value, 2)),\n",
    "        ]\n",
    "    )\n",
    ")"
   ]
  },
  {
   "cell_type": "code",
   "execution_count": null,
   "id": "67",
   "metadata": {},
   "outputs": [],
   "source": [
    "plt.errorbar(\n",
    "    bin_centres[bins],\n",
    "    [sigma.value for sigma in sigmas] / bin_centres[bins],\n",
    "    xerr=bin_half_widths[bins],\n",
    "    yerr=d_sigma_E_over_E,\n",
    "    linestyle=\"\",\n",
    "    label=r\"$\\sigma\\left(\\Delta E\\right)$\",\n",
    "    color=colors[1],\n",
    "    fmt=\"o\",\n",
    "    capsize=3,\n",
    ")\n",
    "plt.plot(\n",
    "    bin_centres[bins],\n",
    "    E_model(bin_centres[bins], res.params[0].value, res.params[1].value),\n",
    ")\n",
    "plt.ylabel(r\"$\\frac{\\sigma\\left(\\Delta E\\right)}{E_\\mathrm{true}}$\")\n",
    "plt.xlabel(r\"$E_\\mathrm{true}\\;[\\mathrm{GeV}]$\")\n",
    "ax = plt.gca()\n",
    "watermark()\n",
    "plt.text(\n",
    "    0.6,\n",
    "    0.7,\n",
    "    # rf\"$\\sqrt{{{res.params[0].value:.3f}^2 + \\left(\\frac{{{res.params[1].value:.1f}}}{{\\sqrt{{E}}}}\\right)^2}}$\",\n",
    "    rf\"${f_pretty}$\",\n",
    "    fontsize=14,\n",
    "    transform=ax.transAxes,\n",
    ")\n",
    "plt.text(\n",
    "    0.6,\n",
    "    0.6,\n",
    "    rf\"$A = {res.params[0].value:.2f} \\pm {res.params[0].error:.2f}$\",\n",
    "    fontsize=14,\n",
    "    transform=ax.transAxes,\n",
    ")\n",
    "plt.text(\n",
    "    0.6,\n",
    "    0.5,\n",
    "    rf\"$b = {res.params[1].value:.1f} \\pm {res.params[1].error:.1f}$\",\n",
    "    fontsize=14,\n",
    "    transform=ax.transAxes,\n",
    ")\n",
    "\n",
    "plt.savefig(f\"plots/energy_resolution_{model_name}.pdf\")\n",
    "plt.savefig(f\"plots/energy_resolution_{model_name}.png\")"
   ]
  },
  {
   "cell_type": "markdown",
   "id": "68",
   "metadata": {},
   "source": [
    "### Convergence history"
   ]
  },
  {
   "cell_type": "code",
   "execution_count": null,
   "id": "69",
   "metadata": {},
   "outputs": [],
   "source": [
    "history_df = pd.read_csv(\"history_CNN_3dSat5_grandjorasses_nu_energy_n75843_e100.csv\")"
   ]
  },
  {
   "cell_type": "code",
   "execution_count": null,
   "id": "70",
   "metadata": {},
   "outputs": [],
   "source": [
    "n_events = 75843"
   ]
  },
  {
   "cell_type": "code",
   "execution_count": null,
   "id": "71",
   "metadata": {},
   "outputs": [],
   "source": [
    "fig, ax1 = plt.subplots()\n",
    "ax2 = ax1.twinx()\n",
    "# plt.title(\"CNN $\")\n",
    "ax1.plot(history_df[\"loss\"].values, color=colors[0])\n",
    "ax1.set_xlabel(\"Epochs\")\n",
    "ax1.set_ylabel(\"Loss Function\", color=colors[0])\n",
    "try:\n",
    "    ax2.plot(history_df[\"mae\"].values, color=colors[1])\n",
    "except KeyError:\n",
    "    ax2.plot(history_df[\"dense_2_mae\"].values, color=colors[1])\n",
    "    ax2.plot(history_df[\"dense_3_mae\"].values, color=colors[1])\n",
    "ax2.set_ylabel(\"Error\", color=colors[1])\n",
    "plt.text(\n",
    "    0.3,\n",
    "    0.7,\n",
    "    f\"Training dataset: {n_events} events\\n\"\n",
    "    # f\"Test dataset: {events_test.num_entries} events\\n\"\n",
    "    f\"Training duration: {len(history_df)} epochs\\n{model_name}\",\n",
    "    transform=ax1.transAxes,\n",
    ")\n",
    "watermark()\n",
    "plt.savefig(f\"plots/convergence_{model_name}_n{n_events}_e{len(history_df)}.pdf\")\n",
    "plt.savefig(f\"plots/convergence_{model_name}_n{n_events}_e{len(history_df)}.png\")"
   ]
  },
  {
   "cell_type": "markdown",
   "id": "72",
   "metadata": {},
   "source": [
    "### Distributions of $\\log{E}$"
   ]
  },
  {
   "cell_type": "code",
   "execution_count": null,
   "id": "73",
   "metadata": {},
   "outputs": [],
   "source": [
    "(np.log(df.nu_energy_pred) - np.log(df.nu_energy_test)).hist(bins=100)"
   ]
  },
  {
   "cell_type": "code",
   "execution_count": null,
   "id": "74",
   "metadata": {
    "jupyter": {
     "source_hidden": true
    }
   },
   "outputs": [],
   "source": [
    "plt.figure()\n",
    "np.log(df.nu_energy_pred).hist()\n",
    "plt.figure()\n",
    "np.log(df.nu_energy_test).hist()"
   ]
  },
  {
   "cell_type": "markdown",
   "id": "75",
   "metadata": {},
   "source": [
    "## $z_0$"
   ]
  },
  {
   "cell_type": "code",
   "execution_count": null,
   "id": "76",
   "metadata": {},
   "outputs": [],
   "source": [
    "df_start_z = pd.read_csv(\"CNN_3d_breithorn_start_z_n60578_e87.csv\")"
   ]
  },
  {
   "cell_type": "code",
   "execution_count": null,
   "id": "77",
   "metadata": {},
   "outputs": [],
   "source": [
    "df_start_z"
   ]
  },
  {
   "cell_type": "code",
   "execution_count": null,
   "id": "78",
   "metadata": {},
   "outputs": [],
   "source": [
    "(df_start_z.start_z_pred - df_start_z.start_z_test).hist(bins=1000)\n",
    "(df_start_z.start_z_pred - df_start_z.start_z_test).std()"
   ]
  },
  {
   "cell_type": "code",
   "execution_count": null,
   "id": "79",
   "metadata": {},
   "outputs": [],
   "source": [
    "import uproot"
   ]
  },
  {
   "cell_type": "code",
   "execution_count": null,
   "id": "80",
   "metadata": {},
   "outputs": [],
   "source": [
    "filename_test = \"dataframe_CC_test.root:df\""
   ]
  },
  {
   "cell_type": "code",
   "execution_count": null,
   "id": "81",
   "metadata": {},
   "outputs": [],
   "source": [
    "events_test = uproot.open(filename_test)"
   ]
  },
  {
   "cell_type": "code",
   "execution_count": null,
   "id": "82",
   "metadata": {},
   "outputs": [],
   "source": [
    "events_test.keys()"
   ]
  },
  {
   "cell_type": "code",
   "execution_count": null,
   "id": "83",
   "metadata": {},
   "outputs": [],
   "source": [
    "events_test.arrays([\"start_x\", \"start_y\", \"start_z\"], library=\"pd\")"
   ]
  },
  {
   "cell_type": "code",
   "execution_count": null,
   "id": "84",
   "metadata": {},
   "outputs": [],
   "source": []
  }
 ],
 "metadata": {
  "kernelspec": {
   "display_name": "Python 3",
   "language": "python",
   "name": "python3"
  },
  "language_info": {
   "codemirror_mode": {
    "name": "ipython",
    "version": 3
   },
   "file_extension": ".py",
   "mimetype": "text/x-python",
   "name": "python",
   "nbconvert_exporter": "python",
   "pygments_lexer": "ipython3",
   "version": "3.9.12"
  }
 },
 "nbformat": 4,
 "nbformat_minor": 5
}
