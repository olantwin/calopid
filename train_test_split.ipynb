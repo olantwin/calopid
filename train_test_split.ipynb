{
 "cells": [
  {
   "cell_type": "code",
   "execution_count": 1,
   "id": "81d74f01-3e74-48a4-b7d9-745974a201fa",
   "metadata": {},
   "outputs": [],
   "source": [
    "import uproot"
   ]
  },
  {
   "cell_type": "code",
   "execution_count": 2,
   "id": "396734b3-292d-4f2d-a020-50fc68fc1079",
   "metadata": {},
   "outputs": [],
   "source": [
    "import numpy as np"
   ]
  },
  {
   "cell_type": "code",
   "execution_count": 3,
   "id": "5bbac53f-4966-451d-9241-f88107e0995c",
   "metadata": {},
   "outputs": [],
   "source": [
    "rng = np.random.default_rng()"
   ]
  },
  {
   "cell_type": "code",
   "execution_count": 4,
   "id": "6663d89a-f637-4796-96e8-efb521ae7ece",
   "metadata": {},
   "outputs": [],
   "source": [
    "filename1 = \"df_nu_e_CC.root\"\n",
    "filename2 = \"df_nu_tau_CC_hadronic.root\"\n",
    "train_file_name = \"df_nu_CC_non-muonic_equal_train.root\"\n",
    "test_file_name = \"df_nu_CC_non-muonic_equal_test.root\"\n",
    "treename = \"df\""
   ]
  },
  {
   "cell_type": "code",
   "execution_count": 5,
   "id": "c4eebe45-b561-4328-8fb9-a95e8d84f348",
   "metadata": {},
   "outputs": [],
   "source": [
    "filename1 = \"df_nu_mu_CC.root\"\n",
    "filename2 = \"df_nu_tau_CC_muonic.root\"\n",
    "train_file_name = \"df_nu_CC_muonic_equal_train.root\"\n",
    "test_file_name = \"df_nu_CC_muonic_equal_test.root\"\n",
    "treename = \"df\""
   ]
  },
  {
   "cell_type": "code",
   "execution_count": 6,
   "id": "b210134d-a288-474e-874b-830501113211",
   "metadata": {},
   "outputs": [],
   "source": [
    "tree1 = uproot.open(f\"{filename1}:{treename}\")"
   ]
  },
  {
   "cell_type": "code",
   "execution_count": 7,
   "id": "50f0eea3-31a2-4ebf-9069-96c636f91180",
   "metadata": {},
   "outputs": [],
   "source": [
    "tree2 = uproot.open(f\"{filename2}:{treename}\")"
   ]
  },
  {
   "cell_type": "code",
   "execution_count": 8,
   "id": "60673254-ab68-4690-b139-d96a133bc322",
   "metadata": {},
   "outputs": [],
   "source": [
    "train_frac = 0.8"
   ]
  },
  {
   "cell_type": "code",
   "execution_count": 9,
   "id": "ce0fef75-7f25-4cb2-9993-bfa8d86e187e",
   "metadata": {},
   "outputs": [],
   "source": [
    "train_file = uproot.recreate(train_file_name)\n",
    "test_file = uproot.recreate(test_file_name)"
   ]
  },
  {
   "cell_type": "code",
   "execution_count": 10,
   "id": "cd8f320b-92e3-4726-8857-4f53eb2a76a6",
   "metadata": {},
   "outputs": [],
   "source": [
    "target_dims = (3279, 116)\n",
    "mufilter_dims = (3279, 68)"
   ]
  },
  {
   "cell_type": "code",
   "execution_count": 11,
   "id": "406d404b-ffde-47a2-abf0-18b4df892957",
   "metadata": {},
   "outputs": [
    {
     "data": {
      "text/plain": [
       "<WritableTree '/df' at 0x7fb3a00d5750>"
      ]
     },
     "execution_count": 11,
     "metadata": {},
     "output_type": "execute_result"
    }
   ],
   "source": [
    "train_file.mktree(\n",
    "    treename,\n",
    "    {\n",
    "        \"X\": (\">f4\", target_dims),\n",
    "        \"X_mufilter\": (\">f4\", mufilter_dims),\n",
    "        \"start_x\": \">f8\",\n",
    "        \"start_y\": \">f8\",\n",
    "        \"start_z\": \">f8\",\n",
    "        \"nu_energy\": \">f8\",\n",
    "        \"hadron_energy\": \">f8\",\n",
    "        \"lepton_energy\": \">f8\",\n",
    "        \"energy_dep_target\": \">f8\",\n",
    "        \"energy_dep_mufilter\": \">f8\",\n",
    "        \"nu_flavour\": \">i8\",\n",
    "        \"is_cc\": \"bool\",\n",
    "    },\n",
    "    title=\"Dataframe for CNN studies\",\n",
    ")"
   ]
  },
  {
   "cell_type": "code",
   "execution_count": 12,
   "id": "7ddd6038-dacf-4538-8a5b-86cf3110ed13",
   "metadata": {},
   "outputs": [
    {
     "data": {
      "text/plain": [
       "<WritableTree '/df' at 0x7fb3981d4e50>"
      ]
     },
     "execution_count": 12,
     "metadata": {},
     "output_type": "execute_result"
    }
   ],
   "source": [
    "test_file.mktree(\n",
    "    treename,\n",
    "    {\n",
    "        \"X\": (\">f4\", target_dims),\n",
    "        \"X_mufilter\": (\">f4\", mufilter_dims),\n",
    "        \"start_x\": \">f8\",\n",
    "        \"start_y\": \">f8\",\n",
    "        \"start_z\": \">f8\",\n",
    "        \"nu_energy\": \">f8\",\n",
    "        \"hadron_energy\": \">f8\",\n",
    "        \"lepton_energy\": \">f8\",\n",
    "        \"energy_dep_target\": \">f8\",\n",
    "        \"energy_dep_mufilter\": \">f8\",\n",
    "        \"nu_flavour\": \">i8\",\n",
    "        \"is_cc\": \"bool\",\n",
    "    },\n",
    "    title=\"Dataframe for CNN studies\",\n",
    ")"
   ]
  },
  {
   "cell_type": "code",
   "execution_count": 13,
   "id": "fcad2557-df5f-47da-8d16-2b5cf49f39ae",
   "metadata": {},
   "outputs": [],
   "source": [
    "from tqdm import tqdm"
   ]
  },
  {
   "cell_type": "code",
   "execution_count": 14,
   "id": "f0a97a40-b1a1-44bc-bd8f-8399c846e3b3",
   "metadata": {},
   "outputs": [],
   "source": [
    "prob = tree2.num_entries / (tree1.num_entries + tree2.num_entries)"
   ]
  },
  {
   "cell_type": "code",
   "execution_count": 15,
   "id": "cd7c1d3c-7c29-43d1-b105-b92a0051c778",
   "metadata": {},
   "outputs": [
    {
     "data": {
      "text/plain": [
       "0.039674751156596105"
      ]
     },
     "execution_count": 15,
     "metadata": {},
     "output_type": "execute_result"
    }
   ],
   "source": [
    "tree2.num_entries / tree1.num_entries"
   ]
  },
  {
   "cell_type": "code",
   "execution_count": 16,
   "id": "e248a5b6-9af2-4cf9-afa0-55aaa884612d",
   "metadata": {},
   "outputs": [
    {
     "name": "stdout",
     "output_type": "stream",
     "text": [
      "0.038160733549083066\n"
     ]
    }
   ],
   "source": [
    "print(prob)"
   ]
  },
  {
   "cell_type": "raw",
   "id": "4c32be05-4ac2-4ba3-9d83-938a601aa854",
   "metadata": {},
   "source": [
    "gen1 = tree1.iterate(step_size=\"1MB\", library=\"np\")\n",
    "gen2 = tree2.iterate(step_size=\"1MB\", library=\"np\")\n",
    "stop1 = False\n",
    "stop2 = False\n",
    "t = tqdm(total=tree1.num_entries + tree2.num_entries)\n",
    "while not stop1 and not stop2:\n",
    "    batch = None\n",
    "    if rng.binomial(1, prob) and not stop2:\n",
    "        try:\n",
    "            batch = next(gen2)\n",
    "        except StopIteration:\n",
    "            stop2 = True\n",
    "            continue\n",
    "    elif not stop1:\n",
    "        try:\n",
    "            batch = next(gen1)\n",
    "        except StopIteration:\n",
    "            stop1 = True\n",
    "            continue\n",
    "    batch_size = len(batch[\"start_z\"])\n",
    "    batch_partition = rng.binomial(batch_size, train_frac)\n",
    "    train_file[treename].extend({key: batch[key][:batch_partition] for key in batch.keys()})\n",
    "    test_file[treename].extend({key: batch[key][batch_partition:] for key in batch.keys()})\n",
    "    t.update(batch_size)\n",
    "t.close()"
   ]
  },
  {
   "cell_type": "code",
   "execution_count": 17,
   "id": "f2b5bef7-5e0b-46ca-be8c-62de3872277c",
   "metadata": {},
   "outputs": [],
   "source": [
    "from random import shuffle"
   ]
  },
  {
   "cell_type": "code",
   "execution_count": 18,
   "id": "06aed814-dbf3-414f-ba14-57bfecbbb352",
   "metadata": {},
   "outputs": [
    {
     "name": "stderr",
     "output_type": "stream",
     "text": [
      "  9%|▉         | 9330/103824 [09:43<1:38:26, 16.00it/s]\n"
     ]
    }
   ],
   "source": [
    "gen1 = tree1.iterate(step_size=\"10MB\", library=\"np\")\n",
    "gen2 = tree2.iterate(step_size=\"10MB\", library=\"np\")\n",
    "t = tqdm(total=tree1.num_entries + tree2.num_entries)\n",
    "for batch1, batch2 in zip(gen1, gen2):\n",
    "    batch1_size = len(batch1[\"start_z\"])\n",
    "    batch2_size = len(batch2[\"start_z\"])\n",
    "    assert batch1_size == batch1_size\n",
    "    batch_size = batch1_size + batch2_size\n",
    "    batch_partition = rng.binomial(batch_size, train_frac)\n",
    "    indexer = np.concatenate([np.zeros(batch1_size), np.ones(batch2_size)])\n",
    "    shuffle(indexer)\n",
    "    i1 = 0\n",
    "    i2 = 0\n",
    "    for index, sample in enumerate(indexer):\n",
    "        batch = batch2 if sample else batch1\n",
    "        i = i2 if sample else i1\n",
    "        if index < batch_partition:\n",
    "            train_file[treename].extend(\n",
    "                {key: np.array([batch[key][i]]) for key in batch.keys()}\n",
    "            )\n",
    "        else:\n",
    "            test_file[treename].extend(\n",
    "                {key: np.array([batch[key][i]]) for key in batch.keys()}\n",
    "            )\n",
    "        if sample:\n",
    "            i2 += 1\n",
    "        else:\n",
    "            i1 += 1\n",
    "    t.update(batch_size)\n",
    "t.close()"
   ]
  },
  {
   "cell_type": "code",
   "execution_count": 19,
   "id": "dd3d7240-6ac4-4c16-b743-7cf4f786dfa3",
   "metadata": {},
   "outputs": [
    {
     "name": "stdout",
     "output_type": "stream",
     "text": [
      "7465\n",
      "1865\n"
     ]
    }
   ],
   "source": [
    "print(train_file[treename].num_entries)\n",
    "print(test_file[treename].num_entries)"
   ]
  },
  {
   "cell_type": "code",
   "execution_count": 20,
   "id": "3f16f5de-eeab-4fda-b2cf-52e3783e7b6e",
   "metadata": {},
   "outputs": [],
   "source": [
    "train_file.close()\n",
    "test_file.close()"
   ]
  },
  {
   "cell_type": "code",
   "execution_count": null,
   "id": "833c0cd8-d35f-4ce3-80ed-376870949805",
   "metadata": {},
   "outputs": [],
   "source": []
  }
 ],
 "metadata": {
  "kernelspec": {
   "display_name": "Python 3",
   "language": "python",
   "name": "python3"
  },
  "language_info": {
   "codemirror_mode": {
    "name": "ipython",
    "version": 3
   },
   "file_extension": ".py",
   "mimetype": "text/x-python",
   "name": "python",
   "nbconvert_exporter": "python",
   "pygments_lexer": "ipython3",
   "version": "3.11.9"
  }
 },
 "nbformat": 4,
 "nbformat_minor": 5
}
