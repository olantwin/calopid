{
 "cells": [
  {
   "cell_type": "code",
   "execution_count": null,
   "id": "0",
   "metadata": {},
   "outputs": [],
   "source": [
    "import hist\n",
    "import matplotlib.pyplot as plt\n",
    "import scienceplots\n",
    "\n",
    "plt.style.use([\"science\", \"notebook\"])"
   ]
  },
  {
   "cell_type": "code",
   "execution_count": null,
   "id": "1",
   "metadata": {},
   "outputs": [],
   "source": [
    "plt.rcParams[\"font.size\"] = 14\n",
    "plt.rcParams[\"axes.formatter.limits\"] = -5, 4\n",
    "plt.rcParams[\"figure.figsize\"] = 6, 4\n",
    "colors = plt.rcParams[\"axes.prop_cycle\"].by_key()[\"color\"]"
   ]
  },
  {
   "cell_type": "code",
   "execution_count": null,
   "id": "2",
   "metadata": {},
   "outputs": [],
   "source": [
    "import numpy as np"
   ]
  },
  {
   "cell_type": "code",
   "execution_count": null,
   "id": "3",
   "metadata": {},
   "outputs": [],
   "source": [
    "import pandas as pd"
   ]
  },
  {
   "cell_type": "code",
   "execution_count": null,
   "id": "4",
   "metadata": {},
   "outputs": [],
   "source": [
    "from iminuit import cost\n",
    "from iminuit import Minuit"
   ]
  },
  {
   "cell_type": "code",
   "execution_count": null,
   "id": "5",
   "metadata": {},
   "outputs": [],
   "source": [
    "from scipy.stats import t"
   ]
  },
  {
   "cell_type": "code",
   "execution_count": null,
   "id": "6",
   "metadata": {},
   "outputs": [],
   "source": [
    "import matplotlib as mpl\n",
    "import matplotlib.gridspec as grid_spec"
   ]
  },
  {
   "cell_type": "code",
   "execution_count": null,
   "id": "7",
   "metadata": {},
   "outputs": [],
   "source": [
    "df = pd.read_csv(\"features_stable.csv\")"
   ]
  },
  {
   "cell_type": "code",
   "execution_count": null,
   "id": "8",
   "metadata": {},
   "outputs": [],
   "source": [
    "start_z = df.pop(\"start_z\").values\n",
    "nu_energy = np.log(df.pop(\"nu_energy\").values)"
   ]
  },
  {
   "cell_type": "code",
   "execution_count": null,
   "id": "9",
   "metadata": {},
   "outputs": [],
   "source": [
    "X = df.values"
   ]
  },
  {
   "cell_type": "code",
   "execution_count": null,
   "id": "10",
   "metadata": {},
   "outputs": [],
   "source": [
    "from sklearn.datasets import make_regression\n",
    "\n",
    "from sklearn.ensemble import GradientBoostingRegressor\n",
    "\n",
    "from sklearn.model_selection import train_test_split"
   ]
  },
  {
   "cell_type": "code",
   "execution_count": null,
   "id": "11",
   "metadata": {},
   "outputs": [],
   "source": [
    "from sklearn.ensemble import AdaBoostRegressor"
   ]
  },
  {
   "cell_type": "code",
   "execution_count": null,
   "id": "12",
   "metadata": {},
   "outputs": [],
   "source": [
    "from skopt.space import Real, Integer, Categorical\n",
    "from skopt import BayesSearchCV"
   ]
  },
  {
   "cell_type": "code",
   "execution_count": null,
   "id": "13",
   "metadata": {},
   "outputs": [],
   "source": [
    "import scipy"
   ]
  },
  {
   "cell_type": "code",
   "execution_count": null,
   "id": "14",
   "metadata": {},
   "outputs": [],
   "source": [
    "z_min = -232.3746\n",
    "z_max = -82.3862"
   ]
  },
  {
   "cell_type": "code",
   "execution_count": null,
   "id": "15",
   "metadata": {},
   "outputs": [],
   "source": [
    "X_train, X_test, start_z_train, start_z_test = train_test_split(\n",
    "    X, start_z, random_state=0\n",
    ")"
   ]
  },
  {
   "cell_type": "code",
   "execution_count": null,
   "id": "16",
   "metadata": {},
   "outputs": [],
   "source": [
    "estimate_start_z = GradientBoostingRegressor(random_state=0)\n",
    "\n",
    "estimate_start_z.fit(X_train, start_z_train)"
   ]
  },
  {
   "cell_type": "code",
   "execution_count": null,
   "id": "17",
   "metadata": {},
   "outputs": [],
   "source": [
    "# TODO use adaboost and hyperoptimise?"
   ]
  },
  {
   "cell_type": "code",
   "execution_count": null,
   "id": "18",
   "metadata": {},
   "outputs": [],
   "source": [
    "start_z_pred = estimate_start_z.predict(X_test)\n",
    "\n",
    "estimate_start_z.score(X_test, start_z_test)"
   ]
  },
  {
   "cell_type": "code",
   "execution_count": null,
   "id": "19",
   "metadata": {},
   "outputs": [],
   "source": [
    "h = hist.Hist.new.Regular(10, -10, +10, name=r\"𝛥z [cm]\").Double()"
   ]
  },
  {
   "cell_type": "code",
   "execution_count": null,
   "id": "20",
   "metadata": {},
   "outputs": [],
   "source": [
    "h.fill(start_z_pred - start_z_test)"
   ]
  },
  {
   "cell_type": "code",
   "execution_count": null,
   "id": "21",
   "metadata": {},
   "outputs": [],
   "source": [
    "def model(x, mu, sigma):\n",
    "    return scipy.stats.norm.cdf(x, mu, sigma)"
   ]
  },
  {
   "cell_type": "code",
   "execution_count": null,
   "id": "22",
   "metadata": {},
   "outputs": [],
   "source": [
    "entries, edges = h.to_numpy()"
   ]
  },
  {
   "cell_type": "code",
   "execution_count": null,
   "id": "23",
   "metadata": {},
   "outputs": [],
   "source": [
    "m = Minuit(cost.BinnedNLL(entries, edges, model), 0, 25)"
   ]
  },
  {
   "cell_type": "code",
   "execution_count": null,
   "id": "24",
   "metadata": {},
   "outputs": [],
   "source": [
    "res = m.migrad()"
   ]
  },
  {
   "cell_type": "code",
   "execution_count": null,
   "id": "25",
   "metadata": {},
   "outputs": [],
   "source": [
    "h.plot()\n",
    "plt.xlabel(r\"$\\Delta z\\;[\\mathrm{cm}]$\")\n",
    "plot_range = -10, 10\n",
    "x = np.linspace(*plot_range, 100)\n",
    "best_fit = scipy.stats.norm(res.params[0].value, res.params[1].value)\n",
    "# best_fit = scipy.stats.norm(0.044, 2.83) # TODO take from fit\n",
    "n_bins = 10\n",
    "binsize = (plot_range[1] - plot_range[0]) / n_bins\n",
    "scale = h.sum() / (best_fit.cdf(plot_range[1]) - best_fit.cdf(plot_range[0])) * binsize\n",
    "plt.plot(x, scale * best_fit.pdf(x))\n",
    "ax = plt.gca()\n",
    "# plt.text(0.6, 0.9, r\"$\\mu = 0.044 $\\;cm\", transform=ax.transAxes, usetex=True)\n",
    "plt.text(\n",
    "    0.6,\n",
    "    0.9,\n",
    "    rf\"$\\mu = {res.params[0].value:.2f} \\pm {res.params[0].error:.2f}$\\;cm\",\n",
    "    transform=ax.transAxes,\n",
    "    usetex=True,\n",
    ")\n",
    "# plt.text(0.6, 0.81, r\"$\\sigma = 2.83 $\\;cm\", transform=ax.transAxes, usetex=True)\n",
    "plt.text(\n",
    "    0.6,\n",
    "    0.81,\n",
    "    rf\"$\\sigma = {res.params[1].value:.2f} \\pm {res.params[1].error:.2f}$\\;cm\",\n",
    "    transform=ax.transAxes,\n",
    "    usetex=True,\n",
    ")\n",
    "plt.text(\n",
    "    0.0,\n",
    "    1.02,\n",
    "    \"preliminary\",\n",
    "    fontfamily=\"sans-serif\",\n",
    "    fontsize=16,\n",
    "    transform=ax.transAxes,\n",
    "    usetex=False,\n",
    ")\n",
    "plt.text(\n",
    "    0.8,\n",
    "    1.02,\n",
    "    \"AdvSND\",\n",
    "    fontweight=\"bold\",\n",
    "    fontfamily=\"sans-serif\",\n",
    "    fontsize=16,\n",
    "    transform=ax.transAxes,\n",
    "    usetex=False,\n",
    ")\n",
    "plt.savefig(\"plots/h_dz.pdf\")\n",
    "plt.savefig(\"plots/h_dz.png\")"
   ]
  },
  {
   "cell_type": "code",
   "execution_count": null,
   "id": "26",
   "metadata": {},
   "outputs": [],
   "source": [
    "X_train, X_test, nu_energy_train, nu_energy_test = train_test_split(\n",
    "    X, nu_energy, random_state=0\n",
    ")"
   ]
  },
  {
   "cell_type": "code",
   "execution_count": null,
   "id": "27",
   "metadata": {},
   "outputs": [],
   "source": [
    "estimate_nu_energy = AdaBoostRegressor(\n",
    "    random_state=0, learning_rate=0.1, n_estimators=466\n",
    ")\n",
    "\n",
    "estimate_nu_energy.fit(X_train, nu_energy_train)"
   ]
  },
  {
   "cell_type": "code",
   "execution_count": null,
   "id": "28",
   "metadata": {},
   "outputs": [],
   "source": [
    "\"\"\"\n",
    "bdt_opt = BayesSearchCV(\n",
    "    AdaBoostRegressor(),\n",
    "    {\n",
    "    'learning_rate': Real(0.005, 0.9, prior=\"log-uniform\"),\n",
    "    'n_estimators': Integer(1, 1000),\n",
    "},\n",
    "    n_iter=100,\n",
    "    cv=5\n",
    ")\n",
    "\n",
    "bdt_opt.fit(X_train, nu_energy_train)\n",
    "\"\"\""
   ]
  },
  {
   "cell_type": "code",
   "execution_count": null,
   "id": "29",
   "metadata": {},
   "outputs": [],
   "source": [
    "\"\"\"\n",
    "bdt_opt.best_params_\n",
    "\"\"\""
   ]
  },
  {
   "cell_type": "code",
   "execution_count": null,
   "id": "30",
   "metadata": {},
   "outputs": [],
   "source": [
    "nu_energy_pred = estimate_nu_energy.predict(X_test)\n",
    "\n",
    "estimate_nu_energy.score(X_test, nu_energy_test)"
   ]
  },
  {
   "cell_type": "code",
   "execution_count": null,
   "id": "31",
   "metadata": {},
   "outputs": [],
   "source": [
    "E = np.exp(nu_energy_test)"
   ]
  },
  {
   "cell_type": "code",
   "execution_count": null,
   "id": "32",
   "metadata": {},
   "outputs": [],
   "source": [
    "E_scale_correction = np.mean(E) - np.mean(np.exp(nu_energy_pred))"
   ]
  },
  {
   "cell_type": "code",
   "execution_count": null,
   "id": "33",
   "metadata": {},
   "outputs": [],
   "source": [
    "dE_over_E = (np.exp(nu_energy_pred) - E) / E"
   ]
  },
  {
   "cell_type": "code",
   "execution_count": null,
   "id": "34",
   "metadata": {},
   "outputs": [],
   "source": [
    "dE_over_E_corrected = (\n",
    "    (np.exp(nu_energy_pred) + E_scale_correction) - np.exp(nu_energy_test)\n",
    ") / E"
   ]
  },
  {
   "cell_type": "code",
   "execution_count": null,
   "id": "35",
   "metadata": {},
   "outputs": [],
   "source": [
    "h_nu_energy = hist.Hist.new.Regular(50, -5, +5, name=r\"𝛥E/E\").Double()"
   ]
  },
  {
   "cell_type": "code",
   "execution_count": null,
   "id": "36",
   "metadata": {},
   "outputs": [],
   "source": [
    "h_nu_energy_corrected = hist.Hist.new.Regular(50, -5, +5, name=r\"𝛥E/E\").Double()"
   ]
  },
  {
   "cell_type": "code",
   "execution_count": null,
   "id": "37",
   "metadata": {},
   "outputs": [],
   "source": [
    "h_nu_energy.fill(dE_over_E)\n",
    "h_nu_energy_corrected.fill(dE_over_E_corrected)"
   ]
  },
  {
   "cell_type": "code",
   "execution_count": null,
   "id": "38",
   "metadata": {},
   "outputs": [],
   "source": [
    "h_nu_energy.plot(label=\"AdaBoost\")\n",
    "# h_nu_energy_corrected.plot(label=\"AdaBoost + correction of average\")\n",
    "plt.xlabel(r\"$\\frac{\\Delta E}{E}$\")\n",
    "# plt.legend()\n",
    "ax = plt.gca()\n",
    "plt.text(\n",
    "    0.0,\n",
    "    1.02,\n",
    "    \"preliminary\",\n",
    "    fontfamily=\"sans-serif\",\n",
    "    fontsize=16,\n",
    "    transform=ax.transAxes,\n",
    "    usetex=False,\n",
    ")\n",
    "plt.text(\n",
    "    0.8,\n",
    "    1.02,\n",
    "    \"AdvSND\",\n",
    "    fontweight=\"bold\",\n",
    "    fontfamily=\"sans-serif\",\n",
    "    fontsize=16,\n",
    "    transform=ax.transAxes,\n",
    "    usetex=False,\n",
    ")\n",
    "plt.savefig(\"plots/h_dE_over_E.png\")\n",
    "plt.savefig(\"plots/h_dE_over_E.pdf\")"
   ]
  },
  {
   "cell_type": "code",
   "execution_count": null,
   "id": "39",
   "metadata": {},
   "outputs": [],
   "source": [
    "h_dE_over_E_vs_E = (\n",
    "    hist.Hist.new.Regular(50, 0, 5000, name=r\"E\")\n",
    "    .Regular(50, -1, +1, name=r\"𝛥E/E\")\n",
    "    .Double()\n",
    ")"
   ]
  },
  {
   "cell_type": "code",
   "execution_count": null,
   "id": "40",
   "metadata": {},
   "outputs": [],
   "source": [
    "h_dE_over_E_vs_E.fill(E, dE_over_E)"
   ]
  },
  {
   "cell_type": "code",
   "execution_count": null,
   "id": "41",
   "metadata": {},
   "outputs": [],
   "source": [
    "h_dE_over_E_vs_E_corrected = (\n",
    "    hist.Hist.new.Regular(50, 0, 5000, name=r\"E\")\n",
    "    .Regular(50, -1, +1, name=r\"𝛥E/E\")\n",
    "    .Double()\n",
    ")"
   ]
  },
  {
   "cell_type": "code",
   "execution_count": null,
   "id": "42",
   "metadata": {},
   "outputs": [],
   "source": [
    "h_dE_over_E_vs_E_corrected.fill(E, dE_over_E_corrected)"
   ]
  },
  {
   "cell_type": "code",
   "execution_count": null,
   "id": "43",
   "metadata": {},
   "outputs": [],
   "source": [
    "sorted_E = E.copy()\n",
    "sorted_E.sort()"
   ]
  },
  {
   "cell_type": "code",
   "execution_count": null,
   "id": "44",
   "metadata": {},
   "outputs": [],
   "source": [
    "# h_dE_over_E_vs_E.plot()\n",
    "h_dE_over_E_vs_E_corrected.plot()\n",
    "plt.plot(sorted_E, E_scale_correction / sorted_E, label=\"Scale correction\", color=\"red\")\n",
    "ax = plt.gca()\n",
    "plt.text(\n",
    "    0.8,\n",
    "    1.02,\n",
    "    \"AdvSND\",\n",
    "    fontweight=\"bold\",\n",
    "    fontfamily=\"sans-serif\",\n",
    "    fontsize=16,\n",
    "    transform=ax.transAxes,\n",
    "    usetex=False,\n",
    ")\n",
    "plt.xlabel(r\"true $E\\;[\\mathrm{GeV}]$\")\n",
    "plt.ylabel(r\"corrected $\\frac{\\Delta E}{E}$\")\n",
    "plt.legend(loc=\"upper left\", bbox_to_anchor=(0.2, 1.13))\n",
    "plt.text(\n",
    "    0.0,\n",
    "    1.02,\n",
    "    \"prelim.\",\n",
    "    fontfamily=\"sans-serif\",\n",
    "    fontsize=16,\n",
    "    transform=ax.transAxes,\n",
    "    usetex=False,\n",
    ")\n",
    "plt.savefig(\"plots/h_dE_over_E_vs_E_corrected.png\")\n",
    "plt.savefig(\"plots/h_dE_over_E_vs_E_corrected.pdf\")"
   ]
  },
  {
   "cell_type": "code",
   "execution_count": null,
   "id": "45",
   "metadata": {},
   "outputs": [],
   "source": [
    "h_dE_over_E_vs_E.plot()\n",
    "ax = plt.gca()\n",
    "plt.text(\n",
    "    0.8,\n",
    "    1.02,\n",
    "    \"AdvSND\",\n",
    "    fontweight=\"bold\",\n",
    "    fontfamily=\"sans-serif\",\n",
    "    fontsize=16,\n",
    "    transform=ax.transAxes,\n",
    "    usetex=False,\n",
    ")\n",
    "plt.xlabel(r\"true $E\\;[\\mathrm{GeV}]$\")\n",
    "plt.ylabel(r\"$\\frac{\\Delta E}{E}$\")\n",
    "# plt.legend(loc='upper left', bbox_to_anchor=(0.2, 1.13))\n",
    "plt.text(\n",
    "    0.0,\n",
    "    1.02,\n",
    "    \"preliminary\",\n",
    "    fontfamily=\"sans-serif\",\n",
    "    fontsize=16,\n",
    "    transform=ax.transAxes,\n",
    "    usetex=False,\n",
    ")\n",
    "plt.savefig(\"plots/h_dE_over_E_vs_E.png\")\n",
    "plt.savefig(\"plots/h_dE_over_E_vs_E.pdf\")"
   ]
  },
  {
   "cell_type": "code",
   "execution_count": null,
   "id": "46",
   "metadata": {},
   "outputs": [],
   "source": [
    "h_dE_over_E_vs_E_reco = (\n",
    "    hist.Hist.new.Regular(\n",
    "        15, 80, 2500, name=r\"E_reco\", transform=hist.axis.transform.log\n",
    "    )\n",
    "    .Regular(50, -1, +5, name=r\"𝛥E/E\")\n",
    "    .Double()\n",
    ")"
   ]
  },
  {
   "cell_type": "code",
   "execution_count": null,
   "id": "47",
   "metadata": {},
   "outputs": [],
   "source": [
    "h_dE_over_E_vs_E_reco.fill(np.exp(nu_energy_pred), dE_over_E)"
   ]
  },
  {
   "cell_type": "code",
   "execution_count": null,
   "id": "48",
   "metadata": {},
   "outputs": [],
   "source": [
    "h_dE_over_E_vs_E_reco.plot()\n",
    "plt.xlabel(r\"reconstructed $E\\;[\\mathrm{GeV}]$\")\n",
    "plt.ylabel(r\"$\\frac{\\Delta E}{E}$\")\n",
    "ax = plt.gca()\n",
    "plt.text(\n",
    "    0.8,\n",
    "    1.02,\n",
    "    \"AdvSND\",\n",
    "    fontweight=\"bold\",\n",
    "    fontfamily=\"sans-serif\",\n",
    "    fontsize=16,\n",
    "    transform=ax.transAxes,\n",
    "    usetex=False,\n",
    ")\n",
    "plt.text(\n",
    "    0.0,\n",
    "    1.02,\n",
    "    \"preliminary\",\n",
    "    fontfamily=\"sans-serif\",\n",
    "    fontsize=16,\n",
    "    transform=ax.transAxes,\n",
    "    usetex=False,\n",
    ")\n",
    "plt.savefig(\"plots/h_dE_over_E_vs_E_reco.png\")\n",
    "plt.savefig(\"plots/h_dE_over_E_vs_E_reco.pdf\")"
   ]
  },
  {
   "cell_type": "code",
   "execution_count": null,
   "id": "49",
   "metadata": {},
   "outputs": [],
   "source": [
    "np.mean(\n",
    "    h_dE_over_E_vs_E_reco.values(), axis=1, where=h_dE_over_E_vs_E_reco.values() != 0\n",
    ")"
   ]
  },
  {
   "cell_type": "code",
   "execution_count": null,
   "id": "50",
   "metadata": {},
   "outputs": [],
   "source": [
    "nu_energy_pred[0]  # TODO how to get bin?"
   ]
  },
  {
   "cell_type": "code",
   "execution_count": null,
   "id": "51",
   "metadata": {},
   "outputs": [],
   "source": [
    "plt.errorbar(\n",
    "    x=np.logspace(4.5, 8, 15, base=np.e),\n",
    "    y=np.mean(\n",
    "        h_dE_over_E_vs_E_reco.values(),\n",
    "        axis=1,\n",
    "        where=h_dE_over_E_vs_E_reco.values() != 0,\n",
    "    ),\n",
    "    yerr=np.std(\n",
    "        h_dE_over_E_vs_E_reco.values(),\n",
    "        axis=1,\n",
    "        where=h_dE_over_E_vs_E_reco.values() != 0,\n",
    "    ),\n",
    "    linestyle=\"none\",\n",
    "    marker=\"o\",\n",
    ")\n",
    "\n",
    "ax = plt.gca()\n",
    "plt.text(\n",
    "    0.1,\n",
    "    0.5,\n",
    "    \"VERY PRELIMINARY\",\n",
    "    fontfamily=\"sans-serif\",\n",
    "    fontsize=30,\n",
    "    transform=ax.transAxes,\n",
    "    usetex=False,\n",
    "    color=\"gray\",\n",
    "    zorder=0,\n",
    "    alpha=0.5,\n",
    ")\n",
    "plt.text(\n",
    "    0.8,\n",
    "    1.02,\n",
    "    \"AdvSND\",\n",
    "    fontweight=\"bold\",\n",
    "    fontfamily=\"sans-serif\",\n",
    "    fontsize=16,\n",
    "    transform=ax.transAxes,\n",
    "    usetex=False,\n",
    ")\n",
    "# plt.plot(np.logspace(4.5, 8, 15, base=np.e), res.intercept + res.slope*np.linspace(np.exp(4.5), np.exp(8), 15), 'r', label='fitted line')\n",
    "plt.xlabel(r\"reconstructed $E\\;[\\mathrm{GeV}]$\")\n",
    "plt.ylabel(r\"$\\left<\\frac{\\Delta E}{E}\\right>$\")\n",
    "plt.savefig(\"plots/non_const_correction.png\")\n",
    "plt.savefig(\"plots/non_const_correction.pdf\")\n",
    "# TODO y-axis makes no sense!"
   ]
  },
  {
   "cell_type": "code",
   "execution_count": null,
   "id": "52",
   "metadata": {},
   "outputs": [],
   "source": [
    "res = scipy.stats.linregress(\n",
    "    np.linspace(np.exp(4.5), np.exp(8), 15),\n",
    "    np.mean(\n",
    "        h_dE_over_E_vs_E_reco.values(),\n",
    "        axis=1,\n",
    "        where=h_dE_over_E_vs_E_reco.values() != 0,\n",
    "    ),\n",
    ")"
   ]
  },
  {
   "cell_type": "code",
   "execution_count": null,
   "id": "53",
   "metadata": {},
   "outputs": [],
   "source": [
    "# Two-sided inverse Students t-distribution\n",
    "\n",
    "# p - probability, df - degrees of freedom\n",
    "\n",
    "\n",
    "tinv = lambda p, df: abs(t.ppf(p / 2, df))"
   ]
  },
  {
   "cell_type": "code",
   "execution_count": null,
   "id": "54",
   "metadata": {},
   "outputs": [],
   "source": [
    "ts = tinv(0.05, 15 - 2)\n",
    "\n",
    "print(f\"slope (95%): {res.slope:.6f} +/- {ts * res.stderr:.6f}\")\n",
    "\n",
    "print(f\"intercept (95%): {res.intercept:.6f} +/- {ts * res.intercept_stderr:.6f}\")"
   ]
  },
  {
   "cell_type": "code",
   "execution_count": null,
   "id": "55",
   "metadata": {},
   "outputs": [],
   "source": [
    "def E_true_vs_E_reco(E_true, E_reco, plot_name=\"h_E_true_vs_E_reco\"):\n",
    "    h_E_true_vs_E_reco = (\n",
    "        hist.Hist.new.Regular(100, 0, 5000, name=r\"E_true\")\n",
    "        .Regular(100, 0, 5000, name=r\"E_reco\")\n",
    "        .Double()\n",
    "    )\n",
    "    h_E_true_vs_E_reco.fill(E_true, E_reco)\n",
    "    h_E_true_vs_E_reco.plot()\n",
    "    plt.plot(sorted_E, sorted_E)\n",
    "    plt.xlabel(r\"true $E\\;[\\mathrm{GeV}]$\")\n",
    "    plt.ylabel(r\"reconstructed $E\\;[\\mathrm{GeV}]$\")\n",
    "    ax = plt.gca()\n",
    "    plt.text(\n",
    "        0.8,\n",
    "        1.02,\n",
    "        \"AdvSND\",\n",
    "        fontweight=\"bold\",\n",
    "        fontfamily=\"sans-serif\",\n",
    "        fontsize=16,\n",
    "        transform=ax.transAxes,\n",
    "        usetex=False,\n",
    "    )\n",
    "    plt.text(\n",
    "        0.0,\n",
    "        1.02,\n",
    "        \"preliminary\",\n",
    "        fontfamily=\"sans-serif\",\n",
    "        fontsize=16,\n",
    "        transform=ax.transAxes,\n",
    "        usetex=False,\n",
    "    )\n",
    "    plt.savefig(f\"plots/{plot_name}.png\")\n",
    "    plt.savefig(f\"plots/{plot_name}.pdf\")"
   ]
  },
  {
   "cell_type": "code",
   "execution_count": null,
   "id": "56",
   "metadata": {},
   "outputs": [],
   "source": [
    "# TODO average percentage difference per bin? Use to correct?"
   ]
  },
  {
   "cell_type": "code",
   "execution_count": null,
   "id": "57",
   "metadata": {},
   "outputs": [],
   "source": [
    "E_true_vs_E_reco(E, np.exp(nu_energy_pred))"
   ]
  },
  {
   "cell_type": "markdown",
   "id": "58",
   "metadata": {},
   "source": [
    "# Is the position independent of energy?"
   ]
  },
  {
   "cell_type": "code",
   "execution_count": null,
   "id": "59",
   "metadata": {},
   "outputs": [],
   "source": [
    "h_dE_over_E_vs_z = (\n",
    "    hist.Hist.new.Regular(50, -200, -80, name=r\"z\")\n",
    "    .Regular(50, -1, +4, name=r\"𝛥E/E\")\n",
    "    .Double()\n",
    ")"
   ]
  },
  {
   "cell_type": "code",
   "execution_count": null,
   "id": "60",
   "metadata": {},
   "outputs": [],
   "source": [
    "h_dE_over_E_vs_z.fill(start_z_test, dE_over_E)"
   ]
  },
  {
   "cell_type": "code",
   "execution_count": null,
   "id": "61",
   "metadata": {},
   "outputs": [],
   "source": [
    "h_dE_over_E_vs_dz = (\n",
    "    hist.Hist.new.Regular(50, -10, 10, name=r\"z\")\n",
    "    .Regular(50, -1, +4, name=r\"𝛥E/E\")\n",
    "    .Double()\n",
    ")"
   ]
  },
  {
   "cell_type": "code",
   "execution_count": null,
   "id": "62",
   "metadata": {},
   "outputs": [],
   "source": [
    "h_dE_over_E_vs_dz.fill(start_z_test - start_z_pred, dE_over_E)"
   ]
  },
  {
   "cell_type": "code",
   "execution_count": null,
   "id": "63",
   "metadata": {},
   "outputs": [],
   "source": [
    "h_dE_over_E_vs_dz.plot()\n",
    "plt.ylabel(r\"$\\frac{\\Delta E}{E}$\")\n",
    "plt.xlabel(r\"$\\Delta z\\;[\\mathrm{cm}]$\")\n",
    "ax = plt.gca()\n",
    "plt.text(\n",
    "    0.8,\n",
    "    1.02,\n",
    "    \"AdvSND\",\n",
    "    fontweight=\"bold\",\n",
    "    fontfamily=\"sans-serif\",\n",
    "    fontsize=16,\n",
    "    transform=ax.transAxes,\n",
    "    usetex=False,\n",
    ")\n",
    "plt.text(\n",
    "    0.0,\n",
    "    1.02,\n",
    "    \"preliminary\",\n",
    "    fontfamily=\"sans-serif\",\n",
    "    fontsize=16,\n",
    "    transform=ax.transAxes,\n",
    "    usetex=False,\n",
    ")\n",
    "plt.savefig(\"plots/h_dE_over_E_vs_dz.pdf\")\n",
    "plt.savefig(\"plots/h_dE_over_E_vs_dz.png\")"
   ]
  },
  {
   "cell_type": "code",
   "execution_count": null,
   "id": "64",
   "metadata": {},
   "outputs": [],
   "source": [
    "h_dE_over_E_vs_z.plot()\n",
    "plt.ylabel(r\"$\\frac{\\Delta E}{E}$\")\n",
    "plt.xlabel(r\"$z\\;[\\mathrm{cm}]$\")\n",
    "ax = plt.gca()\n",
    "plt.text(\n",
    "    0.8,\n",
    "    1.02,\n",
    "    \"AdvSND\",\n",
    "    fontweight=\"bold\",\n",
    "    fontfamily=\"sans-serif\",\n",
    "    fontsize=16,\n",
    "    transform=ax.transAxes,\n",
    "    usetex=False,\n",
    ")\n",
    "plt.text(\n",
    "    0.0,\n",
    "    1.02,\n",
    "    \"preliminary\",\n",
    "    fontfamily=\"sans-serif\",\n",
    "    fontsize=16,\n",
    "    transform=ax.transAxes,\n",
    "    usetex=False,\n",
    ")\n",
    "plt.savefig(\"plots/h_dE_over_E_vs_z.pdf\")\n",
    "plt.savefig(\"plots/h_dE_over_E_vs_z.png\")"
   ]
  },
  {
   "cell_type": "markdown",
   "id": "65",
   "metadata": {},
   "source": [
    "Position resolution seems independent of energy, can smear true position using position resolution."
   ]
  },
  {
   "cell_type": "markdown",
   "id": "66",
   "metadata": {},
   "source": [
    "## Smear start by gaussian and retrain energy regressions"
   ]
  },
  {
   "cell_type": "code",
   "execution_count": null,
   "id": "67",
   "metadata": {},
   "outputs": [],
   "source": [
    "scipy.stats.norm(\n",
    "    loc=np.mean(start_z_test - start_z_pred), scale=np.std(start_z_test - start_z_pred)\n",
    ").rvs(10000)  # TODO update with values from fit"
   ]
  },
  {
   "cell_type": "code",
   "execution_count": null,
   "id": "68",
   "metadata": {},
   "outputs": [],
   "source": [
    "df[\"z_smeared\"] = start_z + scipy.stats.norm(\n",
    "    loc=np.mean(start_z_test - start_z_pred), scale=np.std(start_z_test - start_z_pred)\n",
    ").rvs(10000)"
   ]
  },
  {
   "cell_type": "code",
   "execution_count": null,
   "id": "69",
   "metadata": {},
   "outputs": [],
   "source": [
    "X = df.values"
   ]
  },
  {
   "cell_type": "code",
   "execution_count": null,
   "id": "70",
   "metadata": {},
   "outputs": [],
   "source": [
    "X_train, X_test, nu_energy_train, nu_energy_test = train_test_split(\n",
    "    X, nu_energy, random_state=0\n",
    ")"
   ]
  },
  {
   "cell_type": "code",
   "execution_count": null,
   "id": "71",
   "metadata": {},
   "outputs": [],
   "source": [
    "\"\"\"\n",
    "bdt_opt_smeared = BayesSearchCV(\n",
    "    AdaBoostRegressor(),\n",
    "    {\n",
    "    'learning_rate': Real(0.005, 0.9, prior=\"log-uniform\"),\n",
    "    'n_estimators': Integer(1, 1000),\n",
    "},\n",
    "    n_iter=20,\n",
    "    cv=3\n",
    ")\n",
    "\n",
    "bdt_opt_smeared.fit(X_train[:1000], nu_energy_train[:1000])\n",
    "\"\"\""
   ]
  },
  {
   "cell_type": "code",
   "execution_count": null,
   "id": "72",
   "metadata": {},
   "outputs": [],
   "source": [
    "\"\"\"\n",
    "bdt_opt_smeared.best_params_\n",
    "\"\"\""
   ]
  },
  {
   "cell_type": "code",
   "execution_count": null,
   "id": "73",
   "metadata": {},
   "outputs": [],
   "source": [
    "estimate_nu_energy_with_smeared_z = AdaBoostRegressor(\n",
    "    random_state=0, learning_rate=0.08, n_estimators=610\n",
    ")\n",
    "\n",
    "estimate_nu_energy_with_smeared_z.fit(X_train, nu_energy_train)"
   ]
  },
  {
   "cell_type": "code",
   "execution_count": null,
   "id": "74",
   "metadata": {},
   "outputs": [],
   "source": [
    "nu_energy_pred = estimate_nu_energy_with_smeared_z.predict(X_test)\n",
    "\n",
    "estimate_nu_energy_with_smeared_z.score(X_test, nu_energy_test)"
   ]
  },
  {
   "cell_type": "code",
   "execution_count": null,
   "id": "75",
   "metadata": {},
   "outputs": [],
   "source": [
    "plt.hist(np.exp(nu_energy_test) - np.exp(nu_energy_pred))"
   ]
  },
  {
   "cell_type": "markdown",
   "id": "76",
   "metadata": {},
   "source": [
    "* Shouldn't have expected improvement just because of smeared (or even *true* z).\n",
    "* Important to translate strips per station by the start station (how to deal with HCAL?)"
   ]
  },
  {
   "cell_type": "code",
   "execution_count": null,
   "id": "77",
   "metadata": {},
   "outputs": [],
   "source": [
    "plt.hist(start_z - min(start_z))"
   ]
  },
  {
   "cell_type": "code",
   "execution_count": null,
   "id": "78",
   "metadata": {},
   "outputs": [],
   "source": [
    "df[\"smeared_start_station\"] = np.clip(\n",
    "    ((df.z_smeared - (-232.3746)) / 1.5).astype(int), 0, 99\n",
    ")"
   ]
  },
  {
   "cell_type": "code",
   "execution_count": null,
   "id": "79",
   "metadata": {},
   "outputs": [],
   "source": [
    "absolute_strip_counts = df[[f\"target_n_hits_station_{n}\" for n in range(100)]].values"
   ]
  },
  {
   "cell_type": "code",
   "execution_count": null,
   "id": "80",
   "metadata": {},
   "outputs": [],
   "source": [
    "A = absolute_strip_counts"
   ]
  },
  {
   "cell_type": "code",
   "execution_count": null,
   "id": "81",
   "metadata": {},
   "outputs": [],
   "source": [
    "r = -df.smeared_start_station.values"
   ]
  },
  {
   "cell_type": "code",
   "execution_count": null,
   "id": "82",
   "metadata": {},
   "outputs": [],
   "source": [
    "# https://stackoverflow.com/a/20361561\n",
    "\n",
    "rows, column_indices = np.ogrid[: A.shape[0], : A.shape[1]]\n",
    "\n",
    "# Always use a negative shift, so that column_indices are valid.\n",
    "# Alternative: r %= A.shape[1]\n",
    "r[r < 0] += A.shape[1]\n",
    "column_indices = column_indices - r[:, np.newaxis]\n",
    "\n",
    "result = A[rows, column_indices]"
   ]
  },
  {
   "cell_type": "code",
   "execution_count": null,
   "id": "83",
   "metadata": {},
   "outputs": [],
   "source": [
    "X_relative = result"
   ]
  },
  {
   "cell_type": "code",
   "execution_count": null,
   "id": "84",
   "metadata": {},
   "outputs": [],
   "source": [
    "X_relative = np.concatenate([X[:, 1:-2], result], axis=1)"
   ]
  },
  {
   "cell_type": "code",
   "execution_count": null,
   "id": "85",
   "metadata": {},
   "outputs": [],
   "source": [
    "X_rel_train, X_rel_test, log_E_rel_train, log_E_rel_test = train_test_split(\n",
    "    X_relative, nu_energy, random_state=0\n",
    ")"
   ]
  },
  {
   "cell_type": "code",
   "execution_count": null,
   "id": "86",
   "metadata": {},
   "outputs": [],
   "source": [
    "estimate_nu_energy_rel = AdaBoostRegressor(\n",
    "    random_state=0, learning_rate=0.1, n_estimators=500\n",
    ")\n",
    "estimate_nu_energy_rel.fit(X_rel_train, log_E_rel_train)"
   ]
  },
  {
   "cell_type": "code",
   "execution_count": null,
   "id": "87",
   "metadata": {},
   "outputs": [],
   "source": [
    "log_E_rel_pred = estimate_nu_energy_rel.predict(X_rel_test)\n",
    "estimate_nu_energy_rel.score(X_rel_test, log_E_rel_test)"
   ]
  },
  {
   "cell_type": "code",
   "execution_count": null,
   "id": "88",
   "metadata": {},
   "outputs": [],
   "source": [
    "# TODO missing global info and HCAL info!\n",
    "# TODO how to make the HCAL info relative to position?"
   ]
  },
  {
   "cell_type": "code",
   "execution_count": null,
   "id": "89",
   "metadata": {},
   "outputs": [],
   "source": [
    "E_rel_pred = np.exp(log_E_rel_pred)\n",
    "E_rel_test = np.exp(log_E_rel_test)"
   ]
  },
  {
   "cell_type": "code",
   "execution_count": null,
   "id": "90",
   "metadata": {},
   "outputs": [],
   "source": [
    "dE_rel = E_rel_pred - E_rel_test"
   ]
  },
  {
   "cell_type": "code",
   "execution_count": null,
   "id": "91",
   "metadata": {},
   "outputs": [],
   "source": [
    "dE_over_E_rel = dE_rel / E_rel_test"
   ]
  },
  {
   "cell_type": "code",
   "execution_count": null,
   "id": "92",
   "metadata": {},
   "outputs": [],
   "source": [
    "h_dE_over_E_rel_vs_E_rel_test = (\n",
    "    hist.Hist.new.Regular(50, 0, 5000, name=r\"E\")\n",
    "    .Regular(50, -1, +1, name=r\"𝛥E/E\")\n",
    "    .Double()\n",
    ")"
   ]
  },
  {
   "cell_type": "code",
   "execution_count": null,
   "id": "93",
   "metadata": {},
   "outputs": [],
   "source": [
    "h_dE_over_E_rel_vs_E_rel_test.fill(E_rel_test, dE_over_E_rel)"
   ]
  },
  {
   "cell_type": "code",
   "execution_count": null,
   "id": "94",
   "metadata": {},
   "outputs": [],
   "source": [
    "h_dE_over_E_rel_vs_E_rel_test.plot()\n",
    "ax = plt.gca()\n",
    "plt.text(\n",
    "    0.8,\n",
    "    1.02,\n",
    "    \"AdvSND\",\n",
    "    fontweight=\"bold\",\n",
    "    fontfamily=\"sans-serif\",\n",
    "    fontsize=16,\n",
    "    transform=ax.transAxes,\n",
    "    usetex=False,\n",
    ")\n",
    "plt.xlabel(r\"true $E\\;[\\mathrm{GeV}]$\")\n",
    "plt.ylabel(r\"$\\frac{\\Delta E}{E}$\")\n",
    "# plt.legend(loc='upper left', bbox_to_anchor=(0.2, 1.13))\n",
    "plt.text(\n",
    "    0.0,\n",
    "    1.02,\n",
    "    \"preliminary\",\n",
    "    fontfamily=\"sans-serif\",\n",
    "    fontsize=16,\n",
    "    transform=ax.transAxes,\n",
    "    usetex=False,\n",
    ")\n",
    "plt.savefig(\"plots/h_dE_over_E_rel_vs_E_rel_test.pdf\")\n",
    "plt.savefig(\"plots/h_dE_over_E_rel_vs_E_rel_test.png\")"
   ]
  },
  {
   "cell_type": "code",
   "execution_count": null,
   "id": "95",
   "metadata": {},
   "outputs": [],
   "source": [
    "E_true_vs_E_reco(E_rel_test, E_rel_pred, plot_name=\"h_E_rel_test_vs_E_rel_pred\")"
   ]
  },
  {
   "cell_type": "code",
   "execution_count": null,
   "id": "96",
   "metadata": {},
   "outputs": [],
   "source": [
    "h_dE_over_E_rel = hist.Hist.new.Regular(50, -5, +5, name=r\"𝛥E/E\").Double()"
   ]
  },
  {
   "cell_type": "code",
   "execution_count": null,
   "id": "97",
   "metadata": {},
   "outputs": [],
   "source": [
    "h_dE_over_E_rel.fill(dE_over_E_rel)"
   ]
  },
  {
   "cell_type": "code",
   "execution_count": null,
   "id": "98",
   "metadata": {},
   "outputs": [],
   "source": [
    "# h_nu_energy.plot(label=\"BDT\")\n",
    "# h_nu_energy_corrected.plot(label=\"+correction of average\")\n",
    "h_dE_over_E_rel.plot(label=\"+relative ECAL info\")\n",
    "plt.xlabel(r\"$\\frac{\\Delta E}{E}$\")\n",
    "# plt.legend()\n",
    "ax = plt.gca()\n",
    "plt.text(\n",
    "    0.0,\n",
    "    1.02,\n",
    "    \"preliminary\",\n",
    "    fontfamily=\"sans-serif\",\n",
    "    fontsize=16,\n",
    "    transform=ax.transAxes,\n",
    "    usetex=False,\n",
    ")\n",
    "plt.text(\n",
    "    0.8,\n",
    "    1.02,\n",
    "    \"AdvSND\",\n",
    "    fontweight=\"bold\",\n",
    "    fontfamily=\"sans-serif\",\n",
    "    fontsize=16,\n",
    "    transform=ax.transAxes,\n",
    "    usetex=False,\n",
    ")"
   ]
  },
  {
   "cell_type": "code",
   "execution_count": null,
   "id": "99",
   "metadata": {},
   "outputs": [],
   "source": [
    "bins_E_reco = 15"
   ]
  },
  {
   "cell_type": "code",
   "execution_count": null,
   "id": "100",
   "metadata": {},
   "outputs": [],
   "source": [
    "h_dE_rel_test_vs_E_rel_pred = (\n",
    "    hist.Hist.new.Regular(100, -3150, 950, name=r\"dE\")\n",
    "    .Regular(bins_E_reco, 60, 2200, name=r\"E_reco\", transform=hist.axis.transform.log)\n",
    "    .Double()\n",
    ")"
   ]
  },
  {
   "cell_type": "code",
   "execution_count": null,
   "id": "101",
   "metadata": {},
   "outputs": [],
   "source": [
    "h_dE_rel_test_vs_E_rel_pred.fill(dE_rel, E_rel_pred)"
   ]
  },
  {
   "cell_type": "code",
   "execution_count": null,
   "id": "102",
   "metadata": {},
   "outputs": [],
   "source": [
    "h_dE_rel_test_vs_E_rel_pred.plot()\n",
    "plt.xlabel(r\" $\\Delta E\\;[\\mathrm{GeV}]$\")\n",
    "plt.ylabel(r\"reconstructed $E\\;[\\mathrm{GeV}]$\")\n",
    "ax = plt.gca()\n",
    "plt.text(\n",
    "    0.8,\n",
    "    1.02,\n",
    "    \"AdvSND\",\n",
    "    fontweight=\"bold\",\n",
    "    fontfamily=\"sans-serif\",\n",
    "    fontsize=16,\n",
    "    transform=ax.transAxes,\n",
    "    usetex=False,\n",
    ")\n",
    "plt.text(\n",
    "    0.0,\n",
    "    1.02,\n",
    "    \"preliminary\",\n",
    "    fontfamily=\"sans-serif\",\n",
    "    fontsize=16,\n",
    "    transform=ax.transAxes,\n",
    "    usetex=False,\n",
    ")\n",
    "plt.savefig(\"plots/h_dE_rel_test_vs_E_rel_pred.pdf\")\n",
    "plt.savefig(\"plots/h_dE_rel_test_vs_E_rel_pred.png\")"
   ]
  },
  {
   "cell_type": "code",
   "execution_count": null,
   "id": "103",
   "metadata": {},
   "outputs": [],
   "source": [
    "def model(x, mu, sigma):\n",
    "    return scipy.stats.norm.cdf(x, loc=mu, scale=sigma)"
   ]
  },
  {
   "cell_type": "code",
   "execution_count": null,
   "id": "104",
   "metadata": {},
   "outputs": [],
   "source": [
    "gs = grid_spec.GridSpec(bins_E_reco, 1)\n",
    "fig = plt.figure(figsize=(16, 9))\n",
    "\n",
    "i = 0\n",
    "mus = []\n",
    "sigmas = []\n",
    "bins = []\n",
    "\n",
    "ax_objs = []\n",
    "for bin in range(bins_E_reco):\n",
    "    # country = countries[i]\n",
    "    # = np.array(data[data.country == country].score)\n",
    "    # x_d = np.linspace(0,1, 1000)\n",
    "\n",
    "    # creating new axes object\n",
    "    ax_objs.append(fig.add_subplot(gs[i : i + 1, 0:]))\n",
    "\n",
    "    # plotting the distribution\n",
    "    h = h_dE_rel_test_vs_E_rel_pred[:, bin]\n",
    "    h.plot(yerr=False, ax=ax_objs[-1], color=colors[bin % len(colors)], histtype=\"fill\")\n",
    "    entries, edges = h.to_numpy()\n",
    "    n_bins = len(entries)\n",
    "    m = Minuit(cost.BinnedNLL(entries, edges, model), 0, 25)\n",
    "    res = m.migrad()\n",
    "    if res.valid:\n",
    "        plot_range = ax_objs[-1].get_xlim()\n",
    "        x = np.linspace(*plot_range, 100)\n",
    "        best_fit = scipy.stats.norm(res.params[0].value, res.params[1].value)\n",
    "        binsize = (plot_range[1] - plot_range[0]) / n_bins\n",
    "        scale = (\n",
    "            h.sum()\n",
    "            / (best_fit.cdf(plot_range[1]) - best_fit.cdf(plot_range[0]))\n",
    "            * binsize\n",
    "        )\n",
    "        ax_objs[-1].plot(\n",
    "            x, scale * best_fit.pdf(x), color=colors[(bin + 3) % len(colors)]\n",
    "        )\n",
    "        bins.append(bin)\n",
    "        mus.append(res.params[0])\n",
    "        sigmas.append(res.params[1])\n",
    "    else:\n",
    "        print(res)\n",
    "\n",
    "    # setting uniform x and y lims\n",
    "    # ax_objs[-1].set_ylim(0,2.5)\n",
    "\n",
    "    # make background transparent\n",
    "    rect = ax_objs[-1].patch\n",
    "    rect.set_alpha(0)\n",
    "\n",
    "    # remove borders, axis ticks, and labels\n",
    "    ax_objs[-1].set_yticklabels([])\n",
    "\n",
    "    if i == bins_E_reco - 1:\n",
    "        ax_objs[-1].set_xlabel(r\"$\\Delta E$\", fontsize=16, fontweight=\"bold\")\n",
    "    else:\n",
    "        ax_objs[-1].set_xticklabels([])\n",
    "        ax_objs[-1].set_xlabel(\"\")\n",
    "\n",
    "    ax_objs[-1].set_ylabel(str(bin), rotation=45)\n",
    "    ax_objs[-1].set_yticks([])\n",
    "    ax_objs[-1].set_xticks([])\n",
    "\n",
    "    spines = [\"top\", \"right\", \"left\", \"bottom\"]\n",
    "    for s in spines:\n",
    "        ax_objs[-1].spines[s].set_visible(False)\n",
    "\n",
    "    #  ax_objs[-1].text(-0.02,0,adj_country,fontweight=\"bold\",fontsize=14,ha=\"right\")\n",
    "\n",
    "    i += 1\n",
    "\n",
    "gs.update(hspace=-0.7)\n",
    "# gs.update()\n",
    "\n",
    "plt.tight_layout()\n",
    "plt.show()"
   ]
  },
  {
   "cell_type": "code",
   "execution_count": null,
   "id": "105",
   "metadata": {},
   "outputs": [],
   "source": [
    "bin_edges = h_dE_rel_test_vs_E_rel_pred[0, :].to_numpy()[1]\n",
    "bin_centres = (bin_edges[1:] + bin_edges[:-1]) / 2\n",
    "bin_half_widths = (bin_edges[1:] - bin_edges[:-1]) / 2"
   ]
  },
  {
   "cell_type": "code",
   "execution_count": null,
   "id": "106",
   "metadata": {},
   "outputs": [],
   "source": [
    "fig, ax1 = plt.subplots()\n",
    "\n",
    "ax2 = ax1.twinx()\n",
    "ax1.set_xlabel(\"X data\")\n",
    "ax1.set_ylabel(\"Y1 data\", color=\"g\")\n",
    "ax2.set_ylabel(\"Y2 data\", color=\"b\")\n",
    "ax1.errorbar(\n",
    "    bin_centres[bins],\n",
    "    [mu.value for mu in mus] / bin_centres[bins],\n",
    "    xerr=bin_half_widths[bins],\n",
    "    yerr=[mu.error for mu in mus] / bin_centres[bins],\n",
    "    linestyle=\"\",\n",
    "    label=r\"$\\left<\\Delta E\\right>$\",\n",
    "    color=colors[0],\n",
    ")\n",
    "ax2.errorbar(\n",
    "    bin_centres[bins],\n",
    "    [sigma.value for sigma in sigmas] / bin_centres[bins],\n",
    "    xerr=bin_half_widths[bins],\n",
    "    yerr=[sigma.error for sigma in sigmas] / bin_centres[bins],\n",
    "    linestyle=\"\",\n",
    "    label=r\"$\\sigma\\left(\\Delta E\\right)$\",\n",
    "    color=colors[1],\n",
    ")\n",
    "# ax1.hlines(0, *plt.xlim(), color='red')\n",
    "ax1.set_ylabel(r\"$\\frac{\\left<\\Delta E\\right>}{E_\\mathrm{reco}}$\", color=colors[0])\n",
    "ax2.set_ylabel(\n",
    "    r\"$\\frac{\\sigma\\left(\\Delta E\\right)}{E_\\mathrm{reco}}$\", color=colors[1]\n",
    ")\n",
    "ax1.set_xlabel(r\"$E_\\mathrm{reco}\\;[\\mathrm{GeV}]$\")"
   ]
  },
  {
   "cell_type": "code",
   "execution_count": null,
   "id": "107",
   "metadata": {},
   "outputs": [],
   "source": [
    "plt.errorbar(\n",
    "    bin_centres[bins],\n",
    "    [mu.value for mu in mus] / bin_centres[bins],\n",
    "    xerr=bin_half_widths[bins],\n",
    "    yerr=[mu.error for mu in mus] / bin_centres[bins],\n",
    "    linestyle=\"\",\n",
    "    label=r\"$\\left<\\Delta E\\right>$\",\n",
    "    color=colors[0],\n",
    ")\n",
    "plt.hlines(0, *plt.xlim(), color=\"red\")\n",
    "plt.ylabel(r\"$\\frac{\\left<\\Delta E\\right>}{E_\\mathrm{reco}}$\")\n",
    "plt.xlabel(r\"$E_\\mathrm{reco}\\;[\\mathrm{GeV}]$\")\n",
    "ax = plt.gca()\n",
    "plt.text(\n",
    "    0.0,\n",
    "    1.02,\n",
    "    \"preliminary\",\n",
    "    fontfamily=\"sans-serif\",\n",
    "    fontsize=16,\n",
    "    transform=ax.transAxes,\n",
    "    usetex=False,\n",
    ")\n",
    "plt.text(\n",
    "    0.8,\n",
    "    1.02,\n",
    "    \"AdvSND\",\n",
    "    fontweight=\"bold\",\n",
    "    fontfamily=\"sans-serif\",\n",
    "    fontsize=16,\n",
    "    transform=ax.transAxes,\n",
    "    usetex=False,\n",
    ")\n",
    "plt.savefig(\"plots/energy_bias.pdf\")\n",
    "plt.savefig(\"plots/energy_bias.png\")"
   ]
  },
  {
   "cell_type": "code",
   "execution_count": null,
   "id": "108",
   "metadata": {},
   "outputs": [],
   "source": [
    "plt.errorbar(\n",
    "    bin_centres[bins],\n",
    "    [sigma.value for sigma in sigmas] / bin_centres[bins],\n",
    "    xerr=bin_half_widths[bins],\n",
    "    yerr=[sigma.error for sigma in sigmas] / bin_centres[bins],\n",
    "    linestyle=\"\",\n",
    "    label=r\"$\\sigma\\left(\\Delta E\\right)$\",\n",
    "    color=colors[1],\n",
    ")\n",
    "plt.ylabel(r\"$\\frac{\\sigma\\left(\\Delta E\\right)}{E_\\mathrm{reco}}$\")\n",
    "plt.xlabel(r\"$E_\\mathrm{reco}\\;[\\mathrm{GeV}]$\")\n",
    "ax = plt.gca()\n",
    "plt.text(\n",
    "    0.0,\n",
    "    1.02,\n",
    "    \"preliminary\",\n",
    "    fontfamily=\"sans-serif\",\n",
    "    fontsize=16,\n",
    "    transform=ax.transAxes,\n",
    "    usetex=False,\n",
    ")\n",
    "plt.text(\n",
    "    0.8,\n",
    "    1.02,\n",
    "    \"AdvSND\",\n",
    "    fontweight=\"bold\",\n",
    "    fontfamily=\"sans-serif\",\n",
    "    fontsize=16,\n",
    "    transform=ax.transAxes,\n",
    "    usetex=False,\n",
    ")\n",
    "plt.savefig(\"plots/energy_resolution.pdf\")\n",
    "plt.savefig(\"plots/energy_resolution.png\")"
   ]
  },
  {
   "cell_type": "code",
   "execution_count": null,
   "id": "109",
   "metadata": {},
   "outputs": [],
   "source": []
  }
 ],
 "metadata": {
  "kernelspec": {
   "display_name": "Python 3 (ipykernel)",
   "language": "python",
   "name": "python3"
  },
  "language_info": {
   "codemirror_mode": {
    "name": "ipython",
    "version": 3
   },
   "file_extension": ".py",
   "mimetype": "text/x-python",
   "name": "python",
   "nbconvert_exporter": "python",
   "pygments_lexer": "ipython3",
   "version": "3.12.4"
  }
 },
 "nbformat": 4,
 "nbformat_minor": 5
}
